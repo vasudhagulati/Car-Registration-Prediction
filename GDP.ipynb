{
 "cells": [
  {
   "cell_type": "code",
   "execution_count": 1,
   "id": "71290802",
   "metadata": {},
   "outputs": [],
   "source": [
    "# Initialising required libraries\n",
    "import pandas as pd\n",
    "import numpy as np\n",
    "import matplotlib.pyplot as plt\n",
    "import datetime\n",
    "import numpy as np\n",
    "from datetime import datetime\n",
    "from sklearn import metrics"
   ]
  },
  {
   "cell_type": "code",
   "execution_count": 2,
   "id": "69043a86",
   "metadata": {},
   "outputs": [
    {
     "data": {
      "text/html": [
       "<div>\n",
       "<style scoped>\n",
       "    .dataframe tbody tr th:only-of-type {\n",
       "        vertical-align: middle;\n",
       "    }\n",
       "\n",
       "    .dataframe tbody tr th {\n",
       "        vertical-align: top;\n",
       "    }\n",
       "\n",
       "    .dataframe thead th {\n",
       "        text-align: right;\n",
       "    }\n",
       "</style>\n",
       "<table border=\"1\" class=\"dataframe\">\n",
       "  <thead>\n",
       "    <tr style=\"text-align: right;\">\n",
       "      <th></th>\n",
       "      <th>DATE</th>\n",
       "      <th>GDP</th>\n",
       "    </tr>\n",
       "  </thead>\n",
       "  <tbody>\n",
       "    <tr>\n",
       "      <th>0</th>\n",
       "      <td>3/31/1989</td>\n",
       "      <td>3.160000e+11</td>\n",
       "    </tr>\n",
       "    <tr>\n",
       "      <th>1</th>\n",
       "      <td>6/30/1989</td>\n",
       "      <td>3.180000e+11</td>\n",
       "    </tr>\n",
       "    <tr>\n",
       "      <th>2</th>\n",
       "      <td>9/30/1989</td>\n",
       "      <td>3.180000e+11</td>\n",
       "    </tr>\n",
       "    <tr>\n",
       "      <th>3</th>\n",
       "      <td>12/31/1989</td>\n",
       "      <td>3.180000e+11</td>\n",
       "    </tr>\n",
       "    <tr>\n",
       "      <th>4</th>\n",
       "      <td>3/31/1990</td>\n",
       "      <td>3.200000e+11</td>\n",
       "    </tr>\n",
       "    <tr>\n",
       "      <th>...</th>\n",
       "      <td>...</td>\n",
       "      <td>...</td>\n",
       "    </tr>\n",
       "    <tr>\n",
       "      <th>131</th>\n",
       "      <td>12/31/2021</td>\n",
       "      <td>5.550000e+11</td>\n",
       "    </tr>\n",
       "    <tr>\n",
       "      <th>132</th>\n",
       "      <td>3/31/2022</td>\n",
       "      <td>5.590000e+11</td>\n",
       "    </tr>\n",
       "    <tr>\n",
       "      <th>133</th>\n",
       "      <td>6/30/2022</td>\n",
       "      <td>5.600000e+11</td>\n",
       "    </tr>\n",
       "    <tr>\n",
       "      <th>134</th>\n",
       "      <td>9/30/2022</td>\n",
       "      <td>NaN</td>\n",
       "    </tr>\n",
       "    <tr>\n",
       "      <th>135</th>\n",
       "      <td>12/31/2022</td>\n",
       "      <td>NaN</td>\n",
       "    </tr>\n",
       "  </tbody>\n",
       "</table>\n",
       "<p>136 rows × 2 columns</p>\n",
       "</div>"
      ],
      "text/plain": [
       "           DATE           GDP\n",
       "0     3/31/1989  3.160000e+11\n",
       "1     6/30/1989  3.180000e+11\n",
       "2     9/30/1989  3.180000e+11\n",
       "3    12/31/1989  3.180000e+11\n",
       "4     3/31/1990  3.200000e+11\n",
       "..          ...           ...\n",
       "131  12/31/2021  5.550000e+11\n",
       "132   3/31/2022  5.590000e+11\n",
       "133   6/30/2022  5.600000e+11\n",
       "134   9/30/2022           NaN\n",
       "135  12/31/2022           NaN\n",
       "\n",
       "[136 rows x 2 columns]"
      ]
     },
     "execution_count": 2,
     "metadata": {},
     "output_type": "execute_result"
    }
   ],
   "source": [
    "df_GDP = pd.read_csv(\"PCDA_UNCLEANED/GDP_UK_Quarterly.csv\")\n",
    "df_GDP"
   ]
  },
  {
   "cell_type": "code",
   "execution_count": 3,
   "id": "e266635a",
   "metadata": {},
   "outputs": [
    {
     "data": {
      "text/html": [
       "<div>\n",
       "<style scoped>\n",
       "    .dataframe tbody tr th:only-of-type {\n",
       "        vertical-align: middle;\n",
       "    }\n",
       "\n",
       "    .dataframe tbody tr th {\n",
       "        vertical-align: top;\n",
       "    }\n",
       "\n",
       "    .dataframe thead th {\n",
       "        text-align: right;\n",
       "    }\n",
       "</style>\n",
       "<table border=\"1\" class=\"dataframe\">\n",
       "  <thead>\n",
       "    <tr style=\"text-align: right;\">\n",
       "      <th></th>\n",
       "      <th>DATE</th>\n",
       "      <th>GDP</th>\n",
       "    </tr>\n",
       "  </thead>\n",
       "  <tbody>\n",
       "    <tr>\n",
       "      <th>0</th>\n",
       "      <td>3/31/1989</td>\n",
       "      <td>3.160000e+11</td>\n",
       "    </tr>\n",
       "    <tr>\n",
       "      <th>1</th>\n",
       "      <td>6/30/1989</td>\n",
       "      <td>3.180000e+11</td>\n",
       "    </tr>\n",
       "    <tr>\n",
       "      <th>2</th>\n",
       "      <td>9/30/1989</td>\n",
       "      <td>3.180000e+11</td>\n",
       "    </tr>\n",
       "    <tr>\n",
       "      <th>3</th>\n",
       "      <td>12/31/1989</td>\n",
       "      <td>3.180000e+11</td>\n",
       "    </tr>\n",
       "    <tr>\n",
       "      <th>4</th>\n",
       "      <td>3/31/1990</td>\n",
       "      <td>3.200000e+11</td>\n",
       "    </tr>\n",
       "    <tr>\n",
       "      <th>...</th>\n",
       "      <td>...</td>\n",
       "      <td>...</td>\n",
       "    </tr>\n",
       "    <tr>\n",
       "      <th>129</th>\n",
       "      <td>6/30/2021</td>\n",
       "      <td>5.370000e+11</td>\n",
       "    </tr>\n",
       "    <tr>\n",
       "      <th>130</th>\n",
       "      <td>9/30/2021</td>\n",
       "      <td>5.460000e+11</td>\n",
       "    </tr>\n",
       "    <tr>\n",
       "      <th>131</th>\n",
       "      <td>12/31/2021</td>\n",
       "      <td>5.550000e+11</td>\n",
       "    </tr>\n",
       "    <tr>\n",
       "      <th>132</th>\n",
       "      <td>3/31/2022</td>\n",
       "      <td>5.590000e+11</td>\n",
       "    </tr>\n",
       "    <tr>\n",
       "      <th>133</th>\n",
       "      <td>6/30/2022</td>\n",
       "      <td>5.600000e+11</td>\n",
       "    </tr>\n",
       "  </tbody>\n",
       "</table>\n",
       "<p>134 rows × 2 columns</p>\n",
       "</div>"
      ],
      "text/plain": [
       "           DATE           GDP\n",
       "0     3/31/1989  3.160000e+11\n",
       "1     6/30/1989  3.180000e+11\n",
       "2     9/30/1989  3.180000e+11\n",
       "3    12/31/1989  3.180000e+11\n",
       "4     3/31/1990  3.200000e+11\n",
       "..          ...           ...\n",
       "129   6/30/2021  5.370000e+11\n",
       "130   9/30/2021  5.460000e+11\n",
       "131  12/31/2021  5.550000e+11\n",
       "132   3/31/2022  5.590000e+11\n",
       "133   6/30/2022  5.600000e+11\n",
       "\n",
       "[134 rows x 2 columns]"
      ]
     },
     "execution_count": 3,
     "metadata": {},
     "output_type": "execute_result"
    }
   ],
   "source": [
    "df_GDP=df_GDP.dropna()\n",
    "df_GDP"
   ]
  },
  {
   "cell_type": "code",
   "execution_count": 4,
   "id": "114f385d",
   "metadata": {},
   "outputs": [
    {
     "name": "stderr",
     "output_type": "stream",
     "text": [
      "C:\\Users\\Students\\AppData\\Local\\Temp\\ipykernel_19472\\2094676644.py:1: SettingWithCopyWarning: \n",
      "A value is trying to be set on a copy of a slice from a DataFrame.\n",
      "Try using .loc[row_indexer,col_indexer] = value instead\n",
      "\n",
      "See the caveats in the documentation: https://pandas.pydata.org/pandas-docs/stable/user_guide/indexing.html#returning-a-view-versus-a-copy\n",
      "  df_GDP['DATE'] = pd.to_datetime(df_GDP['DATE'])\n"
     ]
    }
   ],
   "source": [
    "df_GDP['DATE'] = pd.to_datetime(df_GDP['DATE'])"
   ]
  },
  {
   "cell_type": "code",
   "execution_count": 5,
   "id": "8b4e91ef",
   "metadata": {},
   "outputs": [
    {
     "data": {
      "image/png": "[encoded data removed]",
      "text/plain": [
       "<Figure size 432x288 with 1 Axes>"
      ]
     },
     "metadata": {
      "needs_background": "light"
     },
     "output_type": "display_data"
    }
   ],
   "source": [
    "plt.plot(df_GDP['DATE'], df_GDP['GDP'])\n",
    "plt.xticks(rotation=30, ha='right')\n",
    "plt.xlabel(\"GDP\")\n",
    "plt.ylabel(\"Date\")\n",
    "plt.rcParams['figure.figsize']=(12.8,7.2)"
   ]
  },
  {
   "cell_type": "markdown",
   "id": "156740e2",
   "metadata": {},
   "source": [
    "## The time series plot exhibits positve trend component. There is no clear sign of seasonal component in the data. We see a dip in the GDP on two occasion i.e 2008 economic recession and  see a sharp dip and rise in the GDP value during 2020 which during pendamic."
   ]
  },
  {
   "cell_type": "code",
   "execution_count": 7,
   "id": "d1972b62",
   "metadata": {},
   "outputs": [
    {
     "data": {
      "image/png": "[encoded data removed]",
      "text/plain": [
       "<Figure size 921.6x518.4 with 1 Axes>"
      ]
     },
     "metadata": {
      "needs_background": "light"
     },
     "output_type": "display_data"
    }
   ],
   "source": [
    "from statsmodels.graphics.tsaplots import plot_acf\n",
    "acf_plot = plot_acf(df_GDP['GDP'],lags=50)"
   ]
  },
  {
   "cell_type": "markdown",
   "id": "445c1519",
   "metadata": {},
   "source": [
    "### According to the ACF plot, the autocorrelations are not declining quickly toward zero which indicates a trend component. As this is quarterly data and there are no significant spikes at every 4th lag, there is no seasonal component\n",
    "\n",
    "### Due the pressence of Trend component, we can fit the data with below models\n",
    "    1. Holt's linear Exponential \n",
    "    2. Damped trend Exponential\n",
    "    3. Simple Linear Regression\n",
    "    4. ARIMA"
   ]
  },
  {
   "cell_type": "code",
   "execution_count": 8,
   "id": "0e397ea5",
   "metadata": {},
   "outputs": [],
   "source": [
    "from sklearn.model_selection import train_test_split\n",
    "from statsmodels.tsa.api import Holt,ExponentialSmoothing"
   ]
  },
  {
   "cell_type": "markdown",
   "id": "dd31428a",
   "metadata": {},
   "source": [
    "# Split the data in to test and Train"
   ]
  },
  {
   "cell_type": "code",
   "execution_count": 9,
   "id": "e2c23a01",
   "metadata": {},
   "outputs": [
    {
     "data": {
      "image/png": "[encoded data removed]",
      "text/plain": [
       "<Figure size 921.6x518.4 with 1 Axes>"
      ]
     },
     "metadata": {
      "needs_background": "light"
     },
     "output_type": "display_data"
    }
   ],
   "source": [
    "x1 = df_GDP.loc[:, df_GDP.columns == 'DATE'].to_numpy()\n",
    "y1 = df_GDP.loc[:, df_GDP.columns == 'GDP'].to_numpy()\n",
    "x1_train, x1_test,y1_train, y1_test = train_test_split(x1,y1, test_size=0.20, shuffle=False)\n",
    "x1_train\n",
    "plt.plot(x1_train,y1_train, color = \"black\")\n",
    "plt.plot(x1_test,y1_test, color = \"red\")\n",
    "plt.ylabel('GDP')\n",
    "plt.xlabel('Date')\n",
    "plt.xticks(rotation=45)\n",
    "plt.title(\"Train_Test split for GDP\")\n",
    "plt.rcParams['figure.figsize']=(12.8,7.2)\n",
    "plt.show()"
   ]
  },
  {
   "cell_type": "markdown",
   "id": "1284bb7b",
   "metadata": {},
   "source": [
    "## It will be interesting to watch for individual performance of the model, as train data accounts for 2008 economic depression and test data accounts for pandemic depression"
   ]
  },
  {
   "cell_type": "markdown",
   "id": "35895ca8",
   "metadata": {},
   "source": [
    "## Holt's linear Exponential model"
   ]
  },
  {
   "cell_type": "code",
   "execution_count": 10,
   "id": "1fe31f67",
   "metadata": {},
   "outputs": [],
   "source": [
    "def holt(x1,y1,y1_train,y1_test, period,x1_train,x1_test):\n",
    "    plt1 = plt.plot(x1,y1,color='black')\n",
    "    fit1 = Holt(y1_train).fit()\n",
    "    fcast1 = fit1.forecast(period)\n",
    "    #mse1_fit = ((fit1.fittedvalues - y1_train.squeeze()) ** 2).mean()\n",
    "    #mse1_acc = ((fcast1 - y1_test.squeeze()) ** 2).mean()\n",
    "    MAPE_fit= metrics.mean_absolute_percentage_error(y1_train, fit1.fittedvalues)\n",
    "    MAPE_acc = metrics.mean_absolute_percentage_error(y1_test, fcast1)\n",
    "    print(\"The MAPE for Model fit is\",MAPE_fit)\n",
    "    print(\"The MAPE for Model Acc is\",MAPE_acc)\n",
    "    #print('The Root Mean Squared Error of Model fit is {}'.format(round(np.sqrt(mse1_fit), 2)))\n",
    "    #print('The Root Mean Squared Error of Model accuracy is {}'.format(round(np.sqrt(mse1_acc), 2)))\n",
    "    plt2 = plt.plot(x1_train,fit1.fittedvalues, color='blue')\n",
    "    plt3 = plt.plot(x1_test,fcast1,color='red', marker=\"o\")\n",
    "    ax = plt.gca()\n",
    "    print(fit1.summary())\n",
    "    ax.legend([plt1[0],plt2[0],plt3[0]],[\"Actual\",\"Holt's fit\",\"Holt's Predict\"])\n",
    "    plt.xticks(rotation=30, ha='right')\n",
    "    plt.title(\"Holt’s Linear Smoothing\")\n",
    "    plt.show()"
   ]
  },
  {
   "cell_type": "code",
   "execution_count": 11,
   "id": "6211d71d",
   "metadata": {},
   "outputs": [
    {
     "name": "stderr",
     "output_type": "stream",
     "text": [
      "C:\\Users\\Students\\anaconda3\\lib\\site-packages\\statsmodels\\tsa\\holtwinters\\model.py:915: ConvergenceWarning: Optimization failed to converge. Check mle_retvals.\n",
      "  warnings.warn(\n"
     ]
    },
    {
     "name": "stdout",
     "output_type": "stream",
     "text": [
      "The MAPE for Model fit is 0.0039840415913893965\n",
      "The MAPE for Model Acc is 0.03817262947229202\n",
      "                                  Holt Model Results                                 \n",
      "=====================================================================================\n",
      "Dep. Variable:                  endog   No. Observations:                         107\n",
      "Model:                           Holt   SSE                 516147609076074020864.000\n",
      "Optimized:                       True   AIC                                  4611.150\n",
      "Trend:                       Additive   BIC                                  4621.842\n",
      "Seasonal:                        None   AICC                                 4611.990\n",
      "Seasonal Periods:                None   Date:                        Mon, 12 Dec 2022\n",
      "Box-Cox:                        False   Time:                                17:45:38\n",
      "Box-Cox Coeff.:                  None                                                \n",
      "==============================================================================\n",
      "                       coeff                 code              optimized      \n",
      "------------------------------------------------------------------------------\n",
      "smoothing_level            0.9242857                alpha                 True\n",
      "smoothing_trend            0.9242857                 beta                 True\n",
      "initial_level               3.16e+11                  l.0                 True\n",
      "initial_trend                  2e+09                  b.0                 True\n",
      "------------------------------------------------------------------------------\n"
     ]
    },
    {
     "data": {
      "image/png": "[encoded data removed]",
      "text/plain": [
       "<Figure size 921.6x518.4 with 1 Axes>"
      ]
     },
     "metadata": {
      "needs_background": "light"
     },
     "output_type": "display_data"
    }
   ],
   "source": [
    "holt(x1,y1, y1_train,y1_test,len(x1_test),x1_train,x1_test)"
   ]
  },
  {
   "cell_type": "markdown",
   "id": "61102f98",
   "metadata": {},
   "source": [
    "### The level smoothing parameter is \"0.9242857\" which indicates that a higher weight is assigned to the most recent observations.\n",
    "### The trend smoothing parameter of \"0.9242857\" indicates that the slope of the time series is Drastically changing\n",
    "### The MAPE for Model Acc is 0.03817262947229202, which indicate model peformance is good."
   ]
  },
  {
   "cell_type": "markdown",
   "id": "b3abde33",
   "metadata": {},
   "source": [
    "# Damped Trend Exponential"
   ]
  },
  {
   "cell_type": "code",
   "execution_count": 12,
   "id": "55ad0446",
   "metadata": {},
   "outputs": [],
   "source": [
    "def damped(x1,y1,y1_train,y1_test, period,x1_train,x1_test):\n",
    "    plt1 = plt.plot(x1,y1,color='black')\n",
    "    fit1 = ExponentialSmoothing(y1_train,trend='add',seasonal=None, damped_trend=True).fit()\n",
    "    fcast1 = fit1.forecast(period)\n",
    "   # mse1_fit = ((fit1.fittedvalues - y1_train.squeeze()) ** 2).mean()\n",
    "   # mse1_acc = ((fcast1 - y1_test.squeeze()) ** 2).mean()\n",
    "    MAPE_fit= metrics.mean_absolute_percentage_error(y1_train, fit1.fittedvalues)\n",
    "    MAPE_acc = metrics.mean_absolute_percentage_error(y1_test, fcast1)\n",
    "    print(\"The MAPE for Model fit is \",MAPE_fit)\n",
    "    print(\"The MAPE for Model Acc is \",MAPE_acc)\n",
    "    # print('The Root Mean Squared Error of Model fit is {}'.format(round(np.sqrt(mse1_fit), 2)))\n",
    "    # print('The Root Mean Squared Error of Model accuracy is {}'.format(round(np.sqrt(mse1_acc), 2)))\n",
    "    plt2 = plt.plot(x1_train,fit1.fittedvalues, color='blue')\n",
    "    plt3 = plt.plot(x1_test,fcast1,color='red', marker=\"o\")\n",
    "    \n",
    "    print(fit1.summary())\n",
    "    ax = plt.gca()\n",
    "    ax.legend([plt1[0],plt2[0],plt3[0]],[\"Actual\",\"Damped fit\",\"Damped Predict\"])\n",
    "    plt.xticks(rotation=30, ha='right')\n",
    "    plt.title(\"Damped Exponential Smoothing\")\n",
    "    plt.show()"
   ]
  },
  {
   "cell_type": "code",
   "execution_count": 13,
   "id": "40492d40",
   "metadata": {},
   "outputs": [
    {
     "name": "stdout",
     "output_type": "stream",
     "text": [
      "The MAPE for Model fit is  0.00402912143863932\n",
      "The MAPE for Model Acc is  0.035742011054135533\n",
      "                           ExponentialSmoothing Model Results                          \n",
      "=======================================================================================\n",
      "Dep. Variable:                    endog   No. Observations:                         107\n",
      "Model:             ExponentialSmoothing   SSE                 524295908078246035456.000\n",
      "Optimized:                         True   AIC                                  4614.826\n",
      "Trend:                         Additive   BIC                                  4628.190\n",
      "Seasonal:                          None   AICC                                 4615.958\n",
      "Seasonal Periods:                  None   Date:                        Mon, 12 Dec 2022\n",
      "Box-Cox:                          False   Time:                                17:47:25\n",
      "Box-Cox Coeff.:                    None                                                \n",
      "==============================================================================\n",
      "                       coeff                 code              optimized      \n",
      "------------------------------------------------------------------------------\n",
      "smoothing_level            0.9242857                alpha                 True\n",
      "smoothing_trend            0.9242857                 beta                 True\n",
      "initial_level             3.1847e+11                  l.0                 True\n",
      "initial_trend               -8.4e+07                  b.0                 True\n",
      "damping_trend              0.9900000                  phi                 True\n",
      "------------------------------------------------------------------------------\n"
     ]
    },
    {
     "name": "stderr",
     "output_type": "stream",
     "text": [
      "C:\\Users\\Students\\anaconda3\\lib\\site-packages\\statsmodels\\tsa\\holtwinters\\model.py:915: ConvergenceWarning: Optimization failed to converge. Check mle_retvals.\n",
      "  warnings.warn(\n"
     ]
    },
    {
     "data": {
      "image/png": "[encoded data removed]",
      "text/plain": [
       "<Figure size 921.6x518.4 with 1 Axes>"
      ]
     },
     "metadata": {
      "needs_background": "light"
     },
     "output_type": "display_data"
    }
   ],
   "source": [
    "damped(x1,y1, y1_train,y1_test,len(x1_test),x1_train,x1_test)"
   ]
  },
  {
   "cell_type": "markdown",
   "id": "e5870317",
   "metadata": {},
   "source": [
    "### The level smoothing parameter is \"0.9242857\" which indicates that a higher weight is assigned to the most recent observations.\n",
    "### The trend smoothing parameter of \"0.9242857\" indicates that the slope of the time series is Drastically changing.\n",
    "### The damping smoothing parameter is \"0.99000\" which indicates that there is hardly any damping is applied\n",
    "### The MAPE for Model Acc is 0.03574201, which indicate model peformance is good, infact doing better than Holt's model due damping nature."
   ]
  },
  {
   "cell_type": "markdown",
   "id": "25608040",
   "metadata": {},
   "source": [
    "# Simple Linear Regression"
   ]
  },
  {
   "cell_type": "code",
   "execution_count": 14,
   "id": "fbd9c626",
   "metadata": {},
   "outputs": [],
   "source": [
    "# Importing Linear Regression model from scikit learn\n",
    "from sklearn.linear_model import LinearRegression\n",
    "from sklearn import metrics\n",
    "from statsmodels.formula.api import ols\n",
    "import statsmodels.api as sm"
   ]
  },
  {
   "cell_type": "code",
   "execution_count": 15,
   "id": "0d7c6029",
   "metadata": {},
   "outputs": [
    {
     "name": "stderr",
     "output_type": "stream",
     "text": [
      "C:\\Users\\Students\\AppData\\Local\\Temp\\ipykernel_19472\\462039519.py:1: SettingWithCopyWarning: \n",
      "A value is trying to be set on a copy of a slice from a DataFrame.\n",
      "Try using .loc[row_indexer,col_indexer] = value instead\n",
      "\n",
      "See the caveats in the documentation: https://pandas.pydata.org/pandas-docs/stable/user_guide/indexing.html#returning-a-view-versus-a-copy\n",
      "  df_GDP['DateIndex'] = np.arange(len(df_GDP.index))\n"
     ]
    }
   ],
   "source": [
    "df_GDP['DateIndex'] = np.arange(len(df_GDP.index))"
   ]
  },
  {
   "cell_type": "code",
   "execution_count": 16,
   "id": "fa788e72",
   "metadata": {},
   "outputs": [],
   "source": [
    "X = df_GDP.loc[:, df_GDP.columns == 'DateIndex']\n",
    "y = df_GDP.loc[:, df_GDP.columns == 'GDP']\n",
    "\n",
    "X = np.array(X).reshape((-1, 1))\n",
    "X_train, X_test,y_train, y_test = train_test_split(X,y, test_size=0.20, shuffle=False)\n",
    "X_test\n",
    "X_test = np.array(X_test).reshape((-1, 1))"
   ]
  },
  {
   "cell_type": "code",
   "execution_count": 17,
   "id": "ababb404",
   "metadata": {},
   "outputs": [
    {
     "data": {
      "text/html": [
       "<table class=\"simpletable\">\n",
       "<caption>OLS Regression Results</caption>\n",
       "<tr>\n",
       "  <th>Dep. Variable:</th>           <td>GDP</td>       <th>  R-squared (uncentered):</th>      <td>   0.866</td>\n",
       "</tr>\n",
       "<tr>\n",
       "  <th>Model:</th>                   <td>OLS</td>       <th>  Adj. R-squared (uncentered):</th> <td>   0.864</td>\n",
       "</tr>\n",
       "<tr>\n",
       "  <th>Method:</th>             <td>Least Squares</td>  <th>  F-statistic:       </th>          <td>   682.9</td>\n",
       "</tr>\n",
       "<tr>\n",
       "  <th>Date:</th>             <td>Mon, 12 Dec 2022</td> <th>  Prob (F-statistic):</th>          <td>5.23e-48</td>\n",
       "</tr>\n",
       "<tr>\n",
       "  <th>Time:</th>                 <td>17:48:47</td>     <th>  Log-Likelihood:    </th>          <td> -2907.6</td>\n",
       "</tr>\n",
       "<tr>\n",
       "  <th>No. Observations:</th>      <td>   107</td>      <th>  AIC:               </th>          <td>   5817.</td>\n",
       "</tr>\n",
       "<tr>\n",
       "  <th>Df Residuals:</th>          <td>   106</td>      <th>  BIC:               </th>          <td>   5820.</td>\n",
       "</tr>\n",
       "<tr>\n",
       "  <th>Df Model:</th>              <td>     1</td>      <th>                     </th>              <td> </td>   \n",
       "</tr>\n",
       "<tr>\n",
       "  <th>Covariance Type:</th>      <td>nonrobust</td>    <th>                     </th>              <td> </td>   \n",
       "</tr>\n",
       "</table>\n",
       "<table class=\"simpletable\">\n",
       "<tr>\n",
       "   <td></td>     <th>coef</th>     <th>std err</th>      <th>t</th>      <th>P>|t|</th>  <th>[0.025</th>    <th>0.975]</th>  \n",
       "</tr>\n",
       "<tr>\n",
       "  <th>x1</th> <td>  6.34e+09</td> <td> 2.43e+08</td> <td>   26.132</td> <td> 0.000</td> <td> 5.86e+09</td> <td> 6.82e+09</td>\n",
       "</tr>\n",
       "</table>\n",
       "<table class=\"simpletable\">\n",
       "<tr>\n",
       "  <th>Omnibus:</th>       <td>18.555</td> <th>  Durbin-Watson:     </th> <td>   0.001</td>\n",
       "</tr>\n",
       "<tr>\n",
       "  <th>Prob(Omnibus):</th> <td> 0.000</td> <th>  Jarque-Bera (JB):  </th> <td>   5.123</td>\n",
       "</tr>\n",
       "<tr>\n",
       "  <th>Skew:</th>          <td>-0.128</td> <th>  Prob(JB):          </th> <td>  0.0772</td>\n",
       "</tr>\n",
       "<tr>\n",
       "  <th>Kurtosis:</th>      <td> 1.959</td> <th>  Cond. No.          </th> <td>    1.00</td>\n",
       "</tr>\n",
       "</table><br/><br/>Notes:<br/>[1] R² is computed without centering (uncentered) since the model does not contain a constant.<br/>[2] Standard Errors assume that the covariance matrix of the errors is correctly specified."
      ],
      "text/plain": [
       "<class 'statsmodels.iolib.summary.Summary'>\n",
       "\"\"\"\n",
       "                                 OLS Regression Results                                \n",
       "=======================================================================================\n",
       "Dep. Variable:                    GDP   R-squared (uncentered):                   0.866\n",
       "Model:                            OLS   Adj. R-squared (uncentered):              0.864\n",
       "Method:                 Least Squares   F-statistic:                              682.9\n",
       "Date:                Mon, 12 Dec 2022   Prob (F-statistic):                    5.23e-48\n",
       "Time:                        17:48:47   Log-Likelihood:                         -2907.6\n",
       "No. Observations:                 107   AIC:                                      5817.\n",
       "Df Residuals:                     106   BIC:                                      5820.\n",
       "Df Model:                           1                                                  \n",
       "Covariance Type:            nonrobust                                                  \n",
       "==============================================================================\n",
       "                 coef    std err          t      P>|t|      [0.025      0.975]\n",
       "------------------------------------------------------------------------------\n",
       "x1           6.34e+09   2.43e+08     26.132      0.000    5.86e+09    6.82e+09\n",
       "==============================================================================\n",
       "Omnibus:                       18.555   Durbin-Watson:                   0.001\n",
       "Prob(Omnibus):                  0.000   Jarque-Bera (JB):                5.123\n",
       "Skew:                          -0.128   Prob(JB):                       0.0772\n",
       "Kurtosis:                       1.959   Cond. No.                         1.00\n",
       "==============================================================================\n",
       "\n",
       "Notes:\n",
       "[1] R² is computed without centering (uncentered) since the model does not contain a constant.\n",
       "[2] Standard Errors assume that the covariance matrix of the errors is correctly specified.\n",
       "\"\"\""
      ]
     },
     "execution_count": 17,
     "metadata": {},
     "output_type": "execute_result"
    }
   ],
   "source": [
    "# fit the regression model\n",
    "model = sm.OLS(y_train, X_train).fit()\n",
    "model.summary()"
   ]
  },
  {
   "cell_type": "code",
   "execution_count": 18,
   "id": "b0bf662e",
   "metadata": {},
   "outputs": [
    {
     "data": {
      "text/plain": [
       "array([6.78330853e+11, 6.84670394e+11, 6.91009934e+11, 6.97349475e+11,\n",
       "       7.03689016e+11, 7.10028556e+11, 7.16368097e+11, 7.22707638e+11,\n",
       "       7.29047179e+11, 7.35386719e+11, 7.41726260e+11, 7.48065801e+11,\n",
       "       7.54405341e+11, 7.60744882e+11, 7.67084423e+11, 7.73423963e+11,\n",
       "       7.79763504e+11, 7.86103045e+11, 7.92442585e+11, 7.98782126e+11,\n",
       "       8.05121667e+11, 8.11461207e+11, 8.17800748e+11, 8.24140289e+11,\n",
       "       8.30479829e+11, 8.36819370e+11, 8.43158911e+11])"
      ]
     },
     "execution_count": 18,
     "metadata": {},
     "output_type": "execute_result"
    }
   ],
   "source": [
    "y_pred = model.predict(X_test)\n",
    "y_pred"
   ]
  },
  {
   "cell_type": "code",
   "execution_count": 19,
   "id": "5336c0c5",
   "metadata": {},
   "outputs": [
    {
     "name": "stdout",
     "output_type": "stream",
     "text": [
      "The MAPE for Model fit is 0.35455738122796876\n",
      "The MAPE for Model Acc is 0.42088005239155896\n"
     ]
    }
   ],
   "source": [
    "MAPE_train=metrics.mean_absolute_percentage_error(y_train, model.fittedvalues)\n",
    "print(\"The MAPE for Model fit is\",MAPE_train)\n",
    "MAPE_test=metrics.mean_absolute_percentage_error(y_test, y_pred)\n",
    "print(\"The MAPE for Model Acc is\",MAPE_test)"
   ]
  },
  {
   "cell_type": "code",
   "execution_count": 22,
   "id": "68ee6570",
   "metadata": {},
   "outputs": [],
   "source": [
    "y_train = np.array(y_train).reshape((-1, 1))\n",
    "model.fittedvalues = np.array(model.fittedvalues).reshape((-1, 1))"
   ]
  },
  {
   "cell_type": "code",
   "execution_count": 24,
   "id": "33e8800f",
   "metadata": {
    "scrolled": true
   },
   "outputs": [
    {
     "data": {
      "image/png": "[encoded data removed]",
      "text/plain": [
       "<Figure size 921.6x518.4 with 1 Axes>"
      ]
     },
     "metadata": {
      "needs_background": "light"
     },
     "output_type": "display_data"
    }
   ],
   "source": [
    "plt.plot(X_train,model.fittedvalues, color = \"black\")\n",
    "plt.plot(X_train,y_train, color = \"red\")\n",
    "plt.plot(X_test,y_pred, color = \"Orange\")\n",
    "plt.ylabel('GDP')\n",
    "plt.xlabel('Date')\n",
    "plt.xticks(rotation=45)\n",
    "plt.rcParams['figure.figsize']=(12.8,7.2)\n",
    "plt.show()"
   ]
  },
  {
   "cell_type": "markdown",
   "id": "b3101f61",
   "metadata": {},
   "source": [
    "# Model Assumptions"
   ]
  },
  {
   "cell_type": "markdown",
   "id": "3221da28",
   "metadata": {},
   "source": [
    "## 1.\tFirst, we assume that the relationship between the forecast variable and the predictor variable is linear"
   ]
  },
  {
   "cell_type": "markdown",
   "id": "204a1ffb",
   "metadata": {},
   "source": [
    "### The relationship between the forecast variable “GDP” and the predictor variable is linear."
   ]
  },
  {
   "cell_type": "markdown",
   "id": "7d639678",
   "metadata": {},
   "source": [
    "## 2.Second, we make the following assumptions about the errors:     \n",
    "        * Residuals are normally distributed\n",
    "        * Residuals have constant variance \n",
    "        * Residual terms are independent\n"
   ]
  },
  {
   "cell_type": "code",
   "execution_count": 25,
   "id": "a332cf86",
   "metadata": {},
   "outputs": [
    {
     "data": {
      "image/png": "[encoded data removed]",
      "text/plain": [
       "<Figure size 921.6x518.4 with 1 Axes>"
      ]
     },
     "metadata": {
      "needs_background": "light"
     },
     "output_type": "display_data"
    }
   ],
   "source": [
    "from scipy import stats\n",
    "mu, std = stats.norm.fit(model.resid)\n",
    "mu, std\n",
    "import matplotlib.pyplot as plt\n",
    "import numpy as np\n",
    "import seaborn as sns\n",
    "\n",
    "fig, ax = plt.subplots()\n",
    "# plot the residuals\n",
    "sns.histplot(x=model.resid, ax=ax, stat=\"density\", linewidth=0, kde=True)\n",
    "ax.set(title=\"Distribution of residuals\", xlabel=\"residual\")\n",
    "\n",
    "# plot corresponding normal curve\n",
    "xmin, xmax = plt.xlim() # the maximum x values from the histogram above\n",
    "x = np.linspace(xmin, xmax, 100) # generate some x values\n",
    "p = stats.norm.pdf(x, mu, std) # calculate the y values for the normal curve\n",
    "sns.lineplot(x=x, y=p, color=\"orange\", ax=ax)\n",
    "plt.show()"
   ]
  },
  {
   "cell_type": "markdown",
   "id": "8ec671c3",
   "metadata": {},
   "source": [
    "## According to the histogram, the residuals appear not normally distributed, The assumption is not true"
   ]
  },
  {
   "cell_type": "code",
   "execution_count": 26,
   "id": "d9caa796",
   "metadata": {},
   "outputs": [
    {
     "data": {
      "text/plain": [
       "[Text(0.5, 0, 'Residuals'), Text(0, 0.5, 'Predicted Values')]"
      ]
     },
     "execution_count": 26,
     "metadata": {},
     "output_type": "execute_result"
    },
    {
     "data": {
      "image/png": "[encoded data removed]",
      "text/plain": [
       "<Figure size 921.6x518.4 with 1 Axes>"
      ]
     },
     "metadata": {
      "needs_background": "light"
     },
     "output_type": "display_data"
    }
   ],
   "source": [
    "pred_resid = model.resid.tail(len(y_pred))\n",
    "\n",
    "#Residual Vs Predicted Plot\n",
    "fig, ax = plt.subplots(1,1)\n",
    "\n",
    "sns.regplot(x=pred_resid, y=y_pred, lowess=True, ax=ax, line_kws={'color': 'red'})\n",
    "ax.set_title('Residuals vs Predicted', fontsize=16)\n",
    "ax.set(xlabel='Residuals', ylabel='Predicted Values')"
   ]
  },
  {
   "cell_type": "markdown",
   "id": "d626b9e9",
   "metadata": {},
   "source": [
    "## The residual vs. predicted value scatterplot shows a pattern that indicates that the equal variances assumption is not correct."
   ]
  },
  {
   "cell_type": "code",
   "execution_count": 27,
   "id": "51fa38ef",
   "metadata": {},
   "outputs": [
    {
     "data": {
      "text/plain": [
       "0.0011286165361311818"
      ]
     },
     "execution_count": 27,
     "metadata": {},
     "output_type": "execute_result"
    }
   ],
   "source": [
    "#perform Durbin-Watson test\n",
    "from statsmodels.stats.stattools import durbin_watson\n",
    "\n",
    "durbin_watson(model.resid)"
   ]
  },
  {
   "cell_type": "markdown",
   "id": "5fd26af7",
   "metadata": {},
   "source": [
    "## As the Durbin-Watson statistic ranges from 0-4. The DW statistic close to zero indicate that there is positive serial correlation"
   ]
  },
  {
   "cell_type": "markdown",
   "id": "599952db",
   "metadata": {},
   "source": [
    "# Model Evaluation"
   ]
  },
  {
   "cell_type": "markdown",
   "id": "9baf8332",
   "metadata": {},
   "source": [
    "## 1.\tIs the model logical? \n",
    "### The model is logical because the slope is positive which makes sense. With the increase in time there is increase in GDP"
   ]
  },
  {
   "cell_type": "markdown",
   "id": "9ebe2659",
   "metadata": {},
   "source": [
    "## 2.\tIs the slope term statistically significant? \n",
    "### The p-value for the slope term is less than alpha, so independent variable is a significant predictor"
   ]
  },
  {
   "cell_type": "markdown",
   "id": "61556052",
   "metadata": {},
   "source": [
    "## 3.\tWhat percent of the variation in the dependent variable is explained by variation in the independent variable \n",
    "### R2 = 86.6% so 86.6% of the variation in the dependent variable is explained by the independent variable"
   ]
  },
  {
   "cell_type": "markdown",
   "id": "59d201e5",
   "metadata": {},
   "source": [
    "# Arima "
   ]
  },
  {
   "cell_type": "code",
   "execution_count": 29,
   "id": "4db14908",
   "metadata": {},
   "outputs": [
    {
     "name": "stdout",
     "output_type": "stream",
     "text": [
      "Requirement already satisfied: pmdarima in c:\\users\\students\\anaconda3\\lib\\site-packages (2.0.2)\n",
      "Requirement already satisfied: urllib3 in c:\\users\\students\\anaconda3\\lib\\site-packages (from pmdarima) (1.26.9)\n",
      "Requirement already satisfied: scikit-learn>=0.22 in c:\\users\\students\\anaconda3\\lib\\site-packages (from pmdarima) (1.0.2)\n",
      "Requirement already satisfied: numpy>=1.21.2 in c:\\users\\students\\anaconda3\\lib\\site-packages (from pmdarima) (1.21.5)\n",
      "Requirement already satisfied: scipy>=1.3.2 in c:\\users\\students\\anaconda3\\lib\\site-packages (from pmdarima) (1.7.3)\n",
      "Requirement already satisfied: setuptools!=50.0.0,>=38.6.0 in c:\\users\\students\\anaconda3\\lib\\site-packages (from pmdarima) (61.2.0)\n",
      "Requirement already satisfied: joblib>=0.11 in c:\\users\\students\\anaconda3\\lib\\site-packages (from pmdarima) (1.1.0)\n",
      "Requirement already satisfied: pandas>=0.19 in c:\\users\\students\\anaconda3\\lib\\site-packages (from pmdarima) (1.4.2)\n",
      "Requirement already satisfied: statsmodels>=0.13.2 in c:\\users\\students\\anaconda3\\lib\\site-packages (from pmdarima) (0.13.2)\n",
      "Requirement already satisfied: Cython!=0.29.18,!=0.29.31,>=0.29 in c:\\users\\students\\anaconda3\\lib\\site-packages (from pmdarima) (0.29.28)\n",
      "Requirement already satisfied: pytz>=2020.1 in c:\\users\\students\\anaconda3\\lib\\site-packages (from pandas>=0.19->pmdarima) (2021.3)\n",
      "Requirement already satisfied: python-dateutil>=2.8.1 in c:\\users\\students\\anaconda3\\lib\\site-packages (from pandas>=0.19->pmdarima) (2.8.2)\n",
      "Requirement already satisfied: six>=1.5 in c:\\users\\students\\anaconda3\\lib\\site-packages (from python-dateutil>=2.8.1->pandas>=0.19->pmdarima) (1.16.0)\n",
      "Requirement already satisfied: threadpoolctl>=2.0.0 in c:\\users\\students\\anaconda3\\lib\\site-packages (from scikit-learn>=0.22->pmdarima) (2.2.0)\n",
      "Requirement already satisfied: patsy>=0.5.2 in c:\\users\\students\\anaconda3\\lib\\site-packages (from statsmodels>=0.13.2->pmdarima) (0.5.2)\n",
      "Requirement already satisfied: packaging>=21.3 in c:\\users\\students\\anaconda3\\lib\\site-packages (from statsmodels>=0.13.2->pmdarima) (21.3)\n",
      "Requirement already satisfied: pyparsing!=3.0.5,>=2.0.2 in c:\\users\\students\\anaconda3\\lib\\site-packages (from packaging>=21.3->statsmodels>=0.13.2->pmdarima) (3.0.4)\n",
      "Note: you may need to restart the kernel to use updated packages.\n"
     ]
    }
   ],
   "source": [
    "pip install pmdarima"
   ]
  },
  {
   "cell_type": "code",
   "execution_count": 50,
   "id": "70c2c92e",
   "metadata": {},
   "outputs": [],
   "source": [
    "from statsmodels.tsa.stattools import adfuller\n",
    "from statsmodels.graphics.tsaplots import plot_pacf\n",
    "from statsmodels.graphics.tsaplots import plot_acf\n",
    "from statsmodels.tsa.statespace.sarimax import SARIMAX\n",
    "from statsmodels.tsa.arima.model import ARIMA\n",
    "from pmdarima.model_selection import train_test_split"
   ]
  },
  {
   "cell_type": "code",
   "execution_count": 51,
   "id": "3ac98aa8",
   "metadata": {},
   "outputs": [
    {
     "data": {
      "text/html": [
       "<div>\n",
       "<style scoped>\n",
       "    .dataframe tbody tr th:only-of-type {\n",
       "        vertical-align: middle;\n",
       "    }\n",
       "\n",
       "    .dataframe tbody tr th {\n",
       "        vertical-align: top;\n",
       "    }\n",
       "\n",
       "    .dataframe thead th {\n",
       "        text-align: right;\n",
       "    }\n",
       "</style>\n",
       "<table border=\"1\" class=\"dataframe\">\n",
       "  <thead>\n",
       "    <tr style=\"text-align: right;\">\n",
       "      <th></th>\n",
       "      <th>DATE</th>\n",
       "      <th>GDP</th>\n",
       "      <th>DateIndex</th>\n",
       "      <th>GDP_diff</th>\n",
       "    </tr>\n",
       "  </thead>\n",
       "  <tbody>\n",
       "    <tr>\n",
       "      <th>1</th>\n",
       "      <td>1989-06-30</td>\n",
       "      <td>3.180000e+11</td>\n",
       "      <td>1</td>\n",
       "      <td>2.000000e+09</td>\n",
       "    </tr>\n",
       "    <tr>\n",
       "      <th>2</th>\n",
       "      <td>1989-09-30</td>\n",
       "      <td>3.180000e+11</td>\n",
       "      <td>2</td>\n",
       "      <td>0.000000e+00</td>\n",
       "    </tr>\n",
       "    <tr>\n",
       "      <th>3</th>\n",
       "      <td>1989-12-31</td>\n",
       "      <td>3.180000e+11</td>\n",
       "      <td>3</td>\n",
       "      <td>0.000000e+00</td>\n",
       "    </tr>\n",
       "    <tr>\n",
       "      <th>4</th>\n",
       "      <td>1990-03-31</td>\n",
       "      <td>3.200000e+11</td>\n",
       "      <td>4</td>\n",
       "      <td>2.000000e+09</td>\n",
       "    </tr>\n",
       "    <tr>\n",
       "      <th>5</th>\n",
       "      <td>1990-06-30</td>\n",
       "      <td>3.220000e+11</td>\n",
       "      <td>5</td>\n",
       "      <td>2.000000e+09</td>\n",
       "    </tr>\n",
       "  </tbody>\n",
       "</table>\n",
       "</div>"
      ],
      "text/plain": [
       "        DATE           GDP  DateIndex      GDP_diff\n",
       "1 1989-06-30  3.180000e+11          1  2.000000e+09\n",
       "2 1989-09-30  3.180000e+11          2  0.000000e+00\n",
       "3 1989-12-31  3.180000e+11          3  0.000000e+00\n",
       "4 1990-03-31  3.200000e+11          4  2.000000e+09\n",
       "5 1990-06-30  3.220000e+11          5  2.000000e+09"
      ]
     },
     "execution_count": 51,
     "metadata": {},
     "output_type": "execute_result"
    }
   ],
   "source": [
    "df_GDP.head()"
   ]
  },
  {
   "cell_type": "markdown",
   "id": "bb1dae19",
   "metadata": {},
   "source": [
    "### Check if the data is stationary using Dickey-Fuller test "
   ]
  },
  {
   "cell_type": "code",
   "execution_count": 52,
   "id": "879474a4",
   "metadata": {},
   "outputs": [
    {
     "name": "stdout",
     "output_type": "stream",
     "text": [
      "ADF Statistic: -0.6607939071466725\n",
      "p-value: 0.8566451773975403\n"
     ]
    }
   ],
   "source": [
    "ad_fuller_result = adfuller(df_GDP['GDP'])\n",
    "print(f'ADF Statistic: {ad_fuller_result[0]}')\n",
    "print(f'p-value: {ad_fuller_result[1]}')"
   ]
  },
  {
   "cell_type": "markdown",
   "id": "6512d4aa",
   "metadata": {},
   "source": [
    "### The p value is higher than alpha so we cannot reject null hypothesis and must assume the data is not stationary"
   ]
  },
  {
   "cell_type": "markdown",
   "id": "634e19f7",
   "metadata": {},
   "source": [
    "### Differencing can be done to make the data stationary "
   ]
  },
  {
   "cell_type": "code",
   "execution_count": 53,
   "id": "1040ecfa",
   "metadata": {},
   "outputs": [
    {
     "name": "stderr",
     "output_type": "stream",
     "text": [
      "C:\\Users\\Students\\AppData\\Local\\Temp\\ipykernel_19472\\949278377.py:1: SettingWithCopyWarning: \n",
      "A value is trying to be set on a copy of a slice from a DataFrame.\n",
      "Try using .loc[row_indexer,col_indexer] = value instead\n",
      "\n",
      "See the caveats in the documentation: https://pandas.pydata.org/pandas-docs/stable/user_guide/indexing.html#returning-a-view-versus-a-copy\n",
      "  df_GDP['GDP_diff'] = df_GDP['GDP'] - df_GDP['GDP'].shift(1)\n"
     ]
    }
   ],
   "source": [
    "df_GDP['GDP_diff'] = df_GDP['GDP'] - df_GDP['GDP'].shift(1)"
   ]
  },
  {
   "cell_type": "code",
   "execution_count": 54,
   "id": "b72be1d2",
   "metadata": {},
   "outputs": [
    {
     "data": {
      "text/plain": [
       "1             NaN\n",
       "2    0.000000e+00\n",
       "3    0.000000e+00\n",
       "4    2.000000e+09\n",
       "5    2.000000e+09\n",
       "Name: GDP_diff, dtype: float64"
      ]
     },
     "execution_count": 54,
     "metadata": {},
     "output_type": "execute_result"
    }
   ],
   "source": [
    "df_GDP['GDP_diff'].head()"
   ]
  },
  {
   "cell_type": "code",
   "execution_count": 55,
   "id": "7dda6648",
   "metadata": {},
   "outputs": [
    {
     "data": {
      "text/html": [
       "<div>\n",
       "<style scoped>\n",
       "    .dataframe tbody tr th:only-of-type {\n",
       "        vertical-align: middle;\n",
       "    }\n",
       "\n",
       "    .dataframe tbody tr th {\n",
       "        vertical-align: top;\n",
       "    }\n",
       "\n",
       "    .dataframe thead th {\n",
       "        text-align: right;\n",
       "    }\n",
       "</style>\n",
       "<table border=\"1\" class=\"dataframe\">\n",
       "  <thead>\n",
       "    <tr style=\"text-align: right;\">\n",
       "      <th></th>\n",
       "      <th>DATE</th>\n",
       "      <th>GDP</th>\n",
       "      <th>DateIndex</th>\n",
       "      <th>GDP_diff</th>\n",
       "    </tr>\n",
       "  </thead>\n",
       "  <tbody>\n",
       "    <tr>\n",
       "      <th>2</th>\n",
       "      <td>1989-09-30</td>\n",
       "      <td>3.180000e+11</td>\n",
       "      <td>2</td>\n",
       "      <td>0.000000e+00</td>\n",
       "    </tr>\n",
       "    <tr>\n",
       "      <th>3</th>\n",
       "      <td>1989-12-31</td>\n",
       "      <td>3.180000e+11</td>\n",
       "      <td>3</td>\n",
       "      <td>0.000000e+00</td>\n",
       "    </tr>\n",
       "    <tr>\n",
       "      <th>4</th>\n",
       "      <td>1990-03-31</td>\n",
       "      <td>3.200000e+11</td>\n",
       "      <td>4</td>\n",
       "      <td>2.000000e+09</td>\n",
       "    </tr>\n",
       "    <tr>\n",
       "      <th>5</th>\n",
       "      <td>1990-06-30</td>\n",
       "      <td>3.220000e+11</td>\n",
       "      <td>5</td>\n",
       "      <td>2.000000e+09</td>\n",
       "    </tr>\n",
       "    <tr>\n",
       "      <th>6</th>\n",
       "      <td>1990-09-30</td>\n",
       "      <td>3.190000e+11</td>\n",
       "      <td>6</td>\n",
       "      <td>-3.000000e+09</td>\n",
       "    </tr>\n",
       "    <tr>\n",
       "      <th>...</th>\n",
       "      <td>...</td>\n",
       "      <td>...</td>\n",
       "      <td>...</td>\n",
       "      <td>...</td>\n",
       "    </tr>\n",
       "    <tr>\n",
       "      <th>129</th>\n",
       "      <td>2021-06-30</td>\n",
       "      <td>5.370000e+11</td>\n",
       "      <td>129</td>\n",
       "      <td>3.300000e+10</td>\n",
       "    </tr>\n",
       "    <tr>\n",
       "      <th>130</th>\n",
       "      <td>2021-09-30</td>\n",
       "      <td>5.460000e+11</td>\n",
       "      <td>130</td>\n",
       "      <td>9.000000e+09</td>\n",
       "    </tr>\n",
       "    <tr>\n",
       "      <th>131</th>\n",
       "      <td>2021-12-31</td>\n",
       "      <td>5.550000e+11</td>\n",
       "      <td>131</td>\n",
       "      <td>9.000000e+09</td>\n",
       "    </tr>\n",
       "    <tr>\n",
       "      <th>132</th>\n",
       "      <td>2022-03-31</td>\n",
       "      <td>5.590000e+11</td>\n",
       "      <td>132</td>\n",
       "      <td>4.000000e+09</td>\n",
       "    </tr>\n",
       "    <tr>\n",
       "      <th>133</th>\n",
       "      <td>2022-06-30</td>\n",
       "      <td>5.600000e+11</td>\n",
       "      <td>133</td>\n",
       "      <td>1.000000e+09</td>\n",
       "    </tr>\n",
       "  </tbody>\n",
       "</table>\n",
       "<p>132 rows × 4 columns</p>\n",
       "</div>"
      ],
      "text/plain": [
       "          DATE           GDP  DateIndex      GDP_diff\n",
       "2   1989-09-30  3.180000e+11          2  0.000000e+00\n",
       "3   1989-12-31  3.180000e+11          3  0.000000e+00\n",
       "4   1990-03-31  3.200000e+11          4  2.000000e+09\n",
       "5   1990-06-30  3.220000e+11          5  2.000000e+09\n",
       "6   1990-09-30  3.190000e+11          6 -3.000000e+09\n",
       "..         ...           ...        ...           ...\n",
       "129 2021-06-30  5.370000e+11        129  3.300000e+10\n",
       "130 2021-09-30  5.460000e+11        130  9.000000e+09\n",
       "131 2021-12-31  5.550000e+11        131  9.000000e+09\n",
       "132 2022-03-31  5.590000e+11        132  4.000000e+09\n",
       "133 2022-06-30  5.600000e+11        133  1.000000e+09\n",
       "\n",
       "[132 rows x 4 columns]"
      ]
     },
     "execution_count": 55,
     "metadata": {},
     "output_type": "execute_result"
    }
   ],
   "source": [
    "df_GDP = df_GDP.dropna()\n",
    "df_GDP"
   ]
  },
  {
   "cell_type": "markdown",
   "id": "092dff23",
   "metadata": {},
   "source": [
    "### Check again if the differenced data is stationary "
   ]
  },
  {
   "cell_type": "code",
   "execution_count": 56,
   "id": "b10c22b2",
   "metadata": {},
   "outputs": [
    {
     "name": "stdout",
     "output_type": "stream",
     "text": [
      "ADF Statistic: -10.35829107352706\n",
      "p-value: 2.433900309019653e-18\n"
     ]
    }
   ],
   "source": [
    "ad_fuller_result = adfuller(df_GDP['GDP_diff'])\n",
    "print(f'ADF Statistic: {ad_fuller_result[0]}')\n",
    "print(f'p-value: {ad_fuller_result[1]}')"
   ]
  },
  {
   "cell_type": "markdown",
   "id": "d6cdefea",
   "metadata": {},
   "source": [
    "### The p value is lower than alpha so we can assume that the data is stationary "
   ]
  },
  {
   "cell_type": "code",
   "execution_count": 57,
   "id": "a28ee760",
   "metadata": {},
   "outputs": [
    {
     "data": {
      "text/plain": [
       "<AxesSubplot:>"
      ]
     },
     "execution_count": 57,
     "metadata": {},
     "output_type": "execute_result"
    },
    {
     "data": {
      "image/png": "[encoded data removed]",
      "text/plain": [
       "<Figure size 921.6x518.4 with 1 Axes>"
      ]
     },
     "metadata": {
      "needs_background": "light"
     },
     "output_type": "display_data"
    }
   ],
   "source": [
    "#viewing the stationary data \n",
    "df_GDP['GDP_diff'].plot()"
   ]
  },
  {
   "cell_type": "markdown",
   "id": "d79afac4",
   "metadata": {},
   "source": [
    "### Plotting ACF and PACF of differenced data to find which ARIMA model to choose "
   ]
  },
  {
   "cell_type": "code",
   "execution_count": 58,
   "id": "a4ca87c5",
   "metadata": {},
   "outputs": [
    {
     "name": "stderr",
     "output_type": "stream",
     "text": [
      "C:\\Users\\Students\\anaconda3\\lib\\site-packages\\statsmodels\\graphics\\tsaplots.py:348: FutureWarning: The default method 'yw' can produce PACF values outside of the [-1,1] interval. After 0.13, the default will change tounadjusted Yule-Walker ('ywm'). You can use this method now by setting method='ywm'.\n",
      "  warnings.warn(\n"
     ]
    },
    {
     "data": {
      "image/png": "[encoded data removed]",
      "text/plain": [
       "<Figure size 921.6x518.4 with 1 Axes>"
      ]
     },
     "execution_count": 58,
     "metadata": {},
     "output_type": "execute_result"
    },
    {
     "data": {
      "image/png": "[encoded data removed]",
      "text/plain": [
       "<Figure size 921.6x518.4 with 1 Axes>"
      ]
     },
     "metadata": {
      "needs_background": "light"
     },
     "output_type": "display_data"
    },
    {
     "data": {
      "image/png": "[encoded data removed]",
      "text/plain": [
       "<Figure size 921.6x518.4 with 1 Axes>"
      ]
     },
     "metadata": {
      "needs_background": "light"
     },
     "output_type": "display_data"
    }
   ],
   "source": [
    "plot_acf(df_GDP['GDP_diff'],lags=50)\n",
    "plot_pacf(df_GDP['GDP_diff'],lags=50)\n",
    "#ARIMA(1,1,1)"
   ]
  },
  {
   "cell_type": "markdown",
   "id": "2e3c6626",
   "metadata": {},
   "source": [
    "### The arima model can be split up into AR(p), I(d) and MA(q). In the PACF graph, we can see one significant lag, making the AR equal to 1. In the ACF graph, we also see one significant lag, making the MA equal to 1. The I or differencing term in the arima model is equal to 1 since we did one level of differencing to make the data stationary. This makes our model ARIMA(1,1,1). Next, we build the model based on these specifications."
   ]
  },
  {
   "cell_type": "code",
   "execution_count": 59,
   "id": "f788a767",
   "metadata": {},
   "outputs": [],
   "source": [
    "train, test = train_test_split(df_GDP, test_size=0.20)"
   ]
  },
  {
   "cell_type": "code",
   "execution_count": 60,
   "id": "593d75c9",
   "metadata": {},
   "outputs": [
    {
     "data": {
      "text/html": [
       "<div>\n",
       "<style scoped>\n",
       "    .dataframe tbody tr th:only-of-type {\n",
       "        vertical-align: middle;\n",
       "    }\n",
       "\n",
       "    .dataframe tbody tr th {\n",
       "        vertical-align: top;\n",
       "    }\n",
       "\n",
       "    .dataframe thead th {\n",
       "        text-align: right;\n",
       "    }\n",
       "</style>\n",
       "<table border=\"1\" class=\"dataframe\">\n",
       "  <thead>\n",
       "    <tr style=\"text-align: right;\">\n",
       "      <th></th>\n",
       "      <th>DATE</th>\n",
       "      <th>GDP</th>\n",
       "      <th>DateIndex</th>\n",
       "      <th>GDP_diff</th>\n",
       "    </tr>\n",
       "  </thead>\n",
       "  <tbody>\n",
       "    <tr>\n",
       "      <th>2</th>\n",
       "      <td>1989-09-30</td>\n",
       "      <td>3.180000e+11</td>\n",
       "      <td>2</td>\n",
       "      <td>0.000000e+00</td>\n",
       "    </tr>\n",
       "    <tr>\n",
       "      <th>3</th>\n",
       "      <td>1989-12-31</td>\n",
       "      <td>3.180000e+11</td>\n",
       "      <td>3</td>\n",
       "      <td>0.000000e+00</td>\n",
       "    </tr>\n",
       "    <tr>\n",
       "      <th>4</th>\n",
       "      <td>1990-03-31</td>\n",
       "      <td>3.200000e+11</td>\n",
       "      <td>4</td>\n",
       "      <td>2.000000e+09</td>\n",
       "    </tr>\n",
       "    <tr>\n",
       "      <th>5</th>\n",
       "      <td>1990-06-30</td>\n",
       "      <td>3.220000e+11</td>\n",
       "      <td>5</td>\n",
       "      <td>2.000000e+09</td>\n",
       "    </tr>\n",
       "    <tr>\n",
       "      <th>6</th>\n",
       "      <td>1990-09-30</td>\n",
       "      <td>3.190000e+11</td>\n",
       "      <td>6</td>\n",
       "      <td>-3.000000e+09</td>\n",
       "    </tr>\n",
       "    <tr>\n",
       "      <th>...</th>\n",
       "      <td>...</td>\n",
       "      <td>...</td>\n",
       "      <td>...</td>\n",
       "      <td>...</td>\n",
       "    </tr>\n",
       "    <tr>\n",
       "      <th>102</th>\n",
       "      <td>2014-09-30</td>\n",
       "      <td>5.070000e+11</td>\n",
       "      <td>102</td>\n",
       "      <td>3.000000e+09</td>\n",
       "    </tr>\n",
       "    <tr>\n",
       "      <th>103</th>\n",
       "      <td>2014-12-31</td>\n",
       "      <td>5.110000e+11</td>\n",
       "      <td>103</td>\n",
       "      <td>4.000000e+09</td>\n",
       "    </tr>\n",
       "    <tr>\n",
       "      <th>104</th>\n",
       "      <td>2015-03-31</td>\n",
       "      <td>5.130000e+11</td>\n",
       "      <td>104</td>\n",
       "      <td>2.000000e+09</td>\n",
       "    </tr>\n",
       "    <tr>\n",
       "      <th>105</th>\n",
       "      <td>2015-06-30</td>\n",
       "      <td>5.160000e+11</td>\n",
       "      <td>105</td>\n",
       "      <td>3.000000e+09</td>\n",
       "    </tr>\n",
       "    <tr>\n",
       "      <th>106</th>\n",
       "      <td>2015-09-30</td>\n",
       "      <td>5.180000e+11</td>\n",
       "      <td>106</td>\n",
       "      <td>2.000000e+09</td>\n",
       "    </tr>\n",
       "  </tbody>\n",
       "</table>\n",
       "<p>105 rows × 4 columns</p>\n",
       "</div>"
      ],
      "text/plain": [
       "          DATE           GDP  DateIndex      GDP_diff\n",
       "2   1989-09-30  3.180000e+11          2  0.000000e+00\n",
       "3   1989-12-31  3.180000e+11          3  0.000000e+00\n",
       "4   1990-03-31  3.200000e+11          4  2.000000e+09\n",
       "5   1990-06-30  3.220000e+11          5  2.000000e+09\n",
       "6   1990-09-30  3.190000e+11          6 -3.000000e+09\n",
       "..         ...           ...        ...           ...\n",
       "102 2014-09-30  5.070000e+11        102  3.000000e+09\n",
       "103 2014-12-31  5.110000e+11        103  4.000000e+09\n",
       "104 2015-03-31  5.130000e+11        104  2.000000e+09\n",
       "105 2015-06-30  5.160000e+11        105  3.000000e+09\n",
       "106 2015-09-30  5.180000e+11        106  2.000000e+09\n",
       "\n",
       "[105 rows x 4 columns]"
      ]
     },
     "execution_count": 60,
     "metadata": {},
     "output_type": "execute_result"
    }
   ],
   "source": [
    "train"
   ]
  },
  {
   "cell_type": "code",
   "execution_count": 61,
   "id": "4a08a42d",
   "metadata": {},
   "outputs": [
    {
     "name": "stderr",
     "output_type": "stream",
     "text": [
      "C:\\Users\\Students\\anaconda3\\lib\\site-packages\\statsmodels\\tsa\\base\\tsa_model.py:471: ValueWarning: An unsupported index was provided and will be ignored when e.g. forecasting.\n",
      "  self._init_dates(dates, freq)\n",
      "C:\\Users\\Students\\anaconda3\\lib\\site-packages\\statsmodels\\tsa\\base\\tsa_model.py:471: ValueWarning: An unsupported index was provided and will be ignored when e.g. forecasting.\n",
      "  self._init_dates(dates, freq)\n",
      "C:\\Users\\Students\\anaconda3\\lib\\site-packages\\statsmodels\\tsa\\base\\tsa_model.py:471: ValueWarning: An unsupported index was provided and will be ignored when e.g. forecasting.\n",
      "  self._init_dates(dates, freq)\n",
      "C:\\Users\\Students\\anaconda3\\lib\\site-packages\\statsmodels\\base\\model.py:604: ConvergenceWarning: Maximum Likelihood optimization failed to converge. Check mle_retvals\n",
      "  warnings.warn(\"Maximum Likelihood optimization failed to \"\n"
     ]
    }
   ],
   "source": [
    "model = ARIMA(train['GDP'], order = (1, 1, 1))\n",
    "results = model.fit()"
   ]
  },
  {
   "cell_type": "code",
   "execution_count": 62,
   "id": "ab66b1f5",
   "metadata": {},
   "outputs": [
    {
     "name": "stderr",
     "output_type": "stream",
     "text": [
      "C:\\Users\\Students\\anaconda3\\lib\\site-packages\\statsmodels\\tsa\\base\\tsa_model.py:834: ValueWarning: No supported index is available. Prediction results will be given with an integer index beginning at `start`.\n",
      "  return get_prediction_index(\n"
     ]
    }
   ],
   "source": [
    "prediction = results.predict(start=106, end=133, dynamic=False)\n",
    "prediction.columns = [\"predicted_values\"]\n",
    "test[\"predicted_values\"] = prediction"
   ]
  },
  {
   "cell_type": "code",
   "execution_count": 121,
   "id": "387bf2a5",
   "metadata": {},
   "outputs": [
    {
     "data": {
      "text/html": [
       "<div>\n",
       "<style scoped>\n",
       "    .dataframe tbody tr th:only-of-type {\n",
       "        vertical-align: middle;\n",
       "    }\n",
       "\n",
       "    .dataframe tbody tr th {\n",
       "        vertical-align: top;\n",
       "    }\n",
       "\n",
       "    .dataframe thead th {\n",
       "        text-align: right;\n",
       "    }\n",
       "</style>\n",
       "<table border=\"1\" class=\"dataframe\">\n",
       "  <thead>\n",
       "    <tr style=\"text-align: right;\">\n",
       "      <th></th>\n",
       "      <th>DATE</th>\n",
       "      <th>GDP</th>\n",
       "      <th>GDP_diff</th>\n",
       "      <th>predicted_values</th>\n",
       "      <th>predicted_values_model1</th>\n",
       "    </tr>\n",
       "  </thead>\n",
       "  <tbody>\n",
       "    <tr>\n",
       "      <th>107</th>\n",
       "      <td>2015-12-31</td>\n",
       "      <td>5.220000e+11</td>\n",
       "      <td>4.000000e+09</td>\n",
       "      <td>5.217863e+11</td>\n",
       "      <td>5.180000e+11</td>\n",
       "    </tr>\n",
       "    <tr>\n",
       "      <th>108</th>\n",
       "      <td>2016-03-31</td>\n",
       "      <td>5.240000e+11</td>\n",
       "      <td>2.000000e+09</td>\n",
       "      <td>5.236794e+11</td>\n",
       "      <td>5.180000e+11</td>\n",
       "    </tr>\n",
       "    <tr>\n",
       "      <th>109</th>\n",
       "      <td>2016-06-30</td>\n",
       "      <td>5.270000e+11</td>\n",
       "      <td>3.000000e+09</td>\n",
       "      <td>5.255724e+11</td>\n",
       "      <td>5.180000e+11</td>\n",
       "    </tr>\n",
       "    <tr>\n",
       "      <th>110</th>\n",
       "      <td>2016-09-30</td>\n",
       "      <td>5.300000e+11</td>\n",
       "      <td>3.000000e+09</td>\n",
       "      <td>5.274653e+11</td>\n",
       "      <td>5.180000e+11</td>\n",
       "    </tr>\n",
       "    <tr>\n",
       "      <th>111</th>\n",
       "      <td>2016-12-31</td>\n",
       "      <td>5.330000e+11</td>\n",
       "      <td>3.000000e+09</td>\n",
       "      <td>5.293582e+11</td>\n",
       "      <td>5.180000e+11</td>\n",
       "    </tr>\n",
       "    <tr>\n",
       "      <th>112</th>\n",
       "      <td>2017-03-31</td>\n",
       "      <td>5.370000e+11</td>\n",
       "      <td>4.000000e+09</td>\n",
       "      <td>5.312511e+11</td>\n",
       "      <td>5.180000e+11</td>\n",
       "    </tr>\n",
       "    <tr>\n",
       "      <th>113</th>\n",
       "      <td>2017-06-30</td>\n",
       "      <td>5.400000e+11</td>\n",
       "      <td>3.000000e+09</td>\n",
       "      <td>5.331439e+11</td>\n",
       "      <td>5.180000e+11</td>\n",
       "    </tr>\n",
       "    <tr>\n",
       "      <th>114</th>\n",
       "      <td>2017-09-30</td>\n",
       "      <td>5.430000e+11</td>\n",
       "      <td>3.000000e+09</td>\n",
       "      <td>5.350366e+11</td>\n",
       "      <td>5.180000e+11</td>\n",
       "    </tr>\n",
       "    <tr>\n",
       "      <th>115</th>\n",
       "      <td>2017-12-31</td>\n",
       "      <td>5.460000e+11</td>\n",
       "      <td>3.000000e+09</td>\n",
       "      <td>5.369293e+11</td>\n",
       "      <td>5.180000e+11</td>\n",
       "    </tr>\n",
       "    <tr>\n",
       "      <th>116</th>\n",
       "      <td>2018-03-31</td>\n",
       "      <td>5.470000e+11</td>\n",
       "      <td>1.000000e+09</td>\n",
       "      <td>5.388219e+11</td>\n",
       "      <td>5.180000e+11</td>\n",
       "    </tr>\n",
       "    <tr>\n",
       "      <th>117</th>\n",
       "      <td>2018-06-30</td>\n",
       "      <td>5.490000e+11</td>\n",
       "      <td>2.000000e+09</td>\n",
       "      <td>5.407145e+11</td>\n",
       "      <td>5.180000e+11</td>\n",
       "    </tr>\n",
       "    <tr>\n",
       "      <th>118</th>\n",
       "      <td>2018-09-30</td>\n",
       "      <td>5.530000e+11</td>\n",
       "      <td>4.000000e+09</td>\n",
       "      <td>5.426070e+11</td>\n",
       "      <td>5.180000e+11</td>\n",
       "    </tr>\n",
       "    <tr>\n",
       "      <th>119</th>\n",
       "      <td>2018-12-31</td>\n",
       "      <td>5.540000e+11</td>\n",
       "      <td>1.000000e+09</td>\n",
       "      <td>5.444995e+11</td>\n",
       "      <td>5.180000e+11</td>\n",
       "    </tr>\n",
       "    <tr>\n",
       "      <th>120</th>\n",
       "      <td>2019-03-31</td>\n",
       "      <td>5.570000e+11</td>\n",
       "      <td>3.000000e+09</td>\n",
       "      <td>5.463919e+11</td>\n",
       "      <td>5.180000e+11</td>\n",
       "    </tr>\n",
       "    <tr>\n",
       "      <th>121</th>\n",
       "      <td>2019-06-30</td>\n",
       "      <td>5.580000e+11</td>\n",
       "      <td>1.000000e+09</td>\n",
       "      <td>5.482842e+11</td>\n",
       "      <td>5.180000e+11</td>\n",
       "    </tr>\n",
       "    <tr>\n",
       "      <th>122</th>\n",
       "      <td>2019-09-30</td>\n",
       "      <td>5.610000e+11</td>\n",
       "      <td>3.000000e+09</td>\n",
       "      <td>5.501765e+11</td>\n",
       "      <td>5.180000e+11</td>\n",
       "    </tr>\n",
       "    <tr>\n",
       "      <th>123</th>\n",
       "      <td>2019-12-31</td>\n",
       "      <td>5.610000e+11</td>\n",
       "      <td>0.000000e+00</td>\n",
       "      <td>5.520687e+11</td>\n",
       "      <td>5.180000e+11</td>\n",
       "    </tr>\n",
       "    <tr>\n",
       "      <th>124</th>\n",
       "      <td>2020-03-31</td>\n",
       "      <td>5.470000e+11</td>\n",
       "      <td>-1.400000e+10</td>\n",
       "      <td>5.539609e+11</td>\n",
       "      <td>5.180000e+11</td>\n",
       "    </tr>\n",
       "    <tr>\n",
       "      <th>125</th>\n",
       "      <td>2020-06-30</td>\n",
       "      <td>4.320000e+11</td>\n",
       "      <td>-1.150000e+11</td>\n",
       "      <td>5.558530e+11</td>\n",
       "      <td>5.180000e+11</td>\n",
       "    </tr>\n",
       "    <tr>\n",
       "      <th>126</th>\n",
       "      <td>2020-09-30</td>\n",
       "      <td>5.040000e+11</td>\n",
       "      <td>7.200000e+10</td>\n",
       "      <td>5.577451e+11</td>\n",
       "      <td>5.180000e+11</td>\n",
       "    </tr>\n",
       "    <tr>\n",
       "      <th>127</th>\n",
       "      <td>2020-12-31</td>\n",
       "      <td>5.100000e+11</td>\n",
       "      <td>6.000000e+09</td>\n",
       "      <td>5.596371e+11</td>\n",
       "      <td>5.180000e+11</td>\n",
       "    </tr>\n",
       "    <tr>\n",
       "      <th>128</th>\n",
       "      <td>2021-03-31</td>\n",
       "      <td>5.040000e+11</td>\n",
       "      <td>-6.000000e+09</td>\n",
       "      <td>5.615291e+11</td>\n",
       "      <td>5.180000e+11</td>\n",
       "    </tr>\n",
       "    <tr>\n",
       "      <th>129</th>\n",
       "      <td>2021-06-30</td>\n",
       "      <td>5.370000e+11</td>\n",
       "      <td>3.300000e+10</td>\n",
       "      <td>5.634210e+11</td>\n",
       "      <td>5.180000e+11</td>\n",
       "    </tr>\n",
       "    <tr>\n",
       "      <th>130</th>\n",
       "      <td>2021-09-30</td>\n",
       "      <td>5.460000e+11</td>\n",
       "      <td>9.000000e+09</td>\n",
       "      <td>5.653128e+11</td>\n",
       "      <td>5.180000e+11</td>\n",
       "    </tr>\n",
       "    <tr>\n",
       "      <th>131</th>\n",
       "      <td>2021-12-31</td>\n",
       "      <td>5.550000e+11</td>\n",
       "      <td>9.000000e+09</td>\n",
       "      <td>5.672046e+11</td>\n",
       "      <td>5.180000e+11</td>\n",
       "    </tr>\n",
       "    <tr>\n",
       "      <th>132</th>\n",
       "      <td>2022-03-31</td>\n",
       "      <td>5.590000e+11</td>\n",
       "      <td>4.000000e+09</td>\n",
       "      <td>5.690964e+11</td>\n",
       "      <td>5.180000e+11</td>\n",
       "    </tr>\n",
       "    <tr>\n",
       "      <th>133</th>\n",
       "      <td>2022-06-30</td>\n",
       "      <td>5.600000e+11</td>\n",
       "      <td>1.000000e+09</td>\n",
       "      <td>5.709881e+11</td>\n",
       "      <td>5.180000e+11</td>\n",
       "    </tr>\n",
       "  </tbody>\n",
       "</table>\n",
       "</div>"
      ],
      "text/plain": [
       "          DATE           GDP      GDP_diff  predicted_values  \\\n",
       "107 2015-12-31  5.220000e+11  4.000000e+09      5.217863e+11   \n",
       "108 2016-03-31  5.240000e+11  2.000000e+09      5.236794e+11   \n",
       "109 2016-06-30  5.270000e+11  3.000000e+09      5.255724e+11   \n",
       "110 2016-09-30  5.300000e+11  3.000000e+09      5.274653e+11   \n",
       "111 2016-12-31  5.330000e+11  3.000000e+09      5.293582e+11   \n",
       "112 2017-03-31  5.370000e+11  4.000000e+09      5.312511e+11   \n",
       "113 2017-06-30  5.400000e+11  3.000000e+09      5.331439e+11   \n",
       "114 2017-09-30  5.430000e+11  3.000000e+09      5.350366e+11   \n",
       "115 2017-12-31  5.460000e+11  3.000000e+09      5.369293e+11   \n",
       "116 2018-03-31  5.470000e+11  1.000000e+09      5.388219e+11   \n",
       "117 2018-06-30  5.490000e+11  2.000000e+09      5.407145e+11   \n",
       "118 2018-09-30  5.530000e+11  4.000000e+09      5.426070e+11   \n",
       "119 2018-12-31  5.540000e+11  1.000000e+09      5.444995e+11   \n",
       "120 2019-03-31  5.570000e+11  3.000000e+09      5.463919e+11   \n",
       "121 2019-06-30  5.580000e+11  1.000000e+09      5.482842e+11   \n",
       "122 2019-09-30  5.610000e+11  3.000000e+09      5.501765e+11   \n",
       "123 2019-12-31  5.610000e+11  0.000000e+00      5.520687e+11   \n",
       "124 2020-03-31  5.470000e+11 -1.400000e+10      5.539609e+11   \n",
       "125 2020-06-30  4.320000e+11 -1.150000e+11      5.558530e+11   \n",
       "126 2020-09-30  5.040000e+11  7.200000e+10      5.577451e+11   \n",
       "127 2020-12-31  5.100000e+11  6.000000e+09      5.596371e+11   \n",
       "128 2021-03-31  5.040000e+11 -6.000000e+09      5.615291e+11   \n",
       "129 2021-06-30  5.370000e+11  3.300000e+10      5.634210e+11   \n",
       "130 2021-09-30  5.460000e+11  9.000000e+09      5.653128e+11   \n",
       "131 2021-12-31  5.550000e+11  9.000000e+09      5.672046e+11   \n",
       "132 2022-03-31  5.590000e+11  4.000000e+09      5.690964e+11   \n",
       "133 2022-06-30  5.600000e+11  1.000000e+09      5.709881e+11   \n",
       "\n",
       "     predicted_values_model1  \n",
       "107             5.180000e+11  \n",
       "108             5.180000e+11  \n",
       "109             5.180000e+11  \n",
       "110             5.180000e+11  \n",
       "111             5.180000e+11  \n",
       "112             5.180000e+11  \n",
       "113             5.180000e+11  \n",
       "114             5.180000e+11  \n",
       "115             5.180000e+11  \n",
       "116             5.180000e+11  \n",
       "117             5.180000e+11  \n",
       "118             5.180000e+11  \n",
       "119             5.180000e+11  \n",
       "120             5.180000e+11  \n",
       "121             5.180000e+11  \n",
       "122             5.180000e+11  \n",
       "123             5.180000e+11  \n",
       "124             5.180000e+11  \n",
       "125             5.180000e+11  \n",
       "126             5.180000e+11  \n",
       "127             5.180000e+11  \n",
       "128             5.180000e+11  \n",
       "129             5.180000e+11  \n",
       "130             5.180000e+11  \n",
       "131             5.180000e+11  \n",
       "132             5.180000e+11  \n",
       "133             5.180000e+11  "
      ]
     },
     "execution_count": 121,
     "metadata": {},
     "output_type": "execute_result"
    }
   ],
   "source": [
    "test"
   ]
  },
  {
   "cell_type": "code",
   "execution_count": 63,
   "id": "61ced117",
   "metadata": {},
   "outputs": [
    {
     "data": {
      "text/plain": [
       "[<matplotlib.lines.Line2D at 0x1de139246d0>]"
      ]
     },
     "execution_count": 63,
     "metadata": {},
     "output_type": "execute_result"
    },
    {
     "data": {
      "image/png": "[encoded data removed]",
      "text/plain": [
       "<Figure size 921.6x518.4 with 1 Axes>"
      ]
     },
     "metadata": {
      "needs_background": "light"
     },
     "output_type": "display_data"
    }
   ],
   "source": [
    "plt.plot(train['GDP'], color = 'Blue', label = \"Train\")\n",
    "plt.plot(test['GDP'], color = 'Green', label = \"Test\")\n",
    "plt.plot(test['predicted_values'], color ='Red', label = \"Prediction\")\n",
    "plt.plot(results.fittedvalues, color='Orange')"
   ]
  },
  {
   "cell_type": "code",
   "execution_count": 64,
   "id": "90d2a6b0",
   "metadata": {},
   "outputs": [
    {
     "name": "stdout",
     "output_type": "stream",
     "text": [
      "The MAPE for Model Accuracy(test) is 0.42088005239155896\n",
      "The MAPE for Model fit(train) is 0.013705718871053992\n"
     ]
    }
   ],
   "source": [
    "MSE_test=metrics.mean_squared_error(test['GDP'], test['predicted_values'])\n",
    "MAPE_train=metrics.mean_absolute_percentage_error(train['GDP'], results.fittedvalues)\n",
    "print(\"The MAPE for Model Accuracy(test) is\",MAPE_test)\n",
    "print(\"The MAPE for Model fit(train) is\",MAPE_train)"
   ]
  },
  {
   "cell_type": "markdown",
   "id": "b929c56f",
   "metadata": {},
   "source": [
    "### The predicted values are not able to identify the curves in the graph and are graphed as more of a straight line. The Model Accuracy shows 42% which is not very high. The Model fit is low showing that the model is able to fit well with the existing data but not with new data. "
   ]
  },
  {
   "cell_type": "markdown",
   "id": "e0db91ec",
   "metadata": {},
   "source": [
    "## Among the Holt's, Damped, simple regression, and ARIMA, Damped model performed better. So we now forecast the Interest rate for next two quarter using Damped model."
   ]
  },
  {
   "cell_type": "markdown",
   "id": "c1a958d6",
   "metadata": {},
   "source": [
    "# Model Predictions for next two quarters "
   ]
  },
  {
   "cell_type": "code",
   "execution_count": 74,
   "id": "c332b256",
   "metadata": {},
   "outputs": [
    {
     "name": "stderr",
     "output_type": "stream",
     "text": [
      "C:\\Users\\Students\\anaconda3\\lib\\site-packages\\statsmodels\\tsa\\base\\tsa_model.py:471: ValueWarning: An unsupported index was provided and will be ignored when e.g. forecasting.\n",
      "  self._init_dates(dates, freq)\n",
      "C:\\Users\\Students\\anaconda3\\lib\\site-packages\\statsmodels\\tsa\\holtwinters\\model.py:915: ConvergenceWarning: Optimization failed to converge. Check mle_retvals.\n",
      "  warnings.warn(\n",
      "C:\\Users\\Students\\anaconda3\\lib\\site-packages\\statsmodels\\tsa\\base\\tsa_model.py:834: ValueWarning: No supported index is available. Prediction results will be given with an integer index beginning at `start`.\n",
      "  return get_prediction_index(\n"
     ]
    }
   ],
   "source": [
    "fit_damp = ExponentialSmoothing(df_GDP['GDP'],trend='add',seasonal=None, damped_trend=True).fit()\n",
    "fcast_damp = fit_damp.forecast(2)"
   ]
  },
  {
   "cell_type": "code",
   "execution_count": 75,
   "id": "23b3e8b2",
   "metadata": {},
   "outputs": [
    {
     "data": {
      "text/html": [
       "<div>\n",
       "<style scoped>\n",
       "    .dataframe tbody tr th:only-of-type {\n",
       "        vertical-align: middle;\n",
       "    }\n",
       "\n",
       "    .dataframe tbody tr th {\n",
       "        vertical-align: top;\n",
       "    }\n",
       "\n",
       "    .dataframe thead th {\n",
       "        text-align: right;\n",
       "    }\n",
       "</style>\n",
       "<table border=\"1\" class=\"dataframe\">\n",
       "  <thead>\n",
       "    <tr style=\"text-align: right;\">\n",
       "      <th></th>\n",
       "      <th>GDP</th>\n",
       "    </tr>\n",
       "  </thead>\n",
       "  <tbody>\n",
       "    <tr>\n",
       "      <th>132</th>\n",
       "      <td>5.606676e+11</td>\n",
       "    </tr>\n",
       "    <tr>\n",
       "      <th>133</th>\n",
       "      <td>5.618324e+11</td>\n",
       "    </tr>\n",
       "  </tbody>\n",
       "</table>\n",
       "</div>"
      ],
      "text/plain": [
       "              GDP\n",
       "132  5.606676e+11\n",
       "133  5.618324e+11"
      ]
     },
     "execution_count": 75,
     "metadata": {},
     "output_type": "execute_result"
    }
   ],
   "source": [
    "fcast_damp =  fcast_damp.to_frame()\n",
    "fcast_damp.columns = ['GDP']\n",
    "fcast_damp"
   ]
  }
 ],
 "metadata": {
  "kernelspec": {
   "display_name": "Python 3 (ipykernel)",
   "language": "python",
   "name": "python3"
  },
  "language_info": {
   "codemirror_mode": {
    "name": "ipython",
    "version": 3
   },
   "file_extension": ".py",
   "mimetype": "text/x-python",
   "name": "python",
   "nbconvert_exporter": "python",
   "pygments_lexer": "ipython3",
   "version": "3.9.12"
  }
 },
 "nbformat": 4,
 "nbformat_minor": 5
}
