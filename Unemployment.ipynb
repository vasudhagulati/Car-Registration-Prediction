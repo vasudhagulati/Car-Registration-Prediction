{
 "cells": [
  {
   "cell_type": "code",
   "execution_count": 8,
   "id": "81e917f7",
   "metadata": {},
   "outputs": [],
   "source": [
    "# Initialising required libraries\n",
    "import pandas as pd\n",
    "import matplotlib.pyplot as plt\n",
    "import datetime\n",
    "import numpy as np\n",
    "from datetime import datetime\n",
    "from sklearn import metrics"
   ]
  },
  {
   "cell_type": "code",
   "execution_count": 9,
   "id": "ac23b180",
   "metadata": {},
   "outputs": [
    {
     "data": {
      "text/html": [
       "<div>\n",
       "<style scoped>\n",
       "    .dataframe tbody tr th:only-of-type {\n",
       "        vertical-align: middle;\n",
       "    }\n",
       "\n",
       "    .dataframe tbody tr th {\n",
       "        vertical-align: top;\n",
       "    }\n",
       "\n",
       "    .dataframe thead th {\n",
       "        text-align: right;\n",
       "    }\n",
       "</style>\n",
       "<table border=\"1\" class=\"dataframe\">\n",
       "  <thead>\n",
       "    <tr style=\"text-align: right;\">\n",
       "      <th></th>\n",
       "      <th>DATE</th>\n",
       "      <th>Unemployment_rate</th>\n",
       "    </tr>\n",
       "  </thead>\n",
       "  <tbody>\n",
       "    <tr>\n",
       "      <th>0</th>\n",
       "      <td>3/31/1989</td>\n",
       "      <td>7.9</td>\n",
       "    </tr>\n",
       "    <tr>\n",
       "      <th>1</th>\n",
       "      <td>6/30/1989</td>\n",
       "      <td>7.7</td>\n",
       "    </tr>\n",
       "    <tr>\n",
       "      <th>2</th>\n",
       "      <td>9/30/1989</td>\n",
       "      <td>7.6</td>\n",
       "    </tr>\n",
       "    <tr>\n",
       "      <th>3</th>\n",
       "      <td>12/31/1989</td>\n",
       "      <td>7.3</td>\n",
       "    </tr>\n",
       "    <tr>\n",
       "      <th>4</th>\n",
       "      <td>3/31/1990</td>\n",
       "      <td>7.0</td>\n",
       "    </tr>\n",
       "    <tr>\n",
       "      <th>...</th>\n",
       "      <td>...</td>\n",
       "      <td>...</td>\n",
       "    </tr>\n",
       "    <tr>\n",
       "      <th>396</th>\n",
       "      <td>2022-1</td>\n",
       "      <td>3.8</td>\n",
       "    </tr>\n",
       "    <tr>\n",
       "      <th>397</th>\n",
       "      <td>2022-2</td>\n",
       "      <td>3.7</td>\n",
       "    </tr>\n",
       "    <tr>\n",
       "      <th>398</th>\n",
       "      <td>2022-3</td>\n",
       "      <td>3.6</td>\n",
       "    </tr>\n",
       "    <tr>\n",
       "      <th>399</th>\n",
       "      <td>2022-4</td>\n",
       "      <td>3.5</td>\n",
       "    </tr>\n",
       "    <tr>\n",
       "      <th>400</th>\n",
       "      <td>2022-5</td>\n",
       "      <td>3.6</td>\n",
       "    </tr>\n",
       "  </tbody>\n",
       "</table>\n",
       "<p>401 rows × 2 columns</p>\n",
       "</div>"
      ],
      "text/plain": [
       "           DATE  Unemployment_rate\n",
       "0     3/31/1989                7.9\n",
       "1     6/30/1989                7.7\n",
       "2     9/30/1989                7.6\n",
       "3    12/31/1989                7.3\n",
       "4     3/31/1990                7.0\n",
       "..          ...                ...\n",
       "396      2022-1                3.8\n",
       "397      2022-2                3.7\n",
       "398      2022-3                3.6\n",
       "399      2022-4                3.5\n",
       "400      2022-5                3.6\n",
       "\n",
       "[401 rows x 2 columns]"
      ]
     },
     "execution_count": 9,
     "metadata": {},
     "output_type": "execute_result"
    }
   ],
   "source": [
    "df_Unemployment = pd.read_csv(\"PCDA_UNCLEANED/Unemployment_Rate.csv\")\n",
    "df_Unemployment"
   ]
  },
  {
   "cell_type": "code",
   "execution_count": 10,
   "id": "85f05d30",
   "metadata": {},
   "outputs": [
    {
     "data": {
      "text/html": [
       "<div>\n",
       "<style scoped>\n",
       "    .dataframe tbody tr th:only-of-type {\n",
       "        vertical-align: middle;\n",
       "    }\n",
       "\n",
       "    .dataframe tbody tr th {\n",
       "        vertical-align: top;\n",
       "    }\n",
       "\n",
       "    .dataframe thead th {\n",
       "        text-align: right;\n",
       "    }\n",
       "</style>\n",
       "<table border=\"1\" class=\"dataframe\">\n",
       "  <thead>\n",
       "    <tr style=\"text-align: right;\">\n",
       "      <th></th>\n",
       "      <th>DATE</th>\n",
       "      <th>Unemployment_rate</th>\n",
       "    </tr>\n",
       "  </thead>\n",
       "  <tbody>\n",
       "    <tr>\n",
       "      <th>0</th>\n",
       "      <td>1989-03-31</td>\n",
       "      <td>7.9</td>\n",
       "    </tr>\n",
       "    <tr>\n",
       "      <th>1</th>\n",
       "      <td>1989-06-30</td>\n",
       "      <td>7.7</td>\n",
       "    </tr>\n",
       "    <tr>\n",
       "      <th>2</th>\n",
       "      <td>1989-09-30</td>\n",
       "      <td>7.6</td>\n",
       "    </tr>\n",
       "    <tr>\n",
       "      <th>3</th>\n",
       "      <td>1989-12-31</td>\n",
       "      <td>7.3</td>\n",
       "    </tr>\n",
       "    <tr>\n",
       "      <th>4</th>\n",
       "      <td>1990-03-31</td>\n",
       "      <td>7.0</td>\n",
       "    </tr>\n",
       "    <tr>\n",
       "      <th>...</th>\n",
       "      <td>...</td>\n",
       "      <td>...</td>\n",
       "    </tr>\n",
       "    <tr>\n",
       "      <th>131</th>\n",
       "      <td>2021-12-31</td>\n",
       "      <td>4.5</td>\n",
       "    </tr>\n",
       "    <tr>\n",
       "      <th>132</th>\n",
       "      <td>2022-03-31</td>\n",
       "      <td>4.2</td>\n",
       "    </tr>\n",
       "    <tr>\n",
       "      <th>133</th>\n",
       "      <td>2022-06-30</td>\n",
       "      <td>4.3</td>\n",
       "    </tr>\n",
       "    <tr>\n",
       "      <th>134</th>\n",
       "      <td>2022-09-30</td>\n",
       "      <td>5.7</td>\n",
       "    </tr>\n",
       "    <tr>\n",
       "      <th>135</th>\n",
       "      <td>2022-12-31</td>\n",
       "      <td>5.5</td>\n",
       "    </tr>\n",
       "  </tbody>\n",
       "</table>\n",
       "<p>136 rows × 2 columns</p>\n",
       "</div>"
      ],
      "text/plain": [
       "          DATE  Unemployment_rate\n",
       "0   1989-03-31                7.9\n",
       "1   1989-06-30                7.7\n",
       "2   1989-09-30                7.6\n",
       "3   1989-12-31                7.3\n",
       "4   1990-03-31                7.0\n",
       "..         ...                ...\n",
       "131 2021-12-31                4.5\n",
       "132 2022-03-31                4.2\n",
       "133 2022-06-30                4.3\n",
       "134 2022-09-30                5.7\n",
       "135 2022-12-31                5.5\n",
       "\n",
       "[136 rows x 2 columns]"
      ]
     },
     "execution_count": 10,
     "metadata": {},
     "output_type": "execute_result"
    }
   ],
   "source": [
    "df_Unemployment = pd.read_csv(\"PCDA_UNCLEANED/Unemployment_Rate.csv\", parse_dates =[\"DATE\"],index_col =\"DATE\")\n",
    "df_Unemployment = df_Unemployment.Unemployment_rate.resample('Q').mean()\n",
    "type(df_Unemployment)\n",
    "df_Unemployment = df_Unemployment.to_frame()\n",
    "df_Unemployment.reset_index(inplace=True)\n",
    "df_Unemployment.columns = ['DATE','Unemployment_rate']\n",
    "df_Unemployment"
   ]
  },
  {
   "cell_type": "code",
   "execution_count": 11,
   "id": "01e2901d",
   "metadata": {},
   "outputs": [
    {
     "data": {
      "text/html": [
       "<div>\n",
       "<style scoped>\n",
       "    .dataframe tbody tr th:only-of-type {\n",
       "        vertical-align: middle;\n",
       "    }\n",
       "\n",
       "    .dataframe tbody tr th {\n",
       "        vertical-align: top;\n",
       "    }\n",
       "\n",
       "    .dataframe thead th {\n",
       "        text-align: right;\n",
       "    }\n",
       "</style>\n",
       "<table border=\"1\" class=\"dataframe\">\n",
       "  <thead>\n",
       "    <tr style=\"text-align: right;\">\n",
       "      <th></th>\n",
       "      <th>DATE</th>\n",
       "      <th>Unemployment_rate</th>\n",
       "    </tr>\n",
       "  </thead>\n",
       "  <tbody>\n",
       "    <tr>\n",
       "      <th>0</th>\n",
       "      <td>1989-03-31</td>\n",
       "      <td>7.9</td>\n",
       "    </tr>\n",
       "    <tr>\n",
       "      <th>1</th>\n",
       "      <td>1989-06-30</td>\n",
       "      <td>7.7</td>\n",
       "    </tr>\n",
       "    <tr>\n",
       "      <th>2</th>\n",
       "      <td>1989-09-30</td>\n",
       "      <td>7.6</td>\n",
       "    </tr>\n",
       "    <tr>\n",
       "      <th>3</th>\n",
       "      <td>1989-12-31</td>\n",
       "      <td>7.3</td>\n",
       "    </tr>\n",
       "    <tr>\n",
       "      <th>4</th>\n",
       "      <td>1990-03-31</td>\n",
       "      <td>7.0</td>\n",
       "    </tr>\n",
       "    <tr>\n",
       "      <th>...</th>\n",
       "      <td>...</td>\n",
       "      <td>...</td>\n",
       "    </tr>\n",
       "    <tr>\n",
       "      <th>131</th>\n",
       "      <td>2021-12-31</td>\n",
       "      <td>4.5</td>\n",
       "    </tr>\n",
       "    <tr>\n",
       "      <th>132</th>\n",
       "      <td>2022-03-31</td>\n",
       "      <td>4.2</td>\n",
       "    </tr>\n",
       "    <tr>\n",
       "      <th>133</th>\n",
       "      <td>2022-06-30</td>\n",
       "      <td>4.3</td>\n",
       "    </tr>\n",
       "    <tr>\n",
       "      <th>134</th>\n",
       "      <td>2022-09-30</td>\n",
       "      <td>5.7</td>\n",
       "    </tr>\n",
       "    <tr>\n",
       "      <th>135</th>\n",
       "      <td>2022-12-31</td>\n",
       "      <td>5.5</td>\n",
       "    </tr>\n",
       "  </tbody>\n",
       "</table>\n",
       "<p>136 rows × 2 columns</p>\n",
       "</div>"
      ],
      "text/plain": [
       "          DATE  Unemployment_rate\n",
       "0   1989-03-31                7.9\n",
       "1   1989-06-30                7.7\n",
       "2   1989-09-30                7.6\n",
       "3   1989-12-31                7.3\n",
       "4   1990-03-31                7.0\n",
       "..         ...                ...\n",
       "131 2021-12-31                4.5\n",
       "132 2022-03-31                4.2\n",
       "133 2022-06-30                4.3\n",
       "134 2022-09-30                5.7\n",
       "135 2022-12-31                5.5\n",
       "\n",
       "[136 rows x 2 columns]"
      ]
     },
     "execution_count": 11,
     "metadata": {},
     "output_type": "execute_result"
    }
   ],
   "source": [
    "df_Unemployment=df_Unemployment.dropna()\n",
    "df_Unemployment['DATE'] = pd.to_datetime(df_Unemployment['DATE'])\n",
    "df_Unemployment"
   ]
  },
  {
   "cell_type": "code",
   "execution_count": 12,
   "id": "7c3cb0ad",
   "metadata": {},
   "outputs": [
    {
     "data": {
      "text/plain": [
       "Text(0, 0.5, 'Date')"
      ]
     },
     "execution_count": 12,
     "metadata": {},
     "output_type": "execute_result"
    },
    {
     "data": {
      "image/png": "[encoded data removed]",
      "text/plain": [
       "<Figure size 432x288 with 1 Axes>"
      ]
     },
     "metadata": {
      "needs_background": "light"
     },
     "output_type": "display_data"
    }
   ],
   "source": [
    "plt.plot(df_Unemployment['DATE'], df_Unemployment['Unemployment_rate'])\n",
    "plt.xticks(rotation=30, ha='right')\n",
    "plt.xlabel(\"Unemployment_rate\")\n",
    "plt.ylabel(\"Date\")\n",
    "#plt.rcParams['figure.figsize']=(12.8,7.2)"
   ]
  },
  {
   "cell_type": "code",
   "execution_count": 13,
   "id": "a785ae20",
   "metadata": {},
   "outputs": [
    {
     "data": {
      "image/png": "[encoded data removed]",
      "text/plain": [
       "<Figure size 432x288 with 1 Axes>"
      ]
     },
     "metadata": {
      "needs_background": "light"
     },
     "output_type": "display_data"
    }
   ],
   "source": [
    "from statsmodels.graphics.tsaplots import plot_acf\n",
    "acf_plot = plot_acf(df_Unemployment['Unemployment_rate'],lags=50)"
   ]
  },
  {
   "cell_type": "markdown",
   "id": "f3eef2c5",
   "metadata": {},
   "source": [
    "### According to the ACF plot, the autocorrelations are not declining quickly toward zero which indicates a trend component. As this is quarterly data and there are no significant spikes at every 4th lag, there is no seasonal component\n",
    "\n",
    "### Due the pressence of Trend component, we can fit the data with below models\n",
    "    1. Holt's linear Exponential \n",
    "    2. Damped trend Exponential\n",
    "    3. Simple Linear Regression\n",
    "    4. ARIMA"
   ]
  },
  {
   "cell_type": "code",
   "execution_count": 14,
   "id": "a86e8a75",
   "metadata": {},
   "outputs": [],
   "source": [
    "from sklearn.model_selection import train_test_split\n",
    "from statsmodels.tsa.api import Holt, ExponentialSmoothing"
   ]
  },
  {
   "cell_type": "markdown",
   "id": "4179d318",
   "metadata": {},
   "source": [
    "# Split the data in to test and Train"
   ]
  },
  {
   "cell_type": "code",
   "execution_count": 15,
   "id": "a23ca679",
   "metadata": {},
   "outputs": [
    {
     "data": {
      "image/png": "[encoded data removed]",
      "text/plain": [
       "<Figure size 432x288 with 1 Axes>"
      ]
     },
     "metadata": {
      "needs_background": "light"
     },
     "output_type": "display_data"
    }
   ],
   "source": [
    "x1 = df_Unemployment.loc[:, df_Unemployment.columns == 'DATE'].to_numpy()\n",
    "y1 = df_Unemployment.loc[:, df_Unemployment.columns == 'Unemployment_rate'].to_numpy()\n",
    "x1_train, x1_test,y1_train, y1_test = train_test_split(x1,y1, test_size=0.20, shuffle=False)\n",
    "x1_train\n",
    "plt.plot(x1_train,y1_train, color = \"black\")\n",
    "plt.plot(x1_test,y1_test, color = \"red\")\n",
    "plt.ylabel('Unemployment_rate')\n",
    "plt.xlabel('Date')\n",
    "plt.xticks(rotation=45)\n",
    "plt.title(\"Train_Test split for Population\")\n",
    "plt.rcParams['figure.figsize']=(12.8,7.2)\n",
    "plt.show()"
   ]
  },
  {
   "cell_type": "markdown",
   "id": "b9b945f6",
   "metadata": {},
   "source": [
    "## It will be interesting to watch for individual performance of the model, as train data accounts for 2008 economic depression and test data accounts for pendamic depression"
   ]
  },
  {
   "cell_type": "markdown",
   "id": "c40cf0df",
   "metadata": {},
   "source": [
    "## Holt's linear Exponential model"
   ]
  },
  {
   "cell_type": "code",
   "execution_count": 16,
   "id": "43b5bb41",
   "metadata": {},
   "outputs": [],
   "source": [
    "def holt(x1,y1,y1_train,y1_test, period,x1_train,x1_test):\n",
    "    plt1 = plt.plot(x1,y1,color='black')\n",
    "    fit1 = Holt(y1_train).fit()\n",
    "    fcast1 = fit1.forecast(period)\n",
    "    #mse1_fit = ((fit1.fittedvalues - y1_train.squeeze()) ** 2).mean()\n",
    "    #mse1_acc = ((fcast1 - y1_test.squeeze()) ** 2).mean()\n",
    "    MAPE_fit= metrics.mean_absolute_percentage_error(y1_train, fit1.fittedvalues)\n",
    "    MAPE_acc = metrics.mean_absolute_percentage_error(y1_test, fcast1)\n",
    "    print('The MAPE for Model fit is',MAPE_fit)\n",
    "    print('The MAPE for Model Acc is ',MAPE_acc)\n",
    "    #print('The Root Mean Squared Error of Model fit is {}'.format(round(np.sqrt(mse1_fit), 2)))\n",
    "    #print('The Root Mean Squared Error of Model accuracy is {}'.format(round(np.sqrt(mse1_acc), 2)))\n",
    "    plt2 = plt.plot(x1_train,fit1.fittedvalues, color='blue')\n",
    "    plt3 = plt.plot(x1_test,fcast1,color='red', marker=\"o\")\n",
    "    ax = plt.gca()\n",
    "    print(fit1.summary())\n",
    "    ax.legend([plt1[0],plt2[0],plt3[0]],[\"Actual\",\"Holt's fit\",\"Holt's Predict\"])\n",
    "    plt.xticks(rotation=30, ha='right')\n",
    "    plt.title(\"Holt’s Linear Smoothing\")\n",
    "    plt.show()"
   ]
  },
  {
   "cell_type": "code",
   "execution_count": 17,
   "id": "7ebd96eb",
   "metadata": {},
   "outputs": [
    {
     "name": "stdout",
     "output_type": "stream",
     "text": [
      "The MAPE for Model fit is 0.027668651751139306\n",
      "The MAPE for Model Acc is  0.07710429098147423\n",
      "                              Holt Model Results                              \n",
      "==============================================================================\n",
      "Dep. Variable:                  endog   No. Observations:                  108\n",
      "Model:                           Holt   SSE                             14.831\n",
      "Optimized:                       True   AIC                           -206.425\n",
      "Trend:                       Additive   BIC                           -195.696\n",
      "Seasonal:                        None   AICC                          -205.593\n",
      "Seasonal Periods:                None   Date:                 Mon, 12 Dec 2022\n",
      "Box-Cox:                        False   Time:                         19:51:34\n",
      "Box-Cox Coeff.:                  None                                         \n",
      "==============================================================================\n",
      "                       coeff                 code              optimized      \n",
      "------------------------------------------------------------------------------\n",
      "smoothing_level            1.0000000                alpha                 True\n",
      "smoothing_trend           9.3331e-11                 beta                 True\n",
      "initial_level              7.9245336                  l.0                 True\n",
      "initial_trend             -0.0245564                  b.0                 True\n",
      "------------------------------------------------------------------------------\n"
     ]
    },
    {
     "data": {
      "image/png": "[encoded data removed]",
      "text/plain": [
       "<Figure size 921.6x518.4 with 1 Axes>"
      ]
     },
     "metadata": {
      "needs_background": "light"
     },
     "output_type": "display_data"
    }
   ],
   "source": [
    "holt(x1,y1, y1_train,y1_test,len(x1_test),x1_train,x1_test)"
   ]
  },
  {
   "cell_type": "markdown",
   "id": "9332ac02",
   "metadata": {},
   "source": [
    "### The level smoothing parameter is \"1.00\" which indicates that a higher weight is assigned to the most recent observations.\n",
    "### The trend smoothing parameter is \"0.00\" indicates that the slope of the time series is not changing.\n",
    "### The MAPE for Model Acc is \"0.077\", which indicate model peformance is good."
   ]
  },
  {
   "cell_type": "markdown",
   "id": "0df23b43",
   "metadata": {},
   "source": [
    "# Damped Trend Exponential"
   ]
  },
  {
   "cell_type": "code",
   "execution_count": 18,
   "id": "2d3adbe4",
   "metadata": {},
   "outputs": [],
   "source": [
    "def damped(x1,y1,y1_train,y1_test, period,x1_train,x1_test):\n",
    "    plt1 = plt.plot(x1,y1,color='black')\n",
    "    fit1 = ExponentialSmoothing(y1_train,trend='add',seasonal=None, damped_trend=True).fit()\n",
    "    fcast1 = fit1.forecast(period)\n",
    "   # mse1_fit = ((fit1.fittedvalues - y1_train.squeeze()) ** 2).mean()\n",
    "   # mse1_acc = ((fcast1 - y1_test.squeeze()) ** 2).mean()\n",
    "    MAPE_fit= metrics.mean_absolute_percentage_error(y1_train, fit1.fittedvalues)\n",
    "    MAPE_acc = metrics.mean_absolute_percentage_error(y1_test, fcast1)\n",
    "    print(\"The MAPE for Model fit is {}\",MAPE_fit)\n",
    "    print(\"The MAPE for Model Acc is {}\",MAPE_acc)\n",
    "    #print('The Root Mean Squared Error of Model fit is {}'.format(round(np.sqrt(mse1_fit), 2)))\n",
    "    #print('The Root Mean Squared Error of Model accuracy is {}'.format(round(np.sqrt(mse1_acc), 2)))\n",
    "    plt2 = plt.plot(x1_train,fit1.fittedvalues, color='blue')\n",
    "    plt3 = plt.plot(x1_test,fcast1,color='red', marker=\"o\")\n",
    "    print(fit1.summary())\n",
    "    ax = plt.gca()\n",
    "    ax.legend([plt1[0],plt2[0],plt3[0]],[\"Actual\",\"Damped fit\",\"Damped Predict\"])\n",
    "    plt.xticks(rotation=30, ha='right')\n",
    "    plt.title(\"Damped Exponential Smoothing\")\n",
    "    plt.show()"
   ]
  },
  {
   "cell_type": "code",
   "execution_count": 19,
   "id": "15fd701b",
   "metadata": {},
   "outputs": [
    {
     "name": "stdout",
     "output_type": "stream",
     "text": [
      "The MAPE for Model fit is {} 0.025677113064064373\n",
      "The MAPE for Model Acc is {} 0.068513511041542\n",
      "                       ExponentialSmoothing Model Results                       \n",
      "================================================================================\n",
      "Dep. Variable:                    endog   No. Observations:                  108\n",
      "Model:             ExponentialSmoothing   SSE                             14.381\n",
      "Optimized:                         True   AIC                           -207.753\n",
      "Trend:                         Additive   BIC                           -194.342\n",
      "Seasonal:                          None   AICC                          -206.633\n",
      "Seasonal Periods:                  None   Date:                 Mon, 12 Dec 2022\n",
      "Box-Cox:                          False   Time:                         19:53:10\n",
      "Box-Cox Coeff.:                    None                                         \n",
      "==============================================================================\n",
      "                       coeff                 code              optimized      \n",
      "------------------------------------------------------------------------------\n",
      "smoothing_level            1.0000000                alpha                 True\n",
      "smoothing_trend            0.1351608                 beta                 True\n",
      "initial_level              8.2018638                  l.0                 True\n",
      "initial_trend             -0.3018650                  b.0                 True\n",
      "damping_trend              0.8000000                  phi                 True\n",
      "------------------------------------------------------------------------------\n"
     ]
    },
    {
     "data": {
      "image/png": "[encoded data removed]",
      "text/plain": [
       "<Figure size 921.6x518.4 with 1 Axes>"
      ]
     },
     "metadata": {
      "needs_background": "light"
     },
     "output_type": "display_data"
    }
   ],
   "source": [
    "damped(x1,y1, y1_train,y1_test,len(x1_test),x1_train,x1_test)"
   ]
  },
  {
   "cell_type": "markdown",
   "id": "ad1a06f3",
   "metadata": {},
   "source": [
    "### The level smoothing parameter is \"1.00\" which indicates that a higher weight is assigned to the most recent observations.\n",
    "### The trend smoothing parameter is \"0.135\" indicates that the slope of the time series is very less changing.\n",
    "### The damping smoothing parameter is \"0.800\" which indicates that more damping is applied.\n",
    "### The MAPE for Model Acc is \"0.068\", which indicate model peformance is good."
   ]
  },
  {
   "cell_type": "markdown",
   "id": "5b283d69",
   "metadata": {},
   "source": [
    "# Simple Linear Regression"
   ]
  },
  {
   "cell_type": "code",
   "execution_count": 52,
   "id": "eb49050a",
   "metadata": {},
   "outputs": [],
   "source": [
    "# Importing Linear Regression model from scikit learn\n",
    "from sklearn.linear_model import LinearRegression\n",
    "from sklearn import metrics\n",
    "from statsmodels.formula.api import ols\n",
    "import statsmodels.api as sm"
   ]
  },
  {
   "cell_type": "code",
   "execution_count": 53,
   "id": "a00ab581",
   "metadata": {},
   "outputs": [],
   "source": [
    "df_Unemployment['DateIndex'] = np.arange(len(df_Unemployment.index))\n",
    "X = df_Unemployment.loc[:, df_Unemployment.columns == 'DateIndex']\n",
    "y = df_Unemployment.loc[:, df_Unemployment.columns == 'Unemployment_rate']\n",
    "X = np.array(X).reshape((-1, 1))"
   ]
  },
  {
   "cell_type": "code",
   "execution_count": 54,
   "id": "d3180b2d",
   "metadata": {},
   "outputs": [],
   "source": [
    "X_train, X_test,y_train, y_test = train_test_split(X,y, test_size=0.20, shuffle=False)\n",
    "X_test = np.array(X_test).reshape((-1, 1))"
   ]
  },
  {
   "cell_type": "code",
   "execution_count": 55,
   "id": "a60d5d35",
   "metadata": {},
   "outputs": [
    {
     "data": {
      "text/html": [
       "<table class=\"simpletable\">\n",
       "<caption>OLS Regression Results</caption>\n",
       "<tr>\n",
       "  <th>Dep. Variable:</th>    <td>Unemployment_rate</td> <th>  R-squared (uncentered):</th>      <td>   0.701</td>\n",
       "</tr>\n",
       "<tr>\n",
       "  <th>Model:</th>                   <td>OLS</td>        <th>  Adj. R-squared (uncentered):</th> <td>   0.699</td>\n",
       "</tr>\n",
       "<tr>\n",
       "  <th>Method:</th>             <td>Least Squares</td>   <th>  F-statistic:       </th>          <td>   251.3</td>\n",
       "</tr>\n",
       "<tr>\n",
       "  <th>Date:</th>             <td>Mon, 12 Dec 2022</td>  <th>  Prob (F-statistic):</th>          <td>7.66e-30</td>\n",
       "</tr>\n",
       "<tr>\n",
       "  <th>Time:</th>                 <td>19:59:24</td>      <th>  Log-Likelihood:    </th>          <td> -303.63</td>\n",
       "</tr>\n",
       "<tr>\n",
       "  <th>No. Observations:</th>      <td>   108</td>       <th>  AIC:               </th>          <td>   609.3</td>\n",
       "</tr>\n",
       "<tr>\n",
       "  <th>Df Residuals:</th>          <td>   107</td>       <th>  BIC:               </th>          <td>   611.9</td>\n",
       "</tr>\n",
       "<tr>\n",
       "  <th>Df Model:</th>              <td>     1</td>       <th>                     </th>              <td> </td>   \n",
       "</tr>\n",
       "<tr>\n",
       "  <th>Covariance Type:</th>      <td>nonrobust</td>     <th>                     </th>              <td> </td>   \n",
       "</tr>\n",
       "</table>\n",
       "<table class=\"simpletable\">\n",
       "<tr>\n",
       "   <td></td>     <th>coef</th>     <th>std err</th>      <th>t</th>      <th>P>|t|</th>  <th>[0.025</th>    <th>0.975]</th>  \n",
       "</tr>\n",
       "<tr>\n",
       "  <th>x1</th> <td>    0.0996</td> <td>    0.006</td> <td>   15.851</td> <td> 0.000</td> <td>    0.087</td> <td>    0.112</td>\n",
       "</tr>\n",
       "</table>\n",
       "<table class=\"simpletable\">\n",
       "<tr>\n",
       "  <th>Omnibus:</th>       <td>66.411</td> <th>  Durbin-Watson:     </th> <td>   0.009</td>\n",
       "</tr>\n",
       "<tr>\n",
       "  <th>Prob(Omnibus):</th> <td> 0.000</td> <th>  Jarque-Bera (JB):  </th> <td>   7.789</td>\n",
       "</tr>\n",
       "<tr>\n",
       "  <th>Skew:</th>          <td>-0.054</td> <th>  Prob(JB):          </th> <td>  0.0204</td>\n",
       "</tr>\n",
       "<tr>\n",
       "  <th>Kurtosis:</th>      <td> 1.689</td> <th>  Cond. No.          </th> <td>    1.00</td>\n",
       "</tr>\n",
       "</table><br/><br/>Notes:<br/>[1] R² is computed without centering (uncentered) since the model does not contain a constant.<br/>[2] Standard Errors assume that the covariance matrix of the errors is correctly specified."
      ],
      "text/plain": [
       "<class 'statsmodels.iolib.summary.Summary'>\n",
       "\"\"\"\n",
       "                                 OLS Regression Results                                \n",
       "=======================================================================================\n",
       "Dep. Variable:      Unemployment_rate   R-squared (uncentered):                   0.701\n",
       "Model:                            OLS   Adj. R-squared (uncentered):              0.699\n",
       "Method:                 Least Squares   F-statistic:                              251.3\n",
       "Date:                Mon, 12 Dec 2022   Prob (F-statistic):                    7.66e-30\n",
       "Time:                        19:59:24   Log-Likelihood:                         -303.63\n",
       "No. Observations:                 108   AIC:                                      609.3\n",
       "Df Residuals:                     107   BIC:                                      611.9\n",
       "Df Model:                           1                                                  \n",
       "Covariance Type:            nonrobust                                                  \n",
       "==============================================================================\n",
       "                 coef    std err          t      P>|t|      [0.025      0.975]\n",
       "------------------------------------------------------------------------------\n",
       "x1             0.0996      0.006     15.851      0.000       0.087       0.112\n",
       "==============================================================================\n",
       "Omnibus:                       66.411   Durbin-Watson:                   0.009\n",
       "Prob(Omnibus):                  0.000   Jarque-Bera (JB):                7.789\n",
       "Skew:                          -0.054   Prob(JB):                       0.0204\n",
       "Kurtosis:                       1.689   Cond. No.                         1.00\n",
       "==============================================================================\n",
       "\n",
       "Notes:\n",
       "[1] R² is computed without centering (uncentered) since the model does not contain a constant.\n",
       "[2] Standard Errors assume that the covariance matrix of the errors is correctly specified.\n",
       "\"\"\""
      ]
     },
     "execution_count": 55,
     "metadata": {},
     "output_type": "execute_result"
    }
   ],
   "source": [
    "# fit the regression model\n",
    "model = sm.OLS(y_train, X_train).fit()\n",
    "model.summary()"
   ]
  },
  {
   "cell_type": "code",
   "execution_count": 56,
   "id": "0166a3ef",
   "metadata": {},
   "outputs": [
    {
     "data": {
      "text/plain": [
       "array([10.75662682, 10.85622522, 10.95582361, 11.05542201, 11.15502041,\n",
       "       11.2546188 , 11.3542172 , 11.4538156 , 11.55341399, 11.65301239,\n",
       "       11.75261079, 11.85220918, 11.95180758, 12.05140597, 12.15100437,\n",
       "       12.25060277, 12.35020116, 12.44979956, 12.54939796, 12.64899635,\n",
       "       12.74859475, 12.84819315, 12.94779154, 13.04738994, 13.14698834,\n",
       "       13.24658673, 13.34618513, 13.44578353])"
      ]
     },
     "execution_count": 56,
     "metadata": {},
     "output_type": "execute_result"
    }
   ],
   "source": [
    "y_pred = model.predict(X_test)\n",
    "y_pred"
   ]
  },
  {
   "cell_type": "code",
   "execution_count": 57,
   "id": "4b49f9bc",
   "metadata": {},
   "outputs": [
    {
     "name": "stdout",
     "output_type": "stream",
     "text": [
      "The MAPE for Model fit is 0.43508163280835715\n",
      "The MAPE for Model Acc is 1.5209778517562555\n"
     ]
    }
   ],
   "source": [
    "MAPE_train=metrics.mean_absolute_percentage_error(y_train, model.fittedvalues)\n",
    "print(\"The MAPE for Model fit is\",MAPE_train)\n",
    "MAPE_test=metrics.mean_absolute_percentage_error(y_test, y_pred)\n",
    "print(\"The MAPE for Model Acc is\",MAPE_test)"
   ]
  },
  {
   "cell_type": "code",
   "execution_count": 58,
   "id": "9b2e4242",
   "metadata": {},
   "outputs": [],
   "source": [
    "y_train = np.array(y_train).reshape((-1, 1))\n",
    "model.fittedvalues = np.array(model.fittedvalues).reshape((-1, 1))"
   ]
  },
  {
   "cell_type": "code",
   "execution_count": 59,
   "id": "b86aebba",
   "metadata": {},
   "outputs": [
    {
     "data": {
      "image/png": "[encoded data removed]",
      "text/plain": [
       "<Figure size 921.6x518.4 with 1 Axes>"
      ]
     },
     "metadata": {
      "needs_background": "light"
     },
     "output_type": "display_data"
    }
   ],
   "source": [
    "plt.plot(X_train,model.fittedvalues, color = \"black\")\n",
    "plt.plot(X_train,y_train, color = \"red\")\n",
    "plt.plot(X_test,y_pred, color = \"Orange\")\n",
    "plt.ylabel('Inflation')\n",
    "plt.xlabel('Date')\n",
    "plt.xticks(rotation=45)\n",
    "plt.rcParams['figure.figsize']=(12.8,7.2)\n",
    "plt.show()"
   ]
  },
  {
   "cell_type": "markdown",
   "id": "908c3772",
   "metadata": {},
   "source": [
    "# Model Assumptions\n",
    "## 1.\tFirst, we assume that the relationship between the forecast variable and the predictor variable is linear\n",
    "### The relationship between the forecast variable “Unemployment_rate” and the predictor variable is linear.\n",
    "## 2.Second, we make the following assumptions about the errors:     \n",
    "        * Residuals are normally distributed\n",
    "        * Residuals have constant variance \n",
    "        * Residual terms are independent"
   ]
  },
  {
   "cell_type": "code",
   "execution_count": 60,
   "id": "4e036e18",
   "metadata": {},
   "outputs": [
    {
     "data": {
      "image/png": "[encoded data removed]",
      "text/plain": [
       "<Figure size 921.6x518.4 with 1 Axes>"
      ]
     },
     "metadata": {
      "needs_background": "light"
     },
     "output_type": "display_data"
    }
   ],
   "source": [
    "from scipy import stats\n",
    "mu, std = stats.norm.fit(model.resid)\n",
    "mu, std\n",
    "import matplotlib.pyplot as plt\n",
    "import numpy as np\n",
    "import seaborn as sns\n",
    "\n",
    "fig, ax = plt.subplots()\n",
    "# plot the residuals\n",
    "sns.histplot(x=model.resid, ax=ax, stat=\"density\", linewidth=0, kde=True)\n",
    "ax.set(title=\"Distribution of residuals\", xlabel=\"residual\")\n",
    "\n",
    "# plot corresponding normal curve\n",
    "xmin, xmax = plt.xlim() # the maximum x values from the histogram above\n",
    "x = np.linspace(xmin, xmax, 100) # generate some x values\n",
    "p = stats.norm.pdf(x, mu, std) # calculate the y values for the normal curve\n",
    "sns.lineplot(x=x, y=p, color=\"orange\", ax=ax)\n",
    "plt.show()"
   ]
  },
  {
   "cell_type": "markdown",
   "id": "91d5b4aa",
   "metadata": {},
   "source": [
    "## According to the histogram, the residuals appear not normally distributed, The assumption is not true"
   ]
  },
  {
   "cell_type": "code",
   "execution_count": 61,
   "id": "c7446e30",
   "metadata": {},
   "outputs": [
    {
     "data": {
      "text/plain": [
       "[Text(0.5, 0, 'Residuals'), Text(0, 0.5, 'Predicted Values')]"
      ]
     },
     "execution_count": 61,
     "metadata": {},
     "output_type": "execute_result"
    },
    {
     "data": {
      "image/png": "[encoded data removed]",
      "text/plain": [
       "<Figure size 921.6x518.4 with 1 Axes>"
      ]
     },
     "metadata": {
      "needs_background": "light"
     },
     "output_type": "display_data"
    }
   ],
   "source": [
    "pred_resid = model.resid.tail(len(y_pred))\n",
    "\n",
    "#Residual Vs Predicted Plot\n",
    "fig, ax = plt.subplots(1,1)\n",
    "sns.regplot(x=pred_resid, y=y_pred, lowess=True, ax=ax, line_kws={'color': 'red'})\n",
    "ax.set_title('Residuals vs Predicted', fontsize=16)\n",
    "ax.set(xlabel='Residuals', ylabel='Predicted Values')"
   ]
  },
  {
   "cell_type": "markdown",
   "id": "0396bc35",
   "metadata": {},
   "source": [
    "## The residual vs. predicted value scatterplot shows a pattern that indicates that the equal variances assumption is not correct."
   ]
  },
  {
   "cell_type": "code",
   "execution_count": 62,
   "id": "7e927b52",
   "metadata": {},
   "outputs": [
    {
     "data": {
      "text/plain": [
       "0.00942073383607482"
      ]
     },
     "execution_count": 62,
     "metadata": {},
     "output_type": "execute_result"
    }
   ],
   "source": [
    "#perform Durbin-Watson test\n",
    "from statsmodels.stats.stattools import durbin_watson\n",
    "\n",
    "durbin_watson(model.resid)"
   ]
  },
  {
   "cell_type": "markdown",
   "id": "7cdd984b",
   "metadata": {},
   "source": [
    "## As the Durbin-Watson statistic ranges from 0-4. The DW statistic close to zero indicate that there is positive serial correlation"
   ]
  },
  {
   "cell_type": "markdown",
   "id": "d317f4f2",
   "metadata": {},
   "source": [
    "# Model Evaluation\n",
    "## 1.\tIs the model logical? \n",
    "### The model is logical because the slope is positive which makes sense. With the increase in time there is increase in Umemployment_rate\n",
    "## 2.\tIs the slope term statistically significant? \n",
    "### The p-value for the slope term is less than alpha, so independent variable is a significant predictor\n",
    "## 3.\tWhat percent of the variation in the dependent variable is explained by variation in the independent variable \n",
    "### R2 = 63% so 63% of the variation in the dependent variable is explained by the independent variable"
   ]
  },
  {
   "cell_type": "markdown",
   "id": "7512738a",
   "metadata": {},
   "source": [
    "## Among the Holt's, Damped and simple regression, Holt's Trend exponential smoothing model performed better. So we now forecast the Interest rate for next two quarter using Holt's trend model."
   ]
  },
  {
   "cell_type": "markdown",
   "id": "157e82d5",
   "metadata": {},
   "source": [
    "## ARIMA "
   ]
  },
  {
   "cell_type": "code",
   "execution_count": 65,
   "id": "3b0600bb",
   "metadata": {
    "scrolled": true
   },
   "outputs": [
    {
     "name": "stdout",
     "output_type": "stream",
     "text": [
      "Requirement already satisfied: pmdarima in c:\\users\\students\\anaconda3\\lib\\site-packages (2.0.2)\n",
      "Requirement already satisfied: Cython!=0.29.18,!=0.29.31,>=0.29 in c:\\users\\students\\anaconda3\\lib\\site-packages (from pmdarima) (0.29.28)\n",
      "Requirement already satisfied: statsmodels>=0.13.2 in c:\\users\\students\\anaconda3\\lib\\site-packages (from pmdarima) (0.13.2)\n",
      "Requirement already satisfied: urllib3 in c:\\users\\students\\anaconda3\\lib\\site-packages (from pmdarima) (1.26.9)\n",
      "Requirement already satisfied: joblib>=0.11 in c:\\users\\students\\anaconda3\\lib\\site-packages (from pmdarima) (1.1.0)\n",
      "Requirement already satisfied: numpy>=1.21.2 in c:\\users\\students\\anaconda3\\lib\\site-packages (from pmdarima) (1.21.5)\n",
      "Requirement already satisfied: scipy>=1.3.2 in c:\\users\\students\\anaconda3\\lib\\site-packages (from pmdarima) (1.7.3)\n",
      "Requirement already satisfied: setuptools!=50.0.0,>=38.6.0 in c:\\users\\students\\anaconda3\\lib\\site-packages (from pmdarima) (61.2.0)\n",
      "Requirement already satisfied: pandas>=0.19 in c:\\users\\students\\anaconda3\\lib\\site-packages (from pmdarima) (1.4.2)\n",
      "Requirement already satisfied: scikit-learn>=0.22 in c:\\users\\students\\anaconda3\\lib\\site-packages (from pmdarima) (1.0.2)\n",
      "Requirement already satisfied: python-dateutil>=2.8.1 in c:\\users\\students\\anaconda3\\lib\\site-packages (from pandas>=0.19->pmdarima) (2.8.2)\n",
      "Requirement already satisfied: pytz>=2020.1 in c:\\users\\students\\anaconda3\\lib\\site-packages (from pandas>=0.19->pmdarima) (2021.3)\n",
      "Requirement already satisfied: six>=1.5 in c:\\users\\students\\anaconda3\\lib\\site-packages (from python-dateutil>=2.8.1->pandas>=0.19->pmdarima) (1.16.0)\n",
      "Requirement already satisfied: threadpoolctl>=2.0.0 in c:\\users\\students\\anaconda3\\lib\\site-packages (from scikit-learn>=0.22->pmdarima) (2.2.0)\n",
      "Requirement already satisfied: patsy>=0.5.2 in c:\\users\\students\\anaconda3\\lib\\site-packages (from statsmodels>=0.13.2->pmdarima) (0.5.2)\n",
      "Requirement already satisfied: packaging>=21.3 in c:\\users\\students\\anaconda3\\lib\\site-packages (from statsmodels>=0.13.2->pmdarima) (21.3)\n",
      "Requirement already satisfied: pyparsing!=3.0.5,>=2.0.2 in c:\\users\\students\\anaconda3\\lib\\site-packages (from packaging>=21.3->statsmodels>=0.13.2->pmdarima) (3.0.4)\n",
      "Note: you may need to restart the kernel to use updated packages.\n"
     ]
    }
   ],
   "source": [
    "pip install pmdarima"
   ]
  },
  {
   "cell_type": "code",
   "execution_count": 66,
   "id": "97b3a42b",
   "metadata": {},
   "outputs": [],
   "source": [
    "from statsmodels.tsa.stattools import adfuller\n",
    "from statsmodels.graphics.tsaplots import plot_pacf\n",
    "from statsmodels.graphics.tsaplots import plot_acf\n",
    "from statsmodels.tsa.statespace.sarimax import SARIMAX\n",
    "from statsmodels.tsa.arima.model import ARIMA\n",
    "from pmdarima.model_selection import train_test_split"
   ]
  },
  {
   "cell_type": "code",
   "execution_count": 67,
   "id": "957b421c",
   "metadata": {},
   "outputs": [
    {
     "data": {
      "text/html": [
       "<div>\n",
       "<style scoped>\n",
       "    .dataframe tbody tr th:only-of-type {\n",
       "        vertical-align: middle;\n",
       "    }\n",
       "\n",
       "    .dataframe tbody tr th {\n",
       "        vertical-align: top;\n",
       "    }\n",
       "\n",
       "    .dataframe thead th {\n",
       "        text-align: right;\n",
       "    }\n",
       "</style>\n",
       "<table border=\"1\" class=\"dataframe\">\n",
       "  <thead>\n",
       "    <tr style=\"text-align: right;\">\n",
       "      <th></th>\n",
       "      <th>DATE</th>\n",
       "      <th>Unemployment_rate</th>\n",
       "      <th>DateIndex</th>\n",
       "    </tr>\n",
       "  </thead>\n",
       "  <tbody>\n",
       "    <tr>\n",
       "      <th>0</th>\n",
       "      <td>1989-03-31</td>\n",
       "      <td>7.9</td>\n",
       "      <td>0</td>\n",
       "    </tr>\n",
       "    <tr>\n",
       "      <th>1</th>\n",
       "      <td>1989-06-30</td>\n",
       "      <td>7.7</td>\n",
       "      <td>1</td>\n",
       "    </tr>\n",
       "    <tr>\n",
       "      <th>2</th>\n",
       "      <td>1989-09-30</td>\n",
       "      <td>7.6</td>\n",
       "      <td>2</td>\n",
       "    </tr>\n",
       "    <tr>\n",
       "      <th>3</th>\n",
       "      <td>1989-12-31</td>\n",
       "      <td>7.3</td>\n",
       "      <td>3</td>\n",
       "    </tr>\n",
       "    <tr>\n",
       "      <th>4</th>\n",
       "      <td>1990-03-31</td>\n",
       "      <td>7.0</td>\n",
       "      <td>4</td>\n",
       "    </tr>\n",
       "  </tbody>\n",
       "</table>\n",
       "</div>"
      ],
      "text/plain": [
       "        DATE  Unemployment_rate  DateIndex\n",
       "0 1989-03-31                7.9          0\n",
       "1 1989-06-30                7.7          1\n",
       "2 1989-09-30                7.6          2\n",
       "3 1989-12-31                7.3          3\n",
       "4 1990-03-31                7.0          4"
      ]
     },
     "execution_count": 67,
     "metadata": {},
     "output_type": "execute_result"
    }
   ],
   "source": [
    "df_Unemployment.head()"
   ]
  },
  {
   "cell_type": "markdown",
   "id": "916f0c64",
   "metadata": {},
   "source": [
    "### Check if the data is stationary using Dickey-Fuller test "
   ]
  },
  {
   "cell_type": "code",
   "execution_count": 69,
   "id": "755bc070",
   "metadata": {},
   "outputs": [
    {
     "name": "stdout",
     "output_type": "stream",
     "text": [
      "ADF Statistic: -1.6491348526242602\n",
      "p-value: 0.4574916638042196\n"
     ]
    }
   ],
   "source": [
    "ad_fuller_result = adfuller(df_Unemployment['Unemployment_rate'])\n",
    "print(f'ADF Statistic: {ad_fuller_result[0]}')\n",
    "print(f'p-value: {ad_fuller_result[1]}')"
   ]
  },
  {
   "cell_type": "markdown",
   "id": "46fbf870",
   "metadata": {},
   "source": [
    "### The p value is higher than alpha so we cannot reject null hypothesis and must assume the data is not stationary"
   ]
  },
  {
   "cell_type": "markdown",
   "id": "e58e4bfd",
   "metadata": {},
   "source": [
    "### Differencing can be done to make the data stationary "
   ]
  },
  {
   "cell_type": "code",
   "execution_count": 70,
   "id": "63d59bee",
   "metadata": {},
   "outputs": [],
   "source": [
    "df_Unemployment['Unemployment_Rate_diff'] = df_Unemployment['Unemployment_rate'] - df_Unemployment['Unemployment_rate'].shift(1)"
   ]
  },
  {
   "cell_type": "code",
   "execution_count": 71,
   "id": "5224a2a5",
   "metadata": {},
   "outputs": [
    {
     "data": {
      "text/plain": [
       "0    NaN\n",
       "1   -0.2\n",
       "2   -0.1\n",
       "3   -0.3\n",
       "4   -0.3\n",
       "Name: Unemployment_Rate_diff, dtype: float64"
      ]
     },
     "execution_count": 71,
     "metadata": {},
     "output_type": "execute_result"
    }
   ],
   "source": [
    "df_Unemployment['Unemployment_Rate_diff'].head()"
   ]
  },
  {
   "cell_type": "code",
   "execution_count": 72,
   "id": "c6004c5c",
   "metadata": {},
   "outputs": [
    {
     "data": {
      "text/html": [
       "<div>\n",
       "<style scoped>\n",
       "    .dataframe tbody tr th:only-of-type {\n",
       "        vertical-align: middle;\n",
       "    }\n",
       "\n",
       "    .dataframe tbody tr th {\n",
       "        vertical-align: top;\n",
       "    }\n",
       "\n",
       "    .dataframe thead th {\n",
       "        text-align: right;\n",
       "    }\n",
       "</style>\n",
       "<table border=\"1\" class=\"dataframe\">\n",
       "  <thead>\n",
       "    <tr style=\"text-align: right;\">\n",
       "      <th></th>\n",
       "      <th>DATE</th>\n",
       "      <th>Unemployment_rate</th>\n",
       "      <th>DateIndex</th>\n",
       "      <th>Unemployment_Rate_diff</th>\n",
       "    </tr>\n",
       "  </thead>\n",
       "  <tbody>\n",
       "    <tr>\n",
       "      <th>1</th>\n",
       "      <td>1989-06-30</td>\n",
       "      <td>7.7</td>\n",
       "      <td>1</td>\n",
       "      <td>-0.200</td>\n",
       "    </tr>\n",
       "    <tr>\n",
       "      <th>2</th>\n",
       "      <td>1989-09-30</td>\n",
       "      <td>7.6</td>\n",
       "      <td>2</td>\n",
       "      <td>-0.100</td>\n",
       "    </tr>\n",
       "    <tr>\n",
       "      <th>3</th>\n",
       "      <td>1989-12-31</td>\n",
       "      <td>7.3</td>\n",
       "      <td>3</td>\n",
       "      <td>-0.300</td>\n",
       "    </tr>\n",
       "    <tr>\n",
       "      <th>4</th>\n",
       "      <td>1990-03-31</td>\n",
       "      <td>7.0</td>\n",
       "      <td>4</td>\n",
       "      <td>-0.300</td>\n",
       "    </tr>\n",
       "    <tr>\n",
       "      <th>5</th>\n",
       "      <td>1990-06-30</td>\n",
       "      <td>6.8</td>\n",
       "      <td>5</td>\n",
       "      <td>-0.200</td>\n",
       "    </tr>\n",
       "    <tr>\n",
       "      <th>...</th>\n",
       "      <td>...</td>\n",
       "      <td>...</td>\n",
       "      <td>...</td>\n",
       "      <td>...</td>\n",
       "    </tr>\n",
       "    <tr>\n",
       "      <th>131</th>\n",
       "      <td>2021-12-31</td>\n",
       "      <td>4.5</td>\n",
       "      <td>131</td>\n",
       "      <td>-0.275</td>\n",
       "    </tr>\n",
       "    <tr>\n",
       "      <th>132</th>\n",
       "      <td>2022-03-31</td>\n",
       "      <td>4.2</td>\n",
       "      <td>132</td>\n",
       "      <td>-0.300</td>\n",
       "    </tr>\n",
       "    <tr>\n",
       "      <th>133</th>\n",
       "      <td>2022-06-30</td>\n",
       "      <td>4.3</td>\n",
       "      <td>133</td>\n",
       "      <td>0.100</td>\n",
       "    </tr>\n",
       "    <tr>\n",
       "      <th>134</th>\n",
       "      <td>2022-09-30</td>\n",
       "      <td>5.7</td>\n",
       "      <td>134</td>\n",
       "      <td>1.400</td>\n",
       "    </tr>\n",
       "    <tr>\n",
       "      <th>135</th>\n",
       "      <td>2022-12-31</td>\n",
       "      <td>5.5</td>\n",
       "      <td>135</td>\n",
       "      <td>-0.200</td>\n",
       "    </tr>\n",
       "  </tbody>\n",
       "</table>\n",
       "<p>135 rows × 4 columns</p>\n",
       "</div>"
      ],
      "text/plain": [
       "          DATE  Unemployment_rate  DateIndex  Unemployment_Rate_diff\n",
       "1   1989-06-30                7.7          1                  -0.200\n",
       "2   1989-09-30                7.6          2                  -0.100\n",
       "3   1989-12-31                7.3          3                  -0.300\n",
       "4   1990-03-31                7.0          4                  -0.300\n",
       "5   1990-06-30                6.8          5                  -0.200\n",
       "..         ...                ...        ...                     ...\n",
       "131 2021-12-31                4.5        131                  -0.275\n",
       "132 2022-03-31                4.2        132                  -0.300\n",
       "133 2022-06-30                4.3        133                   0.100\n",
       "134 2022-09-30                5.7        134                   1.400\n",
       "135 2022-12-31                5.5        135                  -0.200\n",
       "\n",
       "[135 rows x 4 columns]"
      ]
     },
     "execution_count": 72,
     "metadata": {},
     "output_type": "execute_result"
    }
   ],
   "source": [
    "df_Unemployment = df_Unemployment.dropna()\n",
    "df_Unemployment"
   ]
  },
  {
   "cell_type": "markdown",
   "id": "dcb09658",
   "metadata": {},
   "source": [
    "### Check again if the differenced data is stationary "
   ]
  },
  {
   "cell_type": "code",
   "execution_count": 73,
   "id": "c609e5eb",
   "metadata": {},
   "outputs": [
    {
     "name": "stdout",
     "output_type": "stream",
     "text": [
      "ADF Statistic: -10.045891063644193\n",
      "p-value: 1.4548495306052942e-17\n"
     ]
    }
   ],
   "source": [
    "ad_fuller_result = adfuller(df_Unemployment['Unemployment_Rate_diff'])\n",
    "print(f'ADF Statistic: {ad_fuller_result[0]}')\n",
    "print(f'p-value: {ad_fuller_result[1]}')"
   ]
  },
  {
   "cell_type": "markdown",
   "id": "62436f4f",
   "metadata": {},
   "source": [
    "### The p value is lower than alpha so we can assume that the data is stationary "
   ]
  },
  {
   "cell_type": "code",
   "execution_count": 74,
   "id": "8cc25c2d",
   "metadata": {},
   "outputs": [
    {
     "data": {
      "text/plain": [
       "<AxesSubplot:>"
      ]
     },
     "execution_count": 74,
     "metadata": {},
     "output_type": "execute_result"
    },
    {
     "data": {
      "image/png": "[encoded data removed]",
      "text/plain": [
       "<Figure size 921.6x518.4 with 1 Axes>"
      ]
     },
     "metadata": {
      "needs_background": "light"
     },
     "output_type": "display_data"
    }
   ],
   "source": [
    "#viewing the stationary data \n",
    "df_Unemployment['Unemployment_Rate_diff'].plot()"
   ]
  },
  {
   "cell_type": "markdown",
   "id": "86b22978",
   "metadata": {},
   "source": [
    "### Plotting ACF and PACF of differenced data to find which ARIMA model to choose "
   ]
  },
  {
   "cell_type": "code",
   "execution_count": 75,
   "id": "177c8932",
   "metadata": {},
   "outputs": [
    {
     "name": "stderr",
     "output_type": "stream",
     "text": [
      "C:\\Users\\Students\\anaconda3\\lib\\site-packages\\statsmodels\\graphics\\tsaplots.py:348: FutureWarning: The default method 'yw' can produce PACF values outside of the [-1,1] interval. After 0.13, the default will change tounadjusted Yule-Walker ('ywm'). You can use this method now by setting method='ywm'.\n",
      "  warnings.warn(\n"
     ]
    },
    {
     "data": {
      "image/png": "[encoded data removed]",
      "text/plain": [
       "<Figure size 921.6x518.4 with 1 Axes>"
      ]
     },
     "execution_count": 75,
     "metadata": {},
     "output_type": "execute_result"
    },
    {
     "data": {
      "image/png": "[encoded data removed]",
      "text/plain": [
       "<Figure size 921.6x518.4 with 1 Axes>"
      ]
     },
     "metadata": {
      "needs_background": "light"
     },
     "output_type": "display_data"
    },
    {
     "data": {
      "image/png": "[encoded data removed]",
      "text/plain": [
       "<Figure size 921.6x518.4 with 1 Axes>"
      ]
     },
     "metadata": {
      "needs_background": "light"
     },
     "output_type": "display_data"
    }
   ],
   "source": [
    "plot_acf(df_Unemployment['Unemployment_Rate_diff'],lags=50)\n",
    "plot_pacf(df_Unemployment['Unemployment_Rate_diff'],lags=50)"
   ]
  },
  {
   "cell_type": "markdown",
   "id": "e7597d92",
   "metadata": {},
   "source": [
    "### The arima model can be split up into AR(p), I(d) and MA(q). In the PACF graph, we can see zero significant lags within the first 5 lags, making the AR equal to 0. In the ACF graph, we also see zero significant lags, making the MA equal to 0. The I or differencing term in the arima model is equal to 1 since we did one level of differencing to make the data stationary. This makes our model ARIMA(0,1,0). Next, we build the model based on these specifications."
   ]
  },
  {
   "cell_type": "code",
   "execution_count": 76,
   "id": "bdb92c8f",
   "metadata": {},
   "outputs": [],
   "source": [
    "train = df_Unemployment.loc[:106]\n",
    "test = df_Unemployment.loc[107:]"
   ]
  },
  {
   "cell_type": "code",
   "execution_count": 77,
   "id": "be5bf21b",
   "metadata": {},
   "outputs": [
    {
     "data": {
      "text/html": [
       "<div>\n",
       "<style scoped>\n",
       "    .dataframe tbody tr th:only-of-type {\n",
       "        vertical-align: middle;\n",
       "    }\n",
       "\n",
       "    .dataframe tbody tr th {\n",
       "        vertical-align: top;\n",
       "    }\n",
       "\n",
       "    .dataframe thead th {\n",
       "        text-align: right;\n",
       "    }\n",
       "</style>\n",
       "<table border=\"1\" class=\"dataframe\">\n",
       "  <thead>\n",
       "    <tr style=\"text-align: right;\">\n",
       "      <th></th>\n",
       "      <th>DATE</th>\n",
       "      <th>Unemployment_rate</th>\n",
       "      <th>DateIndex</th>\n",
       "      <th>Unemployment_Rate_diff</th>\n",
       "    </tr>\n",
       "  </thead>\n",
       "  <tbody>\n",
       "    <tr>\n",
       "      <th>1</th>\n",
       "      <td>1989-06-30</td>\n",
       "      <td>7.700</td>\n",
       "      <td>1</td>\n",
       "      <td>-0.200</td>\n",
       "    </tr>\n",
       "    <tr>\n",
       "      <th>2</th>\n",
       "      <td>1989-09-30</td>\n",
       "      <td>7.600</td>\n",
       "      <td>2</td>\n",
       "      <td>-0.100</td>\n",
       "    </tr>\n",
       "    <tr>\n",
       "      <th>3</th>\n",
       "      <td>1989-12-31</td>\n",
       "      <td>7.300</td>\n",
       "      <td>3</td>\n",
       "      <td>-0.300</td>\n",
       "    </tr>\n",
       "    <tr>\n",
       "      <th>4</th>\n",
       "      <td>1990-03-31</td>\n",
       "      <td>7.000</td>\n",
       "      <td>4</td>\n",
       "      <td>-0.300</td>\n",
       "    </tr>\n",
       "    <tr>\n",
       "      <th>5</th>\n",
       "      <td>1990-06-30</td>\n",
       "      <td>6.800</td>\n",
       "      <td>5</td>\n",
       "      <td>-0.200</td>\n",
       "    </tr>\n",
       "    <tr>\n",
       "      <th>...</th>\n",
       "      <td>...</td>\n",
       "      <td>...</td>\n",
       "      <td>...</td>\n",
       "      <td>...</td>\n",
       "    </tr>\n",
       "    <tr>\n",
       "      <th>102</th>\n",
       "      <td>2014-09-30</td>\n",
       "      <td>6.475</td>\n",
       "      <td>102</td>\n",
       "      <td>-0.050</td>\n",
       "    </tr>\n",
       "    <tr>\n",
       "      <th>103</th>\n",
       "      <td>2014-12-31</td>\n",
       "      <td>6.025</td>\n",
       "      <td>103</td>\n",
       "      <td>-0.450</td>\n",
       "    </tr>\n",
       "    <tr>\n",
       "      <th>104</th>\n",
       "      <td>2015-03-31</td>\n",
       "      <td>5.800</td>\n",
       "      <td>104</td>\n",
       "      <td>-0.225</td>\n",
       "    </tr>\n",
       "    <tr>\n",
       "      <th>105</th>\n",
       "      <td>2015-06-30</td>\n",
       "      <td>5.775</td>\n",
       "      <td>105</td>\n",
       "      <td>-0.025</td>\n",
       "    </tr>\n",
       "    <tr>\n",
       "      <th>106</th>\n",
       "      <td>2015-09-30</td>\n",
       "      <td>5.725</td>\n",
       "      <td>106</td>\n",
       "      <td>-0.050</td>\n",
       "    </tr>\n",
       "  </tbody>\n",
       "</table>\n",
       "<p>106 rows × 4 columns</p>\n",
       "</div>"
      ],
      "text/plain": [
       "          DATE  Unemployment_rate  DateIndex  Unemployment_Rate_diff\n",
       "1   1989-06-30              7.700          1                  -0.200\n",
       "2   1989-09-30              7.600          2                  -0.100\n",
       "3   1989-12-31              7.300          3                  -0.300\n",
       "4   1990-03-31              7.000          4                  -0.300\n",
       "5   1990-06-30              6.800          5                  -0.200\n",
       "..         ...                ...        ...                     ...\n",
       "102 2014-09-30              6.475        102                  -0.050\n",
       "103 2014-12-31              6.025        103                  -0.450\n",
       "104 2015-03-31              5.800        104                  -0.225\n",
       "105 2015-06-30              5.775        105                  -0.025\n",
       "106 2015-09-30              5.725        106                  -0.050\n",
       "\n",
       "[106 rows x 4 columns]"
      ]
     },
     "execution_count": 77,
     "metadata": {},
     "output_type": "execute_result"
    }
   ],
   "source": [
    "train"
   ]
  },
  {
   "cell_type": "code",
   "execution_count": 78,
   "id": "530a924f",
   "metadata": {},
   "outputs": [
    {
     "data": {
      "text/html": [
       "<div>\n",
       "<style scoped>\n",
       "    .dataframe tbody tr th:only-of-type {\n",
       "        vertical-align: middle;\n",
       "    }\n",
       "\n",
       "    .dataframe tbody tr th {\n",
       "        vertical-align: top;\n",
       "    }\n",
       "\n",
       "    .dataframe thead th {\n",
       "        text-align: right;\n",
       "    }\n",
       "</style>\n",
       "<table border=\"1\" class=\"dataframe\">\n",
       "  <thead>\n",
       "    <tr style=\"text-align: right;\">\n",
       "      <th></th>\n",
       "      <th>DATE</th>\n",
       "      <th>Unemployment_rate</th>\n",
       "      <th>DateIndex</th>\n",
       "      <th>Unemployment_Rate_diff</th>\n",
       "    </tr>\n",
       "  </thead>\n",
       "  <tbody>\n",
       "    <tr>\n",
       "      <th>107</th>\n",
       "      <td>2015-12-31</td>\n",
       "      <td>5.275</td>\n",
       "      <td>107</td>\n",
       "      <td>-0.450</td>\n",
       "    </tr>\n",
       "    <tr>\n",
       "      <th>108</th>\n",
       "      <td>2016-03-31</td>\n",
       "      <td>5.325</td>\n",
       "      <td>108</td>\n",
       "      <td>0.050</td>\n",
       "    </tr>\n",
       "    <tr>\n",
       "      <th>109</th>\n",
       "      <td>2016-06-30</td>\n",
       "      <td>5.275</td>\n",
       "      <td>109</td>\n",
       "      <td>-0.050</td>\n",
       "    </tr>\n",
       "    <tr>\n",
       "      <th>110</th>\n",
       "      <td>2016-09-30</td>\n",
       "      <td>5.375</td>\n",
       "      <td>110</td>\n",
       "      <td>0.100</td>\n",
       "    </tr>\n",
       "    <tr>\n",
       "      <th>111</th>\n",
       "      <td>2016-12-31</td>\n",
       "      <td>5.025</td>\n",
       "      <td>111</td>\n",
       "      <td>-0.350</td>\n",
       "    </tr>\n",
       "    <tr>\n",
       "      <th>112</th>\n",
       "      <td>2017-03-31</td>\n",
       "      <td>4.950</td>\n",
       "      <td>112</td>\n",
       "      <td>-0.075</td>\n",
       "    </tr>\n",
       "    <tr>\n",
       "      <th>113</th>\n",
       "      <td>2017-06-30</td>\n",
       "      <td>4.850</td>\n",
       "      <td>113</td>\n",
       "      <td>-0.100</td>\n",
       "    </tr>\n",
       "    <tr>\n",
       "      <th>114</th>\n",
       "      <td>2017-09-30</td>\n",
       "      <td>4.975</td>\n",
       "      <td>114</td>\n",
       "      <td>0.125</td>\n",
       "    </tr>\n",
       "    <tr>\n",
       "      <th>115</th>\n",
       "      <td>2017-12-31</td>\n",
       "      <td>4.800</td>\n",
       "      <td>115</td>\n",
       "      <td>-0.175</td>\n",
       "    </tr>\n",
       "    <tr>\n",
       "      <th>116</th>\n",
       "      <td>2018-03-31</td>\n",
       "      <td>4.675</td>\n",
       "      <td>116</td>\n",
       "      <td>-0.125</td>\n",
       "    </tr>\n",
       "    <tr>\n",
       "      <th>117</th>\n",
       "      <td>2018-06-30</td>\n",
       "      <td>4.575</td>\n",
       "      <td>117</td>\n",
       "      <td>-0.100</td>\n",
       "    </tr>\n",
       "    <tr>\n",
       "      <th>118</th>\n",
       "      <td>2018-09-30</td>\n",
       "      <td>4.700</td>\n",
       "      <td>118</td>\n",
       "      <td>0.125</td>\n",
       "    </tr>\n",
       "    <tr>\n",
       "      <th>119</th>\n",
       "      <td>2018-12-31</td>\n",
       "      <td>4.475</td>\n",
       "      <td>119</td>\n",
       "      <td>-0.225</td>\n",
       "    </tr>\n",
       "    <tr>\n",
       "      <th>120</th>\n",
       "      <td>2019-03-31</td>\n",
       "      <td>4.400</td>\n",
       "      <td>120</td>\n",
       "      <td>-0.075</td>\n",
       "    </tr>\n",
       "    <tr>\n",
       "      <th>121</th>\n",
       "      <td>2019-06-30</td>\n",
       "      <td>4.375</td>\n",
       "      <td>121</td>\n",
       "      <td>-0.025</td>\n",
       "    </tr>\n",
       "    <tr>\n",
       "      <th>122</th>\n",
       "      <td>2019-09-30</td>\n",
       "      <td>4.550</td>\n",
       "      <td>122</td>\n",
       "      <td>0.175</td>\n",
       "    </tr>\n",
       "    <tr>\n",
       "      <th>123</th>\n",
       "      <td>2019-12-31</td>\n",
       "      <td>4.350</td>\n",
       "      <td>123</td>\n",
       "      <td>-0.200</td>\n",
       "    </tr>\n",
       "    <tr>\n",
       "      <th>124</th>\n",
       "      <td>2020-03-31</td>\n",
       "      <td>4.450</td>\n",
       "      <td>124</td>\n",
       "      <td>0.100</td>\n",
       "    </tr>\n",
       "    <tr>\n",
       "      <th>125</th>\n",
       "      <td>2020-06-30</td>\n",
       "      <td>4.550</td>\n",
       "      <td>125</td>\n",
       "      <td>0.100</td>\n",
       "    </tr>\n",
       "    <tr>\n",
       "      <th>126</th>\n",
       "      <td>2020-09-30</td>\n",
       "      <td>5.300</td>\n",
       "      <td>126</td>\n",
       "      <td>0.750</td>\n",
       "    </tr>\n",
       "    <tr>\n",
       "      <th>127</th>\n",
       "      <td>2020-12-31</td>\n",
       "      <td>5.425</td>\n",
       "      <td>127</td>\n",
       "      <td>0.125</td>\n",
       "    </tr>\n",
       "    <tr>\n",
       "      <th>128</th>\n",
       "      <td>2021-03-31</td>\n",
       "      <td>5.150</td>\n",
       "      <td>128</td>\n",
       "      <td>-0.275</td>\n",
       "    </tr>\n",
       "    <tr>\n",
       "      <th>129</th>\n",
       "      <td>2021-06-30</td>\n",
       "      <td>4.925</td>\n",
       "      <td>129</td>\n",
       "      <td>-0.225</td>\n",
       "    </tr>\n",
       "    <tr>\n",
       "      <th>130</th>\n",
       "      <td>2021-09-30</td>\n",
       "      <td>4.775</td>\n",
       "      <td>130</td>\n",
       "      <td>-0.150</td>\n",
       "    </tr>\n",
       "    <tr>\n",
       "      <th>131</th>\n",
       "      <td>2021-12-31</td>\n",
       "      <td>4.500</td>\n",
       "      <td>131</td>\n",
       "      <td>-0.275</td>\n",
       "    </tr>\n",
       "    <tr>\n",
       "      <th>132</th>\n",
       "      <td>2022-03-31</td>\n",
       "      <td>4.200</td>\n",
       "      <td>132</td>\n",
       "      <td>-0.300</td>\n",
       "    </tr>\n",
       "    <tr>\n",
       "      <th>133</th>\n",
       "      <td>2022-06-30</td>\n",
       "      <td>4.300</td>\n",
       "      <td>133</td>\n",
       "      <td>0.100</td>\n",
       "    </tr>\n",
       "    <tr>\n",
       "      <th>134</th>\n",
       "      <td>2022-09-30</td>\n",
       "      <td>5.700</td>\n",
       "      <td>134</td>\n",
       "      <td>1.400</td>\n",
       "    </tr>\n",
       "    <tr>\n",
       "      <th>135</th>\n",
       "      <td>2022-12-31</td>\n",
       "      <td>5.500</td>\n",
       "      <td>135</td>\n",
       "      <td>-0.200</td>\n",
       "    </tr>\n",
       "  </tbody>\n",
       "</table>\n",
       "</div>"
      ],
      "text/plain": [
       "          DATE  Unemployment_rate  DateIndex  Unemployment_Rate_diff\n",
       "107 2015-12-31              5.275        107                  -0.450\n",
       "108 2016-03-31              5.325        108                   0.050\n",
       "109 2016-06-30              5.275        109                  -0.050\n",
       "110 2016-09-30              5.375        110                   0.100\n",
       "111 2016-12-31              5.025        111                  -0.350\n",
       "112 2017-03-31              4.950        112                  -0.075\n",
       "113 2017-06-30              4.850        113                  -0.100\n",
       "114 2017-09-30              4.975        114                   0.125\n",
       "115 2017-12-31              4.800        115                  -0.175\n",
       "116 2018-03-31              4.675        116                  -0.125\n",
       "117 2018-06-30              4.575        117                  -0.100\n",
       "118 2018-09-30              4.700        118                   0.125\n",
       "119 2018-12-31              4.475        119                  -0.225\n",
       "120 2019-03-31              4.400        120                  -0.075\n",
       "121 2019-06-30              4.375        121                  -0.025\n",
       "122 2019-09-30              4.550        122                   0.175\n",
       "123 2019-12-31              4.350        123                  -0.200\n",
       "124 2020-03-31              4.450        124                   0.100\n",
       "125 2020-06-30              4.550        125                   0.100\n",
       "126 2020-09-30              5.300        126                   0.750\n",
       "127 2020-12-31              5.425        127                   0.125\n",
       "128 2021-03-31              5.150        128                  -0.275\n",
       "129 2021-06-30              4.925        129                  -0.225\n",
       "130 2021-09-30              4.775        130                  -0.150\n",
       "131 2021-12-31              4.500        131                  -0.275\n",
       "132 2022-03-31              4.200        132                  -0.300\n",
       "133 2022-06-30              4.300        133                   0.100\n",
       "134 2022-09-30              5.700        134                   1.400\n",
       "135 2022-12-31              5.500        135                  -0.200"
      ]
     },
     "execution_count": 78,
     "metadata": {},
     "output_type": "execute_result"
    }
   ],
   "source": [
    "test"
   ]
  },
  {
   "cell_type": "code",
   "execution_count": 79,
   "id": "8403d5c4",
   "metadata": {},
   "outputs": [
    {
     "name": "stderr",
     "output_type": "stream",
     "text": [
      "C:\\Users\\Students\\anaconda3\\lib\\site-packages\\statsmodels\\tsa\\base\\tsa_model.py:471: ValueWarning: An unsupported index was provided and will be ignored when e.g. forecasting.\n",
      "  self._init_dates(dates, freq)\n",
      "C:\\Users\\Students\\anaconda3\\lib\\site-packages\\statsmodels\\tsa\\base\\tsa_model.py:471: ValueWarning: An unsupported index was provided and will be ignored when e.g. forecasting.\n",
      "  self._init_dates(dates, freq)\n",
      "C:\\Users\\Students\\anaconda3\\lib\\site-packages\\statsmodels\\tsa\\base\\tsa_model.py:471: ValueWarning: An unsupported index was provided and will be ignored when e.g. forecasting.\n",
      "  self._init_dates(dates, freq)\n"
     ]
    }
   ],
   "source": [
    "model = ARIMA(train['Unemployment_rate'], order = (0, 1, 0))\n",
    "results = model.fit()"
   ]
  },
  {
   "cell_type": "code",
   "execution_count": 80,
   "id": "8ca8a95b",
   "metadata": {},
   "outputs": [
    {
     "name": "stderr",
     "output_type": "stream",
     "text": [
      "C:\\Users\\Students\\anaconda3\\lib\\site-packages\\statsmodels\\tsa\\base\\tsa_model.py:834: ValueWarning: No supported index is available. Prediction results will be given with an integer index beginning at `start`.\n",
      "  return get_prediction_index(\n",
      "C:\\Users\\Students\\AppData\\Local\\Temp\\ipykernel_9924\\2371923517.py:3: SettingWithCopyWarning: \n",
      "A value is trying to be set on a copy of a slice from a DataFrame.\n",
      "Try using .loc[row_indexer,col_indexer] = value instead\n",
      "\n",
      "See the caveats in the documentation: https://pandas.pydata.org/pandas-docs/stable/user_guide/indexing.html#returning-a-view-versus-a-copy\n",
      "  test[\"predicted_values\"] = prediction\n"
     ]
    }
   ],
   "source": [
    "prediction = results.predict(start=106, end=133, dynamic=False)\n",
    "prediction.columns = [\"predicted_values\"]\n",
    "test[\"predicted_values\"] = prediction"
   ]
  },
  {
   "cell_type": "code",
   "execution_count": 81,
   "id": "1e83cd97",
   "metadata": {},
   "outputs": [
    {
     "data": {
      "text/html": [
       "<div>\n",
       "<style scoped>\n",
       "    .dataframe tbody tr th:only-of-type {\n",
       "        vertical-align: middle;\n",
       "    }\n",
       "\n",
       "    .dataframe tbody tr th {\n",
       "        vertical-align: top;\n",
       "    }\n",
       "\n",
       "    .dataframe thead th {\n",
       "        text-align: right;\n",
       "    }\n",
       "</style>\n",
       "<table border=\"1\" class=\"dataframe\">\n",
       "  <thead>\n",
       "    <tr style=\"text-align: right;\">\n",
       "      <th></th>\n",
       "      <th>DATE</th>\n",
       "      <th>Unemployment_rate</th>\n",
       "      <th>DateIndex</th>\n",
       "      <th>Unemployment_Rate_diff</th>\n",
       "      <th>predicted_values</th>\n",
       "    </tr>\n",
       "  </thead>\n",
       "  <tbody>\n",
       "    <tr>\n",
       "      <th>107</th>\n",
       "      <td>2015-12-31</td>\n",
       "      <td>5.275</td>\n",
       "      <td>107</td>\n",
       "      <td>-0.450</td>\n",
       "      <td>5.725</td>\n",
       "    </tr>\n",
       "    <tr>\n",
       "      <th>108</th>\n",
       "      <td>2016-03-31</td>\n",
       "      <td>5.325</td>\n",
       "      <td>108</td>\n",
       "      <td>0.050</td>\n",
       "      <td>5.725</td>\n",
       "    </tr>\n",
       "    <tr>\n",
       "      <th>109</th>\n",
       "      <td>2016-06-30</td>\n",
       "      <td>5.275</td>\n",
       "      <td>109</td>\n",
       "      <td>-0.050</td>\n",
       "      <td>5.725</td>\n",
       "    </tr>\n",
       "    <tr>\n",
       "      <th>110</th>\n",
       "      <td>2016-09-30</td>\n",
       "      <td>5.375</td>\n",
       "      <td>110</td>\n",
       "      <td>0.100</td>\n",
       "      <td>5.725</td>\n",
       "    </tr>\n",
       "    <tr>\n",
       "      <th>111</th>\n",
       "      <td>2016-12-31</td>\n",
       "      <td>5.025</td>\n",
       "      <td>111</td>\n",
       "      <td>-0.350</td>\n",
       "      <td>5.725</td>\n",
       "    </tr>\n",
       "    <tr>\n",
       "      <th>112</th>\n",
       "      <td>2017-03-31</td>\n",
       "      <td>4.950</td>\n",
       "      <td>112</td>\n",
       "      <td>-0.075</td>\n",
       "      <td>5.725</td>\n",
       "    </tr>\n",
       "    <tr>\n",
       "      <th>113</th>\n",
       "      <td>2017-06-30</td>\n",
       "      <td>4.850</td>\n",
       "      <td>113</td>\n",
       "      <td>-0.100</td>\n",
       "      <td>5.725</td>\n",
       "    </tr>\n",
       "    <tr>\n",
       "      <th>114</th>\n",
       "      <td>2017-09-30</td>\n",
       "      <td>4.975</td>\n",
       "      <td>114</td>\n",
       "      <td>0.125</td>\n",
       "      <td>5.725</td>\n",
       "    </tr>\n",
       "    <tr>\n",
       "      <th>115</th>\n",
       "      <td>2017-12-31</td>\n",
       "      <td>4.800</td>\n",
       "      <td>115</td>\n",
       "      <td>-0.175</td>\n",
       "      <td>5.725</td>\n",
       "    </tr>\n",
       "    <tr>\n",
       "      <th>116</th>\n",
       "      <td>2018-03-31</td>\n",
       "      <td>4.675</td>\n",
       "      <td>116</td>\n",
       "      <td>-0.125</td>\n",
       "      <td>5.725</td>\n",
       "    </tr>\n",
       "    <tr>\n",
       "      <th>117</th>\n",
       "      <td>2018-06-30</td>\n",
       "      <td>4.575</td>\n",
       "      <td>117</td>\n",
       "      <td>-0.100</td>\n",
       "      <td>5.725</td>\n",
       "    </tr>\n",
       "    <tr>\n",
       "      <th>118</th>\n",
       "      <td>2018-09-30</td>\n",
       "      <td>4.700</td>\n",
       "      <td>118</td>\n",
       "      <td>0.125</td>\n",
       "      <td>5.725</td>\n",
       "    </tr>\n",
       "    <tr>\n",
       "      <th>119</th>\n",
       "      <td>2018-12-31</td>\n",
       "      <td>4.475</td>\n",
       "      <td>119</td>\n",
       "      <td>-0.225</td>\n",
       "      <td>5.725</td>\n",
       "    </tr>\n",
       "    <tr>\n",
       "      <th>120</th>\n",
       "      <td>2019-03-31</td>\n",
       "      <td>4.400</td>\n",
       "      <td>120</td>\n",
       "      <td>-0.075</td>\n",
       "      <td>5.725</td>\n",
       "    </tr>\n",
       "    <tr>\n",
       "      <th>121</th>\n",
       "      <td>2019-06-30</td>\n",
       "      <td>4.375</td>\n",
       "      <td>121</td>\n",
       "      <td>-0.025</td>\n",
       "      <td>5.725</td>\n",
       "    </tr>\n",
       "    <tr>\n",
       "      <th>122</th>\n",
       "      <td>2019-09-30</td>\n",
       "      <td>4.550</td>\n",
       "      <td>122</td>\n",
       "      <td>0.175</td>\n",
       "      <td>5.725</td>\n",
       "    </tr>\n",
       "    <tr>\n",
       "      <th>123</th>\n",
       "      <td>2019-12-31</td>\n",
       "      <td>4.350</td>\n",
       "      <td>123</td>\n",
       "      <td>-0.200</td>\n",
       "      <td>5.725</td>\n",
       "    </tr>\n",
       "    <tr>\n",
       "      <th>124</th>\n",
       "      <td>2020-03-31</td>\n",
       "      <td>4.450</td>\n",
       "      <td>124</td>\n",
       "      <td>0.100</td>\n",
       "      <td>5.725</td>\n",
       "    </tr>\n",
       "    <tr>\n",
       "      <th>125</th>\n",
       "      <td>2020-06-30</td>\n",
       "      <td>4.550</td>\n",
       "      <td>125</td>\n",
       "      <td>0.100</td>\n",
       "      <td>5.725</td>\n",
       "    </tr>\n",
       "    <tr>\n",
       "      <th>126</th>\n",
       "      <td>2020-09-30</td>\n",
       "      <td>5.300</td>\n",
       "      <td>126</td>\n",
       "      <td>0.750</td>\n",
       "      <td>5.725</td>\n",
       "    </tr>\n",
       "    <tr>\n",
       "      <th>127</th>\n",
       "      <td>2020-12-31</td>\n",
       "      <td>5.425</td>\n",
       "      <td>127</td>\n",
       "      <td>0.125</td>\n",
       "      <td>5.725</td>\n",
       "    </tr>\n",
       "    <tr>\n",
       "      <th>128</th>\n",
       "      <td>2021-03-31</td>\n",
       "      <td>5.150</td>\n",
       "      <td>128</td>\n",
       "      <td>-0.275</td>\n",
       "      <td>5.725</td>\n",
       "    </tr>\n",
       "    <tr>\n",
       "      <th>129</th>\n",
       "      <td>2021-06-30</td>\n",
       "      <td>4.925</td>\n",
       "      <td>129</td>\n",
       "      <td>-0.225</td>\n",
       "      <td>5.725</td>\n",
       "    </tr>\n",
       "    <tr>\n",
       "      <th>130</th>\n",
       "      <td>2021-09-30</td>\n",
       "      <td>4.775</td>\n",
       "      <td>130</td>\n",
       "      <td>-0.150</td>\n",
       "      <td>5.725</td>\n",
       "    </tr>\n",
       "    <tr>\n",
       "      <th>131</th>\n",
       "      <td>2021-12-31</td>\n",
       "      <td>4.500</td>\n",
       "      <td>131</td>\n",
       "      <td>-0.275</td>\n",
       "      <td>5.725</td>\n",
       "    </tr>\n",
       "    <tr>\n",
       "      <th>132</th>\n",
       "      <td>2022-03-31</td>\n",
       "      <td>4.200</td>\n",
       "      <td>132</td>\n",
       "      <td>-0.300</td>\n",
       "      <td>5.725</td>\n",
       "    </tr>\n",
       "    <tr>\n",
       "      <th>133</th>\n",
       "      <td>2022-06-30</td>\n",
       "      <td>4.300</td>\n",
       "      <td>133</td>\n",
       "      <td>0.100</td>\n",
       "      <td>5.725</td>\n",
       "    </tr>\n",
       "    <tr>\n",
       "      <th>134</th>\n",
       "      <td>2022-09-30</td>\n",
       "      <td>5.700</td>\n",
       "      <td>134</td>\n",
       "      <td>1.400</td>\n",
       "      <td>NaN</td>\n",
       "    </tr>\n",
       "    <tr>\n",
       "      <th>135</th>\n",
       "      <td>2022-12-31</td>\n",
       "      <td>5.500</td>\n",
       "      <td>135</td>\n",
       "      <td>-0.200</td>\n",
       "      <td>NaN</td>\n",
       "    </tr>\n",
       "  </tbody>\n",
       "</table>\n",
       "</div>"
      ],
      "text/plain": [
       "          DATE  Unemployment_rate  DateIndex  Unemployment_Rate_diff  \\\n",
       "107 2015-12-31              5.275        107                  -0.450   \n",
       "108 2016-03-31              5.325        108                   0.050   \n",
       "109 2016-06-30              5.275        109                  -0.050   \n",
       "110 2016-09-30              5.375        110                   0.100   \n",
       "111 2016-12-31              5.025        111                  -0.350   \n",
       "112 2017-03-31              4.950        112                  -0.075   \n",
       "113 2017-06-30              4.850        113                  -0.100   \n",
       "114 2017-09-30              4.975        114                   0.125   \n",
       "115 2017-12-31              4.800        115                  -0.175   \n",
       "116 2018-03-31              4.675        116                  -0.125   \n",
       "117 2018-06-30              4.575        117                  -0.100   \n",
       "118 2018-09-30              4.700        118                   0.125   \n",
       "119 2018-12-31              4.475        119                  -0.225   \n",
       "120 2019-03-31              4.400        120                  -0.075   \n",
       "121 2019-06-30              4.375        121                  -0.025   \n",
       "122 2019-09-30              4.550        122                   0.175   \n",
       "123 2019-12-31              4.350        123                  -0.200   \n",
       "124 2020-03-31              4.450        124                   0.100   \n",
       "125 2020-06-30              4.550        125                   0.100   \n",
       "126 2020-09-30              5.300        126                   0.750   \n",
       "127 2020-12-31              5.425        127                   0.125   \n",
       "128 2021-03-31              5.150        128                  -0.275   \n",
       "129 2021-06-30              4.925        129                  -0.225   \n",
       "130 2021-09-30              4.775        130                  -0.150   \n",
       "131 2021-12-31              4.500        131                  -0.275   \n",
       "132 2022-03-31              4.200        132                  -0.300   \n",
       "133 2022-06-30              4.300        133                   0.100   \n",
       "134 2022-09-30              5.700        134                   1.400   \n",
       "135 2022-12-31              5.500        135                  -0.200   \n",
       "\n",
       "     predicted_values  \n",
       "107             5.725  \n",
       "108             5.725  \n",
       "109             5.725  \n",
       "110             5.725  \n",
       "111             5.725  \n",
       "112             5.725  \n",
       "113             5.725  \n",
       "114             5.725  \n",
       "115             5.725  \n",
       "116             5.725  \n",
       "117             5.725  \n",
       "118             5.725  \n",
       "119             5.725  \n",
       "120             5.725  \n",
       "121             5.725  \n",
       "122             5.725  \n",
       "123             5.725  \n",
       "124             5.725  \n",
       "125             5.725  \n",
       "126             5.725  \n",
       "127             5.725  \n",
       "128             5.725  \n",
       "129             5.725  \n",
       "130             5.725  \n",
       "131             5.725  \n",
       "132             5.725  \n",
       "133             5.725  \n",
       "134               NaN  \n",
       "135               NaN  "
      ]
     },
     "execution_count": 81,
     "metadata": {},
     "output_type": "execute_result"
    }
   ],
   "source": [
    "test"
   ]
  },
  {
   "cell_type": "code",
   "execution_count": 82,
   "id": "5146e8a9",
   "metadata": {},
   "outputs": [
    {
     "data": {
      "text/html": [
       "<div>\n",
       "<style scoped>\n",
       "    .dataframe tbody tr th:only-of-type {\n",
       "        vertical-align: middle;\n",
       "    }\n",
       "\n",
       "    .dataframe tbody tr th {\n",
       "        vertical-align: top;\n",
       "    }\n",
       "\n",
       "    .dataframe thead th {\n",
       "        text-align: right;\n",
       "    }\n",
       "</style>\n",
       "<table border=\"1\" class=\"dataframe\">\n",
       "  <thead>\n",
       "    <tr style=\"text-align: right;\">\n",
       "      <th></th>\n",
       "      <th>DATE</th>\n",
       "      <th>Unemployment_rate</th>\n",
       "      <th>DateIndex</th>\n",
       "      <th>Unemployment_Rate_diff</th>\n",
       "      <th>predicted_values</th>\n",
       "    </tr>\n",
       "  </thead>\n",
       "  <tbody>\n",
       "    <tr>\n",
       "      <th>107</th>\n",
       "      <td>2015-12-31</td>\n",
       "      <td>5.275</td>\n",
       "      <td>107</td>\n",
       "      <td>-0.450</td>\n",
       "      <td>5.725</td>\n",
       "    </tr>\n",
       "    <tr>\n",
       "      <th>108</th>\n",
       "      <td>2016-03-31</td>\n",
       "      <td>5.325</td>\n",
       "      <td>108</td>\n",
       "      <td>0.050</td>\n",
       "      <td>5.725</td>\n",
       "    </tr>\n",
       "    <tr>\n",
       "      <th>109</th>\n",
       "      <td>2016-06-30</td>\n",
       "      <td>5.275</td>\n",
       "      <td>109</td>\n",
       "      <td>-0.050</td>\n",
       "      <td>5.725</td>\n",
       "    </tr>\n",
       "    <tr>\n",
       "      <th>110</th>\n",
       "      <td>2016-09-30</td>\n",
       "      <td>5.375</td>\n",
       "      <td>110</td>\n",
       "      <td>0.100</td>\n",
       "      <td>5.725</td>\n",
       "    </tr>\n",
       "    <tr>\n",
       "      <th>111</th>\n",
       "      <td>2016-12-31</td>\n",
       "      <td>5.025</td>\n",
       "      <td>111</td>\n",
       "      <td>-0.350</td>\n",
       "      <td>5.725</td>\n",
       "    </tr>\n",
       "    <tr>\n",
       "      <th>112</th>\n",
       "      <td>2017-03-31</td>\n",
       "      <td>4.950</td>\n",
       "      <td>112</td>\n",
       "      <td>-0.075</td>\n",
       "      <td>5.725</td>\n",
       "    </tr>\n",
       "    <tr>\n",
       "      <th>113</th>\n",
       "      <td>2017-06-30</td>\n",
       "      <td>4.850</td>\n",
       "      <td>113</td>\n",
       "      <td>-0.100</td>\n",
       "      <td>5.725</td>\n",
       "    </tr>\n",
       "    <tr>\n",
       "      <th>114</th>\n",
       "      <td>2017-09-30</td>\n",
       "      <td>4.975</td>\n",
       "      <td>114</td>\n",
       "      <td>0.125</td>\n",
       "      <td>5.725</td>\n",
       "    </tr>\n",
       "    <tr>\n",
       "      <th>115</th>\n",
       "      <td>2017-12-31</td>\n",
       "      <td>4.800</td>\n",
       "      <td>115</td>\n",
       "      <td>-0.175</td>\n",
       "      <td>5.725</td>\n",
       "    </tr>\n",
       "    <tr>\n",
       "      <th>116</th>\n",
       "      <td>2018-03-31</td>\n",
       "      <td>4.675</td>\n",
       "      <td>116</td>\n",
       "      <td>-0.125</td>\n",
       "      <td>5.725</td>\n",
       "    </tr>\n",
       "    <tr>\n",
       "      <th>117</th>\n",
       "      <td>2018-06-30</td>\n",
       "      <td>4.575</td>\n",
       "      <td>117</td>\n",
       "      <td>-0.100</td>\n",
       "      <td>5.725</td>\n",
       "    </tr>\n",
       "    <tr>\n",
       "      <th>118</th>\n",
       "      <td>2018-09-30</td>\n",
       "      <td>4.700</td>\n",
       "      <td>118</td>\n",
       "      <td>0.125</td>\n",
       "      <td>5.725</td>\n",
       "    </tr>\n",
       "    <tr>\n",
       "      <th>119</th>\n",
       "      <td>2018-12-31</td>\n",
       "      <td>4.475</td>\n",
       "      <td>119</td>\n",
       "      <td>-0.225</td>\n",
       "      <td>5.725</td>\n",
       "    </tr>\n",
       "    <tr>\n",
       "      <th>120</th>\n",
       "      <td>2019-03-31</td>\n",
       "      <td>4.400</td>\n",
       "      <td>120</td>\n",
       "      <td>-0.075</td>\n",
       "      <td>5.725</td>\n",
       "    </tr>\n",
       "    <tr>\n",
       "      <th>121</th>\n",
       "      <td>2019-06-30</td>\n",
       "      <td>4.375</td>\n",
       "      <td>121</td>\n",
       "      <td>-0.025</td>\n",
       "      <td>5.725</td>\n",
       "    </tr>\n",
       "    <tr>\n",
       "      <th>122</th>\n",
       "      <td>2019-09-30</td>\n",
       "      <td>4.550</td>\n",
       "      <td>122</td>\n",
       "      <td>0.175</td>\n",
       "      <td>5.725</td>\n",
       "    </tr>\n",
       "    <tr>\n",
       "      <th>123</th>\n",
       "      <td>2019-12-31</td>\n",
       "      <td>4.350</td>\n",
       "      <td>123</td>\n",
       "      <td>-0.200</td>\n",
       "      <td>5.725</td>\n",
       "    </tr>\n",
       "    <tr>\n",
       "      <th>124</th>\n",
       "      <td>2020-03-31</td>\n",
       "      <td>4.450</td>\n",
       "      <td>124</td>\n",
       "      <td>0.100</td>\n",
       "      <td>5.725</td>\n",
       "    </tr>\n",
       "    <tr>\n",
       "      <th>125</th>\n",
       "      <td>2020-06-30</td>\n",
       "      <td>4.550</td>\n",
       "      <td>125</td>\n",
       "      <td>0.100</td>\n",
       "      <td>5.725</td>\n",
       "    </tr>\n",
       "    <tr>\n",
       "      <th>126</th>\n",
       "      <td>2020-09-30</td>\n",
       "      <td>5.300</td>\n",
       "      <td>126</td>\n",
       "      <td>0.750</td>\n",
       "      <td>5.725</td>\n",
       "    </tr>\n",
       "    <tr>\n",
       "      <th>127</th>\n",
       "      <td>2020-12-31</td>\n",
       "      <td>5.425</td>\n",
       "      <td>127</td>\n",
       "      <td>0.125</td>\n",
       "      <td>5.725</td>\n",
       "    </tr>\n",
       "    <tr>\n",
       "      <th>128</th>\n",
       "      <td>2021-03-31</td>\n",
       "      <td>5.150</td>\n",
       "      <td>128</td>\n",
       "      <td>-0.275</td>\n",
       "      <td>5.725</td>\n",
       "    </tr>\n",
       "    <tr>\n",
       "      <th>129</th>\n",
       "      <td>2021-06-30</td>\n",
       "      <td>4.925</td>\n",
       "      <td>129</td>\n",
       "      <td>-0.225</td>\n",
       "      <td>5.725</td>\n",
       "    </tr>\n",
       "    <tr>\n",
       "      <th>130</th>\n",
       "      <td>2021-09-30</td>\n",
       "      <td>4.775</td>\n",
       "      <td>130</td>\n",
       "      <td>-0.150</td>\n",
       "      <td>5.725</td>\n",
       "    </tr>\n",
       "    <tr>\n",
       "      <th>131</th>\n",
       "      <td>2021-12-31</td>\n",
       "      <td>4.500</td>\n",
       "      <td>131</td>\n",
       "      <td>-0.275</td>\n",
       "      <td>5.725</td>\n",
       "    </tr>\n",
       "    <tr>\n",
       "      <th>132</th>\n",
       "      <td>2022-03-31</td>\n",
       "      <td>4.200</td>\n",
       "      <td>132</td>\n",
       "      <td>-0.300</td>\n",
       "      <td>5.725</td>\n",
       "    </tr>\n",
       "    <tr>\n",
       "      <th>133</th>\n",
       "      <td>2022-06-30</td>\n",
       "      <td>4.300</td>\n",
       "      <td>133</td>\n",
       "      <td>0.100</td>\n",
       "      <td>5.725</td>\n",
       "    </tr>\n",
       "  </tbody>\n",
       "</table>\n",
       "</div>"
      ],
      "text/plain": [
       "          DATE  Unemployment_rate  DateIndex  Unemployment_Rate_diff  \\\n",
       "107 2015-12-31              5.275        107                  -0.450   \n",
       "108 2016-03-31              5.325        108                   0.050   \n",
       "109 2016-06-30              5.275        109                  -0.050   \n",
       "110 2016-09-30              5.375        110                   0.100   \n",
       "111 2016-12-31              5.025        111                  -0.350   \n",
       "112 2017-03-31              4.950        112                  -0.075   \n",
       "113 2017-06-30              4.850        113                  -0.100   \n",
       "114 2017-09-30              4.975        114                   0.125   \n",
       "115 2017-12-31              4.800        115                  -0.175   \n",
       "116 2018-03-31              4.675        116                  -0.125   \n",
       "117 2018-06-30              4.575        117                  -0.100   \n",
       "118 2018-09-30              4.700        118                   0.125   \n",
       "119 2018-12-31              4.475        119                  -0.225   \n",
       "120 2019-03-31              4.400        120                  -0.075   \n",
       "121 2019-06-30              4.375        121                  -0.025   \n",
       "122 2019-09-30              4.550        122                   0.175   \n",
       "123 2019-12-31              4.350        123                  -0.200   \n",
       "124 2020-03-31              4.450        124                   0.100   \n",
       "125 2020-06-30              4.550        125                   0.100   \n",
       "126 2020-09-30              5.300        126                   0.750   \n",
       "127 2020-12-31              5.425        127                   0.125   \n",
       "128 2021-03-31              5.150        128                  -0.275   \n",
       "129 2021-06-30              4.925        129                  -0.225   \n",
       "130 2021-09-30              4.775        130                  -0.150   \n",
       "131 2021-12-31              4.500        131                  -0.275   \n",
       "132 2022-03-31              4.200        132                  -0.300   \n",
       "133 2022-06-30              4.300        133                   0.100   \n",
       "\n",
       "     predicted_values  \n",
       "107             5.725  \n",
       "108             5.725  \n",
       "109             5.725  \n",
       "110             5.725  \n",
       "111             5.725  \n",
       "112             5.725  \n",
       "113             5.725  \n",
       "114             5.725  \n",
       "115             5.725  \n",
       "116             5.725  \n",
       "117             5.725  \n",
       "118             5.725  \n",
       "119             5.725  \n",
       "120             5.725  \n",
       "121             5.725  \n",
       "122             5.725  \n",
       "123             5.725  \n",
       "124             5.725  \n",
       "125             5.725  \n",
       "126             5.725  \n",
       "127             5.725  \n",
       "128             5.725  \n",
       "129             5.725  \n",
       "130             5.725  \n",
       "131             5.725  \n",
       "132             5.725  \n",
       "133             5.725  "
      ]
     },
     "execution_count": 82,
     "metadata": {},
     "output_type": "execute_result"
    }
   ],
   "source": [
    "test = test.dropna()\n",
    "test"
   ]
  },
  {
   "cell_type": "code",
   "execution_count": 84,
   "id": "8e369a89",
   "metadata": {},
   "outputs": [
    {
     "data": {
      "text/plain": [
       "[<matplotlib.lines.Line2D at 0x23cc9b97040>]"
      ]
     },
     "execution_count": 84,
     "metadata": {},
     "output_type": "execute_result"
    },
    {
     "data": {
      "image/png": "[encoded data removed]",
      "text/plain": [
       "<Figure size 921.6x518.4 with 1 Axes>"
      ]
     },
     "metadata": {
      "needs_background": "light"
     },
     "output_type": "display_data"
    }
   ],
   "source": [
    "plt.plot(train['Unemployment_rate'], color = 'Blue', label = \"Train\")\n",
    "plt.plot(test['Unemployment_rate'], color = 'Green', label = \"Test\")\n",
    "plt.plot(test['predicted_values'], color ='Red', label = \"Prediction\")\n",
    "plt.plot(results.fittedvalues, color='Orange')"
   ]
  },
  {
   "cell_type": "code",
   "execution_count": 86,
   "id": "47c293ed",
   "metadata": {},
   "outputs": [
    {
     "name": "stdout",
     "output_type": "stream",
     "text": [
      "The MAPE for Model Accuracy(test) is 0.9946759259259254\n",
      "The MAPE for Model fit(train) is 0.03625404431407427\n"
     ]
    }
   ],
   "source": [
    "MAPE_test=metrics.mean_squared_error(test['Unemployment_rate'], test['predicted_values'])\n",
    "MAPE_train=metrics.mean_absolute_percentage_error(train['Unemployment_rate'], results.fittedvalues)\n",
    "print(\"The MAPE for Model Accuracy(test) is\",MAPE_test)\n",
    "print(\"The MAPE for Model fit(train) is\",MAPE_train)"
   ]
  },
  {
   "cell_type": "markdown",
   "id": "d1b7a6e9",
   "metadata": {},
   "source": [
    "### The predicted values are not able to identify the curves in the graph and are graphed as more of a straight line. The MAPE for model fit is low showing that it is able to fit to the train data well. Model accuracy is very high which is not good, meaning that the model is not able to fit the test data well. "
   ]
  },
  {
   "cell_type": "markdown",
   "id": "f78adda1",
   "metadata": {},
   "source": [
    "## Among the Holt's, Damped, simple regression, and ARIMA, Damped model performed better. So we now forecast the Interest rate for next two quarter using Damped model."
   ]
  },
  {
   "cell_type": "markdown",
   "id": "7babbbb7",
   "metadata": {},
   "source": [
    "# Model Predictions for next two quarters"
   ]
  },
  {
   "cell_type": "code",
   "execution_count": 87,
   "id": "42c6d4e7",
   "metadata": {
    "scrolled": true
   },
   "outputs": [
    {
     "name": "stderr",
     "output_type": "stream",
     "text": [
      "C:\\Users\\Students\\anaconda3\\lib\\site-packages\\statsmodels\\tsa\\base\\tsa_model.py:471: ValueWarning: An unsupported index was provided and will be ignored when e.g. forecasting.\n",
      "  self._init_dates(dates, freq)\n",
      "C:\\Users\\Students\\anaconda3\\lib\\site-packages\\statsmodels\\tsa\\base\\tsa_model.py:834: ValueWarning: No supported index is available. Prediction results will be given with an integer index beginning at `start`.\n",
      "  return get_prediction_index(\n"
     ]
    }
   ],
   "source": [
    "fit_damp = ExponentialSmoothing(df_Unemployment['Unemployment_rate'],trend='add',seasonal=None, damped_trend=True).fit()\n",
    "fcast_damp = fit_damp.forecast(2)"
   ]
  },
  {
   "cell_type": "code",
   "execution_count": 88,
   "id": "38f17c72",
   "metadata": {},
   "outputs": [
    {
     "data": {
      "text/html": [
       "<div>\n",
       "<style scoped>\n",
       "    .dataframe tbody tr th:only-of-type {\n",
       "        vertical-align: middle;\n",
       "    }\n",
       "\n",
       "    .dataframe tbody tr th {\n",
       "        vertical-align: top;\n",
       "    }\n",
       "\n",
       "    .dataframe thead th {\n",
       "        text-align: right;\n",
       "    }\n",
       "</style>\n",
       "<table border=\"1\" class=\"dataframe\">\n",
       "  <thead>\n",
       "    <tr style=\"text-align: right;\">\n",
       "      <th></th>\n",
       "      <th>Unemployment_rate</th>\n",
       "    </tr>\n",
       "  </thead>\n",
       "  <tbody>\n",
       "    <tr>\n",
       "      <th>135</th>\n",
       "      <td>5.489589</td>\n",
       "    </tr>\n",
       "    <tr>\n",
       "      <th>136</th>\n",
       "      <td>5.479231</td>\n",
       "    </tr>\n",
       "  </tbody>\n",
       "</table>\n",
       "</div>"
      ],
      "text/plain": [
       "     Unemployment_rate\n",
       "135           5.489589\n",
       "136           5.479231"
      ]
     },
     "execution_count": 88,
     "metadata": {},
     "output_type": "execute_result"
    }
   ],
   "source": [
    "fcast_damp =  fcast_damp.to_frame()\n",
    "fcast_damp.columns = ['Unemployment_rate']\n",
    "fcast_damp"
   ]
  },
  {
   "cell_type": "code",
   "execution_count": null,
   "id": "69f15274",
   "metadata": {},
   "outputs": [],
   "source": []
  }
 ],
 "metadata": {
  "kernelspec": {
   "display_name": "Python 3 (ipykernel)",
   "language": "python",
   "name": "python3"
  },
  "language_info": {
   "codemirror_mode": {
    "name": "ipython",
    "version": 3
   },
   "file_extension": ".py",
   "mimetype": "text/x-python",
   "name": "python",
   "nbconvert_exporter": "python",
   "pygments_lexer": "ipython3",
   "version": "3.9.12"
  }
 },
 "nbformat": 4,
 "nbformat_minor": 5
}
