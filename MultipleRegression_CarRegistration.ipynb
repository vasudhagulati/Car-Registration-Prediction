{
 "cells": [
  {
   "cell_type": "code",
   "execution_count": 7,
   "id": "4853d883",
   "metadata": {},
   "outputs": [],
   "source": [
    "# Initialising required libraries\n",
    "import numpy as np\n",
    "import pandas as pd\n",
    "import matplotlib.pyplot as plt\n",
    "import datetime\n",
    "import seaborn as sns\n",
    "import statsmodels.api as sm \n",
    "import statsmodels.formula.api as smf\n",
    "from sklearn.model_selection import train_test_split\n",
    "from sklearn.metrics import explained_variance_score"
   ]
  },
  {
   "cell_type": "code",
   "execution_count": 9,
   "id": "665af109",
   "metadata": {},
   "outputs": [
    {
     "data": {
      "text/html": [
       "<div>\n",
       "<style scoped>\n",
       "    .dataframe tbody tr th:only-of-type {\n",
       "        vertical-align: middle;\n",
       "    }\n",
       "\n",
       "    .dataframe tbody tr th {\n",
       "        vertical-align: top;\n",
       "    }\n",
       "\n",
       "    .dataframe thead th {\n",
       "        text-align: right;\n",
       "    }\n",
       "</style>\n",
       "<table border=\"1\" class=\"dataframe\">\n",
       "  <thead>\n",
       "    <tr style=\"text-align: right;\">\n",
       "      <th></th>\n",
       "      <th>DATE</th>\n",
       "      <th>Car_Registration</th>\n",
       "      <th>CPI</th>\n",
       "      <th>GDP</th>\n",
       "      <th>Interest_rate</th>\n",
       "      <th>Unemployment_rate</th>\n",
       "      <th>Inflation_rate</th>\n",
       "      <th>UK_Population</th>\n",
       "      <th>Unnamed: 8</th>\n",
       "    </tr>\n",
       "  </thead>\n",
       "  <tbody>\n",
       "    <tr>\n",
       "      <th>0</th>\n",
       "      <td>1989-3</td>\n",
       "      <td>629232</td>\n",
       "      <td>0.738554</td>\n",
       "      <td>3.160000e+11</td>\n",
       "      <td>9.853333</td>\n",
       "      <td>7.733333</td>\n",
       "      <td>0.049560</td>\n",
       "      <td>28265000</td>\n",
       "      <td>NaN</td>\n",
       "    </tr>\n",
       "    <tr>\n",
       "      <th>1</th>\n",
       "      <td>1989-6</td>\n",
       "      <td>563103</td>\n",
       "      <td>5.210185</td>\n",
       "      <td>3.180000e+11</td>\n",
       "      <td>10.300000</td>\n",
       "      <td>7.033333</td>\n",
       "      <td>0.052773</td>\n",
       "      <td>28301000</td>\n",
       "      <td>NaN</td>\n",
       "    </tr>\n",
       "    <tr>\n",
       "      <th>2</th>\n",
       "      <td>1989-9</td>\n",
       "      <td>725421</td>\n",
       "      <td>0.173458</td>\n",
       "      <td>3.180000e+11</td>\n",
       "      <td>10.090000</td>\n",
       "      <td>6.966667</td>\n",
       "      <td>0.051167</td>\n",
       "      <td>28328000</td>\n",
       "      <td>NaN</td>\n",
       "    </tr>\n",
       "    <tr>\n",
       "      <th>3</th>\n",
       "      <td>1989-12</td>\n",
       "      <td>391767</td>\n",
       "      <td>0.325700</td>\n",
       "      <td>3.180000e+11</td>\n",
       "      <td>10.520000</td>\n",
       "      <td>6.700000</td>\n",
       "      <td>0.055040</td>\n",
       "      <td>28388000</td>\n",
       "      <td>NaN</td>\n",
       "    </tr>\n",
       "    <tr>\n",
       "      <th>4</th>\n",
       "      <td>1990-3</td>\n",
       "      <td>582546</td>\n",
       "      <td>0.708311</td>\n",
       "      <td>3.200000e+11</td>\n",
       "      <td>11.546667</td>\n",
       "      <td>6.966667</td>\n",
       "      <td>0.058380</td>\n",
       "      <td>28395000</td>\n",
       "      <td>NaN</td>\n",
       "    </tr>\n",
       "    <tr>\n",
       "      <th>...</th>\n",
       "      <td>...</td>\n",
       "      <td>...</td>\n",
       "      <td>...</td>\n",
       "      <td>...</td>\n",
       "      <td>...</td>\n",
       "      <td>...</td>\n",
       "      <td>...</td>\n",
       "      <td>...</td>\n",
       "      <td>...</td>\n",
       "    </tr>\n",
       "    <tr>\n",
       "      <th>129</th>\n",
       "      <td>2021-6</td>\n",
       "      <td>484448</td>\n",
       "      <td>7.326356</td>\n",
       "      <td>5.370000e+11</td>\n",
       "      <td>0.870733</td>\n",
       "      <td>4.600000</td>\n",
       "      <td>0.020517</td>\n",
       "      <td>32579000</td>\n",
       "      <td>NaN</td>\n",
       "    </tr>\n",
       "    <tr>\n",
       "      <th>130</th>\n",
       "      <td>2021-9</td>\n",
       "      <td>406641</td>\n",
       "      <td>2.304965</td>\n",
       "      <td>5.460000e+11</td>\n",
       "      <td>0.714733</td>\n",
       "      <td>4.500000</td>\n",
       "      <td>0.027723</td>\n",
       "      <td>32627000</td>\n",
       "      <td>NaN</td>\n",
       "    </tr>\n",
       "    <tr>\n",
       "      <th>131</th>\n",
       "      <td>2021-12</td>\n",
       "      <td>330567</td>\n",
       "      <td>9.792028</td>\n",
       "      <td>5.550000e+11</td>\n",
       "      <td>0.953300</td>\n",
       "      <td>4.100000</td>\n",
       "      <td>0.049073</td>\n",
       "      <td>32600000</td>\n",
       "      <td>NaN</td>\n",
       "    </tr>\n",
       "    <tr>\n",
       "      <th>132</th>\n",
       "      <td>2022-3</td>\n",
       "      <td>417560</td>\n",
       "      <td>3.314917</td>\n",
       "      <td>5.590000e+11</td>\n",
       "      <td>1.413300</td>\n",
       "      <td>3.700000</td>\n",
       "      <td>0.062187</td>\n",
       "      <td>32574000</td>\n",
       "      <td>NaN</td>\n",
       "    </tr>\n",
       "    <tr>\n",
       "      <th>133</th>\n",
       "      <td>2022-6</td>\n",
       "      <td>384519</td>\n",
       "      <td>32.620321</td>\n",
       "      <td>5.600000e+11</td>\n",
       "      <td>2.041833</td>\n",
       "      <td>3.550000</td>\n",
       "      <td>0.091687</td>\n",
       "      <td>32588000</td>\n",
       "      <td>NaN</td>\n",
       "    </tr>\n",
       "  </tbody>\n",
       "</table>\n",
       "<p>134 rows × 9 columns</p>\n",
       "</div>"
      ],
      "text/plain": [
       "        DATE  Car_Registration        CPI           GDP  Interest_rate  \\\n",
       "0     1989-3            629232   0.738554  3.160000e+11       9.853333   \n",
       "1     1989-6            563103   5.210185  3.180000e+11      10.300000   \n",
       "2     1989-9            725421   0.173458  3.180000e+11      10.090000   \n",
       "3    1989-12            391767   0.325700  3.180000e+11      10.520000   \n",
       "4     1990-3            582546   0.708311  3.200000e+11      11.546667   \n",
       "..       ...               ...        ...           ...            ...   \n",
       "129   2021-6            484448   7.326356  5.370000e+11       0.870733   \n",
       "130   2021-9            406641   2.304965  5.460000e+11       0.714733   \n",
       "131  2021-12            330567   9.792028  5.550000e+11       0.953300   \n",
       "132   2022-3            417560   3.314917  5.590000e+11       1.413300   \n",
       "133   2022-6            384519  32.620321  5.600000e+11       2.041833   \n",
       "\n",
       "     Unemployment_rate  Inflation_rate  UK_Population Unnamed: 8  \n",
       "0             7.733333        0.049560       28265000        NaN  \n",
       "1             7.033333        0.052773       28301000        NaN  \n",
       "2             6.966667        0.051167       28328000        NaN  \n",
       "3             6.700000        0.055040       28388000        NaN  \n",
       "4             6.966667        0.058380       28395000        NaN  \n",
       "..                 ...             ...            ...        ...  \n",
       "129           4.600000        0.020517       32579000        NaN  \n",
       "130           4.500000        0.027723       32627000        NaN  \n",
       "131           4.100000        0.049073       32600000        NaN  \n",
       "132           3.700000        0.062187       32574000        NaN  \n",
       "133           3.550000        0.091687       32588000        NaN  \n",
       "\n",
       "[134 rows x 9 columns]"
      ]
     },
     "execution_count": 9,
     "metadata": {},
     "output_type": "execute_result"
    }
   ],
   "source": [
    "# Read the data into a data frame\n",
    "df_project = pd.read_csv(\"PCDA_UNCLEANED/projectfile.csv\")\n",
    "df_project"
   ]
  },
  {
   "cell_type": "code",
   "execution_count": 10,
   "id": "d11ffdf6",
   "metadata": {},
   "outputs": [
    {
     "data": {
      "text/html": [
       "<div>\n",
       "<style scoped>\n",
       "    .dataframe tbody tr th:only-of-type {\n",
       "        vertical-align: middle;\n",
       "    }\n",
       "\n",
       "    .dataframe tbody tr th {\n",
       "        vertical-align: top;\n",
       "    }\n",
       "\n",
       "    .dataframe thead th {\n",
       "        text-align: right;\n",
       "    }\n",
       "</style>\n",
       "<table border=\"1\" class=\"dataframe\">\n",
       "  <thead>\n",
       "    <tr style=\"text-align: right;\">\n",
       "      <th></th>\n",
       "      <th>DATE</th>\n",
       "      <th>Car_Registration</th>\n",
       "      <th>CPI</th>\n",
       "      <th>GDP</th>\n",
       "      <th>Interest_rate</th>\n",
       "      <th>Unemployment_rate</th>\n",
       "      <th>Inflation_rate</th>\n",
       "      <th>UK_Population</th>\n",
       "    </tr>\n",
       "  </thead>\n",
       "  <tbody>\n",
       "    <tr>\n",
       "      <th>0</th>\n",
       "      <td>1989-3</td>\n",
       "      <td>629232</td>\n",
       "      <td>0.738554</td>\n",
       "      <td>3.160000e+11</td>\n",
       "      <td>9.853333</td>\n",
       "      <td>7.733333</td>\n",
       "      <td>0.049560</td>\n",
       "      <td>28265000</td>\n",
       "    </tr>\n",
       "    <tr>\n",
       "      <th>1</th>\n",
       "      <td>1989-6</td>\n",
       "      <td>563103</td>\n",
       "      <td>5.210185</td>\n",
       "      <td>3.180000e+11</td>\n",
       "      <td>10.300000</td>\n",
       "      <td>7.033333</td>\n",
       "      <td>0.052773</td>\n",
       "      <td>28301000</td>\n",
       "    </tr>\n",
       "    <tr>\n",
       "      <th>2</th>\n",
       "      <td>1989-9</td>\n",
       "      <td>725421</td>\n",
       "      <td>0.173458</td>\n",
       "      <td>3.180000e+11</td>\n",
       "      <td>10.090000</td>\n",
       "      <td>6.966667</td>\n",
       "      <td>0.051167</td>\n",
       "      <td>28328000</td>\n",
       "    </tr>\n",
       "    <tr>\n",
       "      <th>3</th>\n",
       "      <td>1989-12</td>\n",
       "      <td>391767</td>\n",
       "      <td>0.325700</td>\n",
       "      <td>3.180000e+11</td>\n",
       "      <td>10.520000</td>\n",
       "      <td>6.700000</td>\n",
       "      <td>0.055040</td>\n",
       "      <td>28388000</td>\n",
       "    </tr>\n",
       "    <tr>\n",
       "      <th>4</th>\n",
       "      <td>1990-3</td>\n",
       "      <td>582546</td>\n",
       "      <td>0.708311</td>\n",
       "      <td>3.200000e+11</td>\n",
       "      <td>11.546667</td>\n",
       "      <td>6.966667</td>\n",
       "      <td>0.058380</td>\n",
       "      <td>28395000</td>\n",
       "    </tr>\n",
       "    <tr>\n",
       "      <th>...</th>\n",
       "      <td>...</td>\n",
       "      <td>...</td>\n",
       "      <td>...</td>\n",
       "      <td>...</td>\n",
       "      <td>...</td>\n",
       "      <td>...</td>\n",
       "      <td>...</td>\n",
       "      <td>...</td>\n",
       "    </tr>\n",
       "    <tr>\n",
       "      <th>129</th>\n",
       "      <td>2021-6</td>\n",
       "      <td>484448</td>\n",
       "      <td>7.326356</td>\n",
       "      <td>5.370000e+11</td>\n",
       "      <td>0.870733</td>\n",
       "      <td>4.600000</td>\n",
       "      <td>0.020517</td>\n",
       "      <td>32579000</td>\n",
       "    </tr>\n",
       "    <tr>\n",
       "      <th>130</th>\n",
       "      <td>2021-9</td>\n",
       "      <td>406641</td>\n",
       "      <td>2.304965</td>\n",
       "      <td>5.460000e+11</td>\n",
       "      <td>0.714733</td>\n",
       "      <td>4.500000</td>\n",
       "      <td>0.027723</td>\n",
       "      <td>32627000</td>\n",
       "    </tr>\n",
       "    <tr>\n",
       "      <th>131</th>\n",
       "      <td>2021-12</td>\n",
       "      <td>330567</td>\n",
       "      <td>9.792028</td>\n",
       "      <td>5.550000e+11</td>\n",
       "      <td>0.953300</td>\n",
       "      <td>4.100000</td>\n",
       "      <td>0.049073</td>\n",
       "      <td>32600000</td>\n",
       "    </tr>\n",
       "    <tr>\n",
       "      <th>132</th>\n",
       "      <td>2022-3</td>\n",
       "      <td>417560</td>\n",
       "      <td>3.314917</td>\n",
       "      <td>5.590000e+11</td>\n",
       "      <td>1.413300</td>\n",
       "      <td>3.700000</td>\n",
       "      <td>0.062187</td>\n",
       "      <td>32574000</td>\n",
       "    </tr>\n",
       "    <tr>\n",
       "      <th>133</th>\n",
       "      <td>2022-6</td>\n",
       "      <td>384519</td>\n",
       "      <td>32.620321</td>\n",
       "      <td>5.600000e+11</td>\n",
       "      <td>2.041833</td>\n",
       "      <td>3.550000</td>\n",
       "      <td>0.091687</td>\n",
       "      <td>32588000</td>\n",
       "    </tr>\n",
       "  </tbody>\n",
       "</table>\n",
       "<p>134 rows × 8 columns</p>\n",
       "</div>"
      ],
      "text/plain": [
       "        DATE  Car_Registration        CPI           GDP  Interest_rate  \\\n",
       "0     1989-3            629232   0.738554  3.160000e+11       9.853333   \n",
       "1     1989-6            563103   5.210185  3.180000e+11      10.300000   \n",
       "2     1989-9            725421   0.173458  3.180000e+11      10.090000   \n",
       "3    1989-12            391767   0.325700  3.180000e+11      10.520000   \n",
       "4     1990-3            582546   0.708311  3.200000e+11      11.546667   \n",
       "..       ...               ...        ...           ...            ...   \n",
       "129   2021-6            484448   7.326356  5.370000e+11       0.870733   \n",
       "130   2021-9            406641   2.304965  5.460000e+11       0.714733   \n",
       "131  2021-12            330567   9.792028  5.550000e+11       0.953300   \n",
       "132   2022-3            417560   3.314917  5.590000e+11       1.413300   \n",
       "133   2022-6            384519  32.620321  5.600000e+11       2.041833   \n",
       "\n",
       "     Unemployment_rate  Inflation_rate  UK_Population  \n",
       "0             7.733333        0.049560       28265000  \n",
       "1             7.033333        0.052773       28301000  \n",
       "2             6.966667        0.051167       28328000  \n",
       "3             6.700000        0.055040       28388000  \n",
       "4             6.966667        0.058380       28395000  \n",
       "..                 ...             ...            ...  \n",
       "129           4.600000        0.020517       32579000  \n",
       "130           4.500000        0.027723       32627000  \n",
       "131           4.100000        0.049073       32600000  \n",
       "132           3.700000        0.062187       32574000  \n",
       "133           3.550000        0.091687       32588000  \n",
       "\n",
       "[134 rows x 8 columns]"
      ]
     },
     "execution_count": 10,
     "metadata": {},
     "output_type": "execute_result"
    }
   ],
   "source": [
    "df_project.pop(\"Unnamed: 8\")\n",
    "df_project=df_project.dropna()\n",
    "df_project"
   ]
  },
  {
   "cell_type": "code",
   "execution_count": 13,
   "id": "0b4f880c",
   "metadata": {},
   "outputs": [
    {
     "data": {
      "image/png": "[encoded data removed]",
      "text/plain": [
       "<Figure size 921.6x518.4 with 1 Axes>"
      ]
     },
     "metadata": {
      "needs_background": "light"
     },
     "output_type": "display_data"
    }
   ],
   "source": [
    "plt.plot(df_project['DATE'], df_project['Car_Registration'])\n",
    "plt.xticks(rotation=30, ha='right')\n",
    "plt.xlabel(\"Car Registration\")\n",
    "plt.ylabel(\"Date\")\n",
    "plt.rcParams['figure.figsize']=(12.8,7.2)"
   ]
  },
  {
   "cell_type": "code",
   "execution_count": 12,
   "id": "d3e603b7",
   "metadata": {},
   "outputs": [
    {
     "data": {
      "image/png": "[encoded data removed]",
      "text/plain": [
       "<Figure size 921.6x518.4 with 1 Axes>"
      ]
     },
     "metadata": {
      "needs_background": "light"
     },
     "output_type": "display_data"
    }
   ],
   "source": [
    "from statsmodels.graphics.tsaplots import plot_acf\n",
    "acf_plot = plot_acf(df_project['Car_Registration'],lags=50)"
   ]
  },
  {
   "attachments": {},
   "cell_type": "markdown",
   "id": "4d83b7f9",
   "metadata": {},
   "source": [
    "### According to the ACF plot, the autocorrelations are declining quickly towards zero which indicates no trend component. As this is quarterly data and there are significant spikes at every 4th lag, there is seasonal component\n",
    "\n",
    "### Due the pressence of Seasonal component, we can fit the data with below models\n",
    "    1. Multiple Regression Model\n",
    "    2. Seasonal ARIMA Model\n",
    "    3. XgBoost Model\n"
   ]
  },
  {
   "cell_type": "markdown",
   "id": "e8335d4e",
   "metadata": {},
   "source": [
    "# Multiple Regression"
   ]
  },
  {
   "cell_type": "code",
   "execution_count": 27,
   "id": "02e21d66",
   "metadata": {},
   "outputs": [
    {
     "data": {
      "text/html": [
       "<div>\n",
       "<style scoped>\n",
       "    .dataframe tbody tr th:only-of-type {\n",
       "        vertical-align: middle;\n",
       "    }\n",
       "\n",
       "    .dataframe tbody tr th {\n",
       "        vertical-align: top;\n",
       "    }\n",
       "\n",
       "    .dataframe thead th {\n",
       "        text-align: right;\n",
       "    }\n",
       "</style>\n",
       "<table border=\"1\" class=\"dataframe\">\n",
       "  <thead>\n",
       "    <tr style=\"text-align: right;\">\n",
       "      <th></th>\n",
       "      <th>DATE</th>\n",
       "      <th>Car_Registration</th>\n",
       "      <th>CPI</th>\n",
       "      <th>GDP</th>\n",
       "      <th>Interest_rate</th>\n",
       "      <th>Unemployment_rate</th>\n",
       "      <th>Inflation_rate</th>\n",
       "      <th>UK_Population</th>\n",
       "      <th>DateIndex</th>\n",
       "    </tr>\n",
       "  </thead>\n",
       "  <tbody>\n",
       "    <tr>\n",
       "      <th>0</th>\n",
       "      <td>1989-3</td>\n",
       "      <td>629232</td>\n",
       "      <td>0.738554</td>\n",
       "      <td>3.160000e+11</td>\n",
       "      <td>9.853333</td>\n",
       "      <td>7.733333</td>\n",
       "      <td>0.049560</td>\n",
       "      <td>28265000</td>\n",
       "      <td>0</td>\n",
       "    </tr>\n",
       "    <tr>\n",
       "      <th>1</th>\n",
       "      <td>1989-6</td>\n",
       "      <td>563103</td>\n",
       "      <td>5.210185</td>\n",
       "      <td>3.180000e+11</td>\n",
       "      <td>10.300000</td>\n",
       "      <td>7.033333</td>\n",
       "      <td>0.052773</td>\n",
       "      <td>28301000</td>\n",
       "      <td>1</td>\n",
       "    </tr>\n",
       "    <tr>\n",
       "      <th>2</th>\n",
       "      <td>1989-9</td>\n",
       "      <td>725421</td>\n",
       "      <td>0.173458</td>\n",
       "      <td>3.180000e+11</td>\n",
       "      <td>10.090000</td>\n",
       "      <td>6.966667</td>\n",
       "      <td>0.051167</td>\n",
       "      <td>28328000</td>\n",
       "      <td>2</td>\n",
       "    </tr>\n",
       "    <tr>\n",
       "      <th>3</th>\n",
       "      <td>1989-12</td>\n",
       "      <td>391767</td>\n",
       "      <td>0.325700</td>\n",
       "      <td>3.180000e+11</td>\n",
       "      <td>10.520000</td>\n",
       "      <td>6.700000</td>\n",
       "      <td>0.055040</td>\n",
       "      <td>28388000</td>\n",
       "      <td>3</td>\n",
       "    </tr>\n",
       "    <tr>\n",
       "      <th>4</th>\n",
       "      <td>1990-3</td>\n",
       "      <td>582546</td>\n",
       "      <td>0.708311</td>\n",
       "      <td>3.200000e+11</td>\n",
       "      <td>11.546667</td>\n",
       "      <td>6.966667</td>\n",
       "      <td>0.058380</td>\n",
       "      <td>28395000</td>\n",
       "      <td>4</td>\n",
       "    </tr>\n",
       "  </tbody>\n",
       "</table>\n",
       "</div>"
      ],
      "text/plain": [
       "      DATE  Car_Registration       CPI           GDP  Interest_rate  \\\n",
       "0   1989-3            629232  0.738554  3.160000e+11       9.853333   \n",
       "1   1989-6            563103  5.210185  3.180000e+11      10.300000   \n",
       "2   1989-9            725421  0.173458  3.180000e+11      10.090000   \n",
       "3  1989-12            391767  0.325700  3.180000e+11      10.520000   \n",
       "4   1990-3            582546  0.708311  3.200000e+11      11.546667   \n",
       "\n",
       "   Unemployment_rate  Inflation_rate  UK_Population  DateIndex  \n",
       "0           7.733333        0.049560       28265000          0  \n",
       "1           7.033333        0.052773       28301000          1  \n",
       "2           6.966667        0.051167       28328000          2  \n",
       "3           6.700000        0.055040       28388000          3  \n",
       "4           6.966667        0.058380       28395000          4  "
      ]
     },
     "execution_count": 27,
     "metadata": {},
     "output_type": "execute_result"
    }
   ],
   "source": [
    "df_project['DateIndex'] = np.arange(len(df_project.index))\n",
    "\n",
    "df_project.head()"
   ]
  },
  {
   "cell_type": "code",
   "execution_count": 50,
   "id": "2834e929",
   "metadata": {},
   "outputs": [],
   "source": [
    "#Setting the value for X and Y\n",
    "X = df_project[['Interest_rate', 'CPI', 'GDP','Unemployment_rate','Inflation_rate','UK_Population']]\n",
    "y = df_project['Car_Registration']"
   ]
  },
  {
   "cell_type": "code",
   "execution_count": 51,
   "id": "ed268b8c",
   "metadata": {},
   "outputs": [],
   "source": [
    "#Splitting the dataset\n",
    "X_train, X_test, y_train, y_test = train_test_split(X, y, test_size=0.20, shuffle=False)"
   ]
  },
  {
   "cell_type": "code",
   "execution_count": 52,
   "id": "1fb965ee",
   "metadata": {},
   "outputs": [
    {
     "data": {
      "text/html": [
       "<div>\n",
       "<style scoped>\n",
       "    .dataframe tbody tr th:only-of-type {\n",
       "        vertical-align: middle;\n",
       "    }\n",
       "\n",
       "    .dataframe tbody tr th {\n",
       "        vertical-align: top;\n",
       "    }\n",
       "\n",
       "    .dataframe thead th {\n",
       "        text-align: right;\n",
       "    }\n",
       "</style>\n",
       "<table border=\"1\" class=\"dataframe\">\n",
       "  <thead>\n",
       "    <tr style=\"text-align: right;\">\n",
       "      <th></th>\n",
       "      <th>Interest_rate</th>\n",
       "      <th>CPI</th>\n",
       "      <th>GDP</th>\n",
       "      <th>Unemployment_rate</th>\n",
       "      <th>Inflation_rate</th>\n",
       "      <th>UK_Population</th>\n",
       "    </tr>\n",
       "  </thead>\n",
       "  <tbody>\n",
       "    <tr>\n",
       "      <th>0</th>\n",
       "      <td>9.853333</td>\n",
       "      <td>0.738554</td>\n",
       "      <td>3.160000e+11</td>\n",
       "      <td>7.733333</td>\n",
       "      <td>0.049560</td>\n",
       "      <td>28265000</td>\n",
       "    </tr>\n",
       "    <tr>\n",
       "      <th>1</th>\n",
       "      <td>10.300000</td>\n",
       "      <td>5.210185</td>\n",
       "      <td>3.180000e+11</td>\n",
       "      <td>7.033333</td>\n",
       "      <td>0.052773</td>\n",
       "      <td>28301000</td>\n",
       "    </tr>\n",
       "    <tr>\n",
       "      <th>2</th>\n",
       "      <td>10.090000</td>\n",
       "      <td>0.173458</td>\n",
       "      <td>3.180000e+11</td>\n",
       "      <td>6.966667</td>\n",
       "      <td>0.051167</td>\n",
       "      <td>28328000</td>\n",
       "    </tr>\n",
       "    <tr>\n",
       "      <th>3</th>\n",
       "      <td>10.520000</td>\n",
       "      <td>0.325700</td>\n",
       "      <td>3.180000e+11</td>\n",
       "      <td>6.700000</td>\n",
       "      <td>0.055040</td>\n",
       "      <td>28388000</td>\n",
       "    </tr>\n",
       "    <tr>\n",
       "      <th>4</th>\n",
       "      <td>11.546667</td>\n",
       "      <td>0.708311</td>\n",
       "      <td>3.200000e+11</td>\n",
       "      <td>6.966667</td>\n",
       "      <td>0.058380</td>\n",
       "      <td>28395000</td>\n",
       "    </tr>\n",
       "  </tbody>\n",
       "</table>\n",
       "</div>"
      ],
      "text/plain": [
       "   Interest_rate       CPI           GDP  Unemployment_rate  Inflation_rate  \\\n",
       "0       9.853333  0.738554  3.160000e+11           7.733333        0.049560   \n",
       "1      10.300000  5.210185  3.180000e+11           7.033333        0.052773   \n",
       "2      10.090000  0.173458  3.180000e+11           6.966667        0.051167   \n",
       "3      10.520000  0.325700  3.180000e+11           6.700000        0.055040   \n",
       "4      11.546667  0.708311  3.200000e+11           6.966667        0.058380   \n",
       "\n",
       "   UK_Population  \n",
       "0       28265000  \n",
       "1       28301000  \n",
       "2       28328000  \n",
       "3       28388000  \n",
       "4       28395000  "
      ]
     },
     "execution_count": 52,
     "metadata": {},
     "output_type": "execute_result"
    }
   ],
   "source": [
    "X_train.head()"
   ]
  },
  {
   "cell_type": "code",
   "execution_count": 53,
   "id": "15d515d6",
   "metadata": {},
   "outputs": [],
   "source": [
    "# with statsmodels\n",
    "X = sm.add_constant(X) # adding a constant"
   ]
  },
  {
   "cell_type": "code",
   "execution_count": 54,
   "id": "b197323d",
   "metadata": {},
   "outputs": [],
   "source": [
    "model = sm.OLS(y_train, X_train).fit()"
   ]
  },
  {
   "cell_type": "code",
   "execution_count": 55,
   "id": "9021c7c0",
   "metadata": {},
   "outputs": [
    {
     "data": {
      "text/html": [
       "<table class=\"simpletable\">\n",
       "<caption>OLS Regression Results</caption>\n",
       "<tr>\n",
       "  <th>Dep. Variable:</th>    <td>Car_Registration</td> <th>  R-squared:         </th> <td>   0.292</td>\n",
       "</tr>\n",
       "<tr>\n",
       "  <th>Model:</th>                   <td>OLS</td>       <th>  Adj. R-squared:    </th> <td>   0.257</td>\n",
       "</tr>\n",
       "<tr>\n",
       "  <th>Method:</th>             <td>Least Squares</td>  <th>  F-statistic:       </th> <td>   8.335</td>\n",
       "</tr>\n",
       "<tr>\n",
       "  <th>Date:</th>             <td>Mon, 12 Dec 2022</td> <th>  Prob (F-statistic):</th> <td>1.26e-06</td>\n",
       "</tr>\n",
       "<tr>\n",
       "  <th>Time:</th>                 <td>20:38:20</td>     <th>  Log-Likelihood:    </th> <td> -1383.9</td>\n",
       "</tr>\n",
       "<tr>\n",
       "  <th>No. Observations:</th>      <td>   107</td>      <th>  AIC:               </th> <td>   2780.</td>\n",
       "</tr>\n",
       "<tr>\n",
       "  <th>Df Residuals:</th>          <td>   101</td>      <th>  BIC:               </th> <td>   2796.</td>\n",
       "</tr>\n",
       "<tr>\n",
       "  <th>Df Model:</th>              <td>     5</td>      <th>                     </th>     <td> </td>   \n",
       "</tr>\n",
       "<tr>\n",
       "  <th>Covariance Type:</th>      <td>nonrobust</td>    <th>                     </th>     <td> </td>   \n",
       "</tr>\n",
       "</table>\n",
       "<table class=\"simpletable\">\n",
       "<tr>\n",
       "          <td></td>             <th>coef</th>     <th>std err</th>      <th>t</th>      <th>P>|t|</th>  <th>[0.025</th>    <th>0.975]</th>  \n",
       "</tr>\n",
       "<tr>\n",
       "  <th>Interest_rate</th>     <td> 1.422e+04</td> <td> 1.35e+04</td> <td>    1.052</td> <td> 0.295</td> <td>-1.26e+04</td> <td>  4.1e+04</td>\n",
       "</tr>\n",
       "<tr>\n",
       "  <th>CPI</th>               <td>  527.6584</td> <td> 4555.154</td> <td>    0.116</td> <td> 0.908</td> <td>-8508.543</td> <td> 9563.859</td>\n",
       "</tr>\n",
       "<tr>\n",
       "  <th>GDP</th>               <td> 6.748e-08</td> <td> 9.26e-07</td> <td>    0.073</td> <td> 0.942</td> <td>-1.77e-06</td> <td>  1.9e-06</td>\n",
       "</tr>\n",
       "<tr>\n",
       "  <th>Unemployment_rate</th> <td>-2.543e+04</td> <td> 1.03e+04</td> <td>   -2.464</td> <td> 0.015</td> <td>-4.59e+04</td> <td>-4958.530</td>\n",
       "</tr>\n",
       "<tr>\n",
       "  <th>Inflation_rate</th>    <td>-2.502e+06</td> <td> 7.39e+05</td> <td>   -3.387</td> <td> 0.001</td> <td>-3.97e+06</td> <td>-1.04e+06</td>\n",
       "</tr>\n",
       "<tr>\n",
       "  <th>UK_Population</th>     <td>    0.0231</td> <td>    0.017</td> <td>    1.340</td> <td> 0.183</td> <td>   -0.011</td> <td>    0.057</td>\n",
       "</tr>\n",
       "</table>\n",
       "<table class=\"simpletable\">\n",
       "<tr>\n",
       "  <th>Omnibus:</th>       <td> 9.273</td> <th>  Durbin-Watson:     </th> <td>   3.136</td>\n",
       "</tr>\n",
       "<tr>\n",
       "  <th>Prob(Omnibus):</th> <td> 0.010</td> <th>  Jarque-Bera (JB):  </th> <td>   4.073</td>\n",
       "</tr>\n",
       "<tr>\n",
       "  <th>Skew:</th>          <td>-0.205</td> <th>  Prob(JB):          </th> <td>   0.131</td>\n",
       "</tr>\n",
       "<tr>\n",
       "  <th>Kurtosis:</th>      <td> 2.137</td> <th>  Cond. No.          </th> <td>3.10e+13</td>\n",
       "</tr>\n",
       "</table><br/><br/>Notes:<br/>[1] Standard Errors assume that the covariance matrix of the errors is correctly specified.<br/>[2] The condition number is large, 3.1e+13. This might indicate that there are<br/>strong multicollinearity or other numerical problems."
      ],
      "text/plain": [
       "<class 'statsmodels.iolib.summary.Summary'>\n",
       "\"\"\"\n",
       "                            OLS Regression Results                            \n",
       "==============================================================================\n",
       "Dep. Variable:       Car_Registration   R-squared:                       0.292\n",
       "Model:                            OLS   Adj. R-squared:                  0.257\n",
       "Method:                 Least Squares   F-statistic:                     8.335\n",
       "Date:                Mon, 12 Dec 2022   Prob (F-statistic):           1.26e-06\n",
       "Time:                        20:38:20   Log-Likelihood:                -1383.9\n",
       "No. Observations:                 107   AIC:                             2780.\n",
       "Df Residuals:                     101   BIC:                             2796.\n",
       "Df Model:                           5                                         \n",
       "Covariance Type:            nonrobust                                         \n",
       "=====================================================================================\n",
       "                        coef    std err          t      P>|t|      [0.025      0.975]\n",
       "-------------------------------------------------------------------------------------\n",
       "Interest_rate      1.422e+04   1.35e+04      1.052      0.295   -1.26e+04     4.1e+04\n",
       "CPI                 527.6584   4555.154      0.116      0.908   -8508.543    9563.859\n",
       "GDP                6.748e-08   9.26e-07      0.073      0.942   -1.77e-06     1.9e-06\n",
       "Unemployment_rate -2.543e+04   1.03e+04     -2.464      0.015   -4.59e+04   -4958.530\n",
       "Inflation_rate    -2.502e+06   7.39e+05     -3.387      0.001   -3.97e+06   -1.04e+06\n",
       "UK_Population         0.0231      0.017      1.340      0.183      -0.011       0.057\n",
       "==============================================================================\n",
       "Omnibus:                        9.273   Durbin-Watson:                   3.136\n",
       "Prob(Omnibus):                  0.010   Jarque-Bera (JB):                4.073\n",
       "Skew:                          -0.205   Prob(JB):                        0.131\n",
       "Kurtosis:                       2.137   Cond. No.                     3.10e+13\n",
       "==============================================================================\n",
       "\n",
       "Notes:\n",
       "[1] Standard Errors assume that the covariance matrix of the errors is correctly specified.\n",
       "[2] The condition number is large, 3.1e+13. This might indicate that there are\n",
       "strong multicollinearity or other numerical problems.\n",
       "\"\"\""
      ]
     },
     "execution_count": 55,
     "metadata": {},
     "output_type": "execute_result"
    }
   ],
   "source": [
    "model.summary()"
   ]
  },
  {
   "cell_type": "markdown",
   "id": "852ceaef",
   "metadata": {},
   "source": [
    "### Slope for Interest_rate, CPI, GDP, and UK_Population is positive which means these are statistically significant. But the p-value for most of the variables is greater than alpha except Unemployment_rate and Inflation_rate. "
   ]
  },
  {
   "cell_type": "markdown",
   "id": "d6904115",
   "metadata": {},
   "source": [
    "### We are excluding CPI because Inflation_rate and CPI are related to each other"
   ]
  },
  {
   "cell_type": "code",
   "execution_count": 56,
   "id": "975f9efb",
   "metadata": {},
   "outputs": [
    {
     "data": {
      "text/html": [
       "<table class=\"simpletable\">\n",
       "<tr>\n",
       "          <td></td>             <th>coef</th>     <th>std err</th>      <th>t</th>      <th>P>|t|</th>  <th>[0.025</th>    <th>0.975]</th>  \n",
       "</tr>\n",
       "<tr>\n",
       "  <th>Interest_rate</th>     <td> 1.422e+04</td> <td> 1.35e+04</td> <td>    1.052</td> <td> 0.295</td> <td>-1.26e+04</td> <td>  4.1e+04</td>\n",
       "</tr>\n",
       "<tr>\n",
       "  <th>CPI</th>               <td>  527.6584</td> <td> 4555.154</td> <td>    0.116</td> <td> 0.908</td> <td>-8508.543</td> <td> 9563.859</td>\n",
       "</tr>\n",
       "<tr>\n",
       "  <th>GDP</th>               <td> 6.748e-08</td> <td> 9.26e-07</td> <td>    0.073</td> <td> 0.942</td> <td>-1.77e-06</td> <td>  1.9e-06</td>\n",
       "</tr>\n",
       "<tr>\n",
       "  <th>Unemployment_rate</th> <td>-2.543e+04</td> <td> 1.03e+04</td> <td>   -2.464</td> <td> 0.015</td> <td>-4.59e+04</td> <td>-4958.530</td>\n",
       "</tr>\n",
       "<tr>\n",
       "  <th>Inflation_rate</th>    <td>-2.502e+06</td> <td> 7.39e+05</td> <td>   -3.387</td> <td> 0.001</td> <td>-3.97e+06</td> <td>-1.04e+06</td>\n",
       "</tr>\n",
       "<tr>\n",
       "  <th>UK_Population</th>     <td>    0.0231</td> <td>    0.017</td> <td>    1.340</td> <td> 0.183</td> <td>   -0.011</td> <td>    0.057</td>\n",
       "</tr>\n",
       "</table>"
      ],
      "text/plain": [
       "<class 'statsmodels.iolib.table.SimpleTable'>"
      ]
     },
     "execution_count": 56,
     "metadata": {},
     "output_type": "execute_result"
    }
   ],
   "source": [
    "model1 = smf.ols(formula='Car_Registration ~ Interest_rate + GDP + Unemployment_rate + Inflation_rate + UK_Population', data=df_project).fit()\n",
    "summary = model.summary()\n",
    "summary.tables[1]"
   ]
  },
  {
   "cell_type": "code",
   "execution_count": 57,
   "id": "8aae6bf5",
   "metadata": {},
   "outputs": [
    {
     "data": {
      "text/html": [
       "<table class=\"simpletable\">\n",
       "<caption>OLS Regression Results</caption>\n",
       "<tr>\n",
       "  <th>Dep. Variable:</th>    <td>Car_Registration</td> <th>  R-squared:         </th> <td>   0.286</td>\n",
       "</tr>\n",
       "<tr>\n",
       "  <th>Model:</th>                   <td>OLS</td>       <th>  Adj. R-squared:    </th> <td>   0.258</td>\n",
       "</tr>\n",
       "<tr>\n",
       "  <th>Method:</th>             <td>Least Squares</td>  <th>  F-statistic:       </th> <td>   10.25</td>\n",
       "</tr>\n",
       "<tr>\n",
       "  <th>Date:</th>             <td>Mon, 12 Dec 2022</td> <th>  Prob (F-statistic):</th> <td>2.82e-08</td>\n",
       "</tr>\n",
       "<tr>\n",
       "  <th>Time:</th>                 <td>20:38:21</td>     <th>  Log-Likelihood:    </th> <td> -1739.9</td>\n",
       "</tr>\n",
       "<tr>\n",
       "  <th>No. Observations:</th>      <td>   134</td>      <th>  AIC:               </th> <td>   3492.</td>\n",
       "</tr>\n",
       "<tr>\n",
       "  <th>Df Residuals:</th>          <td>   128</td>      <th>  BIC:               </th> <td>   3509.</td>\n",
       "</tr>\n",
       "<tr>\n",
       "  <th>Df Model:</th>              <td>     5</td>      <th>                     </th>     <td> </td>   \n",
       "</tr>\n",
       "<tr>\n",
       "  <th>Covariance Type:</th>      <td>nonrobust</td>    <th>                     </th>     <td> </td>   \n",
       "</tr>\n",
       "</table>\n",
       "<table class=\"simpletable\">\n",
       "<tr>\n",
       "          <td></td>             <th>coef</th>     <th>std err</th>      <th>t</th>      <th>P>|t|</th>  <th>[0.025</th>    <th>0.975]</th>  \n",
       "</tr>\n",
       "<tr>\n",
       "  <th>Intercept</th>         <td> 5.042e+05</td> <td>  5.1e+05</td> <td>    0.989</td> <td> 0.325</td> <td>-5.05e+05</td> <td> 1.51e+06</td>\n",
       "</tr>\n",
       "<tr>\n",
       "  <th>Interest_rate</th>     <td> 4.033e+04</td> <td> 1.17e+04</td> <td>    3.455</td> <td> 0.001</td> <td> 1.72e+04</td> <td> 6.34e+04</td>\n",
       "</tr>\n",
       "<tr>\n",
       "  <th>GDP</th>               <td> 2.349e-06</td> <td> 5.57e-07</td> <td>    4.216</td> <td> 0.000</td> <td> 1.25e-06</td> <td> 3.45e-06</td>\n",
       "</tr>\n",
       "<tr>\n",
       "  <th>Unemployment_rate</th> <td>-1638.9901</td> <td> 7877.509</td> <td>   -0.208</td> <td> 0.836</td> <td>-1.72e+04</td> <td> 1.39e+04</td>\n",
       "</tr>\n",
       "<tr>\n",
       "  <th>Inflation_rate</th>    <td>-2.942e+06</td> <td> 7.93e+05</td> <td>   -3.707</td> <td> 0.000</td> <td>-4.51e+06</td> <td>-1.37e+06</td>\n",
       "</tr>\n",
       "<tr>\n",
       "  <th>UK_Population</th>     <td>   -0.0365</td> <td>    0.020</td> <td>   -1.859</td> <td> 0.065</td> <td>   -0.075</td> <td>    0.002</td>\n",
       "</tr>\n",
       "</table>\n",
       "<table class=\"simpletable\">\n",
       "<tr>\n",
       "  <th>Omnibus:</th>       <td> 5.150</td> <th>  Durbin-Watson:     </th> <td>   2.608</td>\n",
       "</tr>\n",
       "<tr>\n",
       "  <th>Prob(Omnibus):</th> <td> 0.076</td> <th>  Jarque-Bera (JB):  </th> <td>   2.701</td>\n",
       "</tr>\n",
       "<tr>\n",
       "  <th>Skew:</th>          <td>-0.030</td> <th>  Prob(JB):          </th> <td>   0.259</td>\n",
       "</tr>\n",
       "<tr>\n",
       "  <th>Kurtosis:</th>      <td> 2.307</td> <th>  Cond. No.          </th> <td>4.18e+13</td>\n",
       "</tr>\n",
       "</table><br/><br/>Notes:<br/>[1] Standard Errors assume that the covariance matrix of the errors is correctly specified.<br/>[2] The condition number is large, 4.18e+13. This might indicate that there are<br/>strong multicollinearity or other numerical problems."
      ],
      "text/plain": [
       "<class 'statsmodels.iolib.summary.Summary'>\n",
       "\"\"\"\n",
       "                            OLS Regression Results                            \n",
       "==============================================================================\n",
       "Dep. Variable:       Car_Registration   R-squared:                       0.286\n",
       "Model:                            OLS   Adj. R-squared:                  0.258\n",
       "Method:                 Least Squares   F-statistic:                     10.25\n",
       "Date:                Mon, 12 Dec 2022   Prob (F-statistic):           2.82e-08\n",
       "Time:                        20:38:21   Log-Likelihood:                -1739.9\n",
       "No. Observations:                 134   AIC:                             3492.\n",
       "Df Residuals:                     128   BIC:                             3509.\n",
       "Df Model:                           5                                         \n",
       "Covariance Type:            nonrobust                                         \n",
       "=====================================================================================\n",
       "                        coef    std err          t      P>|t|      [0.025      0.975]\n",
       "-------------------------------------------------------------------------------------\n",
       "Intercept          5.042e+05    5.1e+05      0.989      0.325   -5.05e+05    1.51e+06\n",
       "Interest_rate      4.033e+04   1.17e+04      3.455      0.001    1.72e+04    6.34e+04\n",
       "GDP                2.349e-06   5.57e-07      4.216      0.000    1.25e-06    3.45e-06\n",
       "Unemployment_rate -1638.9901   7877.509     -0.208      0.836   -1.72e+04    1.39e+04\n",
       "Inflation_rate    -2.942e+06   7.93e+05     -3.707      0.000   -4.51e+06   -1.37e+06\n",
       "UK_Population        -0.0365      0.020     -1.859      0.065      -0.075       0.002\n",
       "==============================================================================\n",
       "Omnibus:                        5.150   Durbin-Watson:                   2.608\n",
       "Prob(Omnibus):                  0.076   Jarque-Bera (JB):                2.701\n",
       "Skew:                          -0.030   Prob(JB):                        0.259\n",
       "Kurtosis:                       2.307   Cond. No.                     4.18e+13\n",
       "==============================================================================\n",
       "\n",
       "Notes:\n",
       "[1] Standard Errors assume that the covariance matrix of the errors is correctly specified.\n",
       "[2] The condition number is large, 4.18e+13. This might indicate that there are\n",
       "strong multicollinearity or other numerical problems.\n",
       "\"\"\""
      ]
     },
     "execution_count": 57,
     "metadata": {},
     "output_type": "execute_result"
    }
   ],
   "source": [
    "model1.summary()"
   ]
  },
  {
   "cell_type": "markdown",
   "id": "09f7dc5d",
   "metadata": {},
   "source": [
    "### p-value for Unemployment_rate and UK_Population is greater than alpha. So we will be creating interaction terms based on these two variables. "
   ]
  },
  {
   "cell_type": "code",
   "execution_count": 58,
   "id": "b5f24a2e",
   "metadata": {},
   "outputs": [
    {
     "data": {
      "text/html": [
       "<table class=\"simpletable\">\n",
       "<tr>\n",
       "                 <td></td>                    <th>coef</th>     <th>std err</th>      <th>t</th>      <th>P>|t|</th>  <th>[0.025</th>    <th>0.975]</th>  \n",
       "</tr>\n",
       "<tr>\n",
       "  <th>Intercept</th>                       <td> 2.738e+06</td> <td> 2.19e+06</td> <td>    1.252</td> <td> 0.213</td> <td>-1.59e+06</td> <td> 7.07e+06</td>\n",
       "</tr>\n",
       "<tr>\n",
       "  <th>Interest_rate</th>                   <td>   1.6e+05</td> <td>  1.8e+05</td> <td>    0.889</td> <td> 0.376</td> <td>-1.96e+05</td> <td> 5.16e+05</td>\n",
       "</tr>\n",
       "<tr>\n",
       "  <th>GDP</th>                             <td> 2.555e-06</td> <td>  7.3e-07</td> <td>    3.500</td> <td> 0.001</td> <td> 1.11e-06</td> <td>    4e-06</td>\n",
       "</tr>\n",
       "<tr>\n",
       "  <th>Unemployment_rate</th>               <td>-4.394e+05</td> <td> 3.35e+05</td> <td>   -1.313</td> <td> 0.191</td> <td> -1.1e+06</td> <td> 2.23e+05</td>\n",
       "</tr>\n",
       "<tr>\n",
       "  <th>Inflation_rate</th>                  <td> -3.03e+06</td> <td> 7.88e+05</td> <td>   -3.843</td> <td> 0.000</td> <td>-4.59e+06</td> <td>-1.47e+06</td>\n",
       "</tr>\n",
       "<tr>\n",
       "  <th>UK_Population</th>                   <td>   -0.1121</td> <td>    0.071</td> <td>   -1.589</td> <td> 0.115</td> <td>   -0.252</td> <td>    0.028</td>\n",
       "</tr>\n",
       "<tr>\n",
       "  <th>Interest_rate:Unemployment_rate</th> <td> 2903.9072</td> <td> 6932.353</td> <td>    0.419</td> <td> 0.676</td> <td>-1.08e+04</td> <td> 1.66e+04</td>\n",
       "</tr>\n",
       "<tr>\n",
       "  <th>Interest_rate:UK_Population</th>     <td>   -0.0046</td> <td>    0.006</td> <td>   -0.819</td> <td> 0.414</td> <td>   -0.016</td> <td>    0.007</td>\n",
       "</tr>\n",
       "<tr>\n",
       "  <th>Unemployment_rate:UK_Population</th> <td>    0.0143</td> <td>    0.010</td> <td>    1.390</td> <td> 0.167</td> <td>   -0.006</td> <td>    0.035</td>\n",
       "</tr>\n",
       "</table>"
      ],
      "text/plain": [
       "<class 'statsmodels.iolib.table.SimpleTable'>"
      ]
     },
     "execution_count": 58,
     "metadata": {},
     "output_type": "execute_result"
    }
   ],
   "source": [
    "mi = smf.ols(formula='Car_Registration ~ Interest_rate + GDP + Unemployment_rate + Inflation_rate + UK_Population + Interest_rate*Unemployment_rate + Interest_rate*UK_Population + Unemployment_rate*UK_Population', data=df_project)\n",
    "model2 = mi.fit()\n",
    "summary = model2.summary()\n",
    "summary.tables[1]"
   ]
  },
  {
   "cell_type": "code",
   "execution_count": 59,
   "id": "f3eeff0a",
   "metadata": {},
   "outputs": [
    {
     "data": {
      "text/html": [
       "<table class=\"simpletable\">\n",
       "<caption>OLS Regression Results</caption>\n",
       "<tr>\n",
       "  <th>Dep. Variable:</th>    <td>Car_Registration</td> <th>  R-squared:         </th> <td>   0.320</td>\n",
       "</tr>\n",
       "<tr>\n",
       "  <th>Model:</th>                   <td>OLS</td>       <th>  Adj. R-squared:    </th> <td>   0.276</td>\n",
       "</tr>\n",
       "<tr>\n",
       "  <th>Method:</th>             <td>Least Squares</td>  <th>  F-statistic:       </th> <td>   7.348</td>\n",
       "</tr>\n",
       "<tr>\n",
       "  <th>Date:</th>             <td>Mon, 12 Dec 2022</td> <th>  Prob (F-statistic):</th> <td>5.59e-08</td>\n",
       "</tr>\n",
       "<tr>\n",
       "  <th>Time:</th>                 <td>20:38:22</td>     <th>  Log-Likelihood:    </th> <td> -1736.6</td>\n",
       "</tr>\n",
       "<tr>\n",
       "  <th>No. Observations:</th>      <td>   134</td>      <th>  AIC:               </th> <td>   3491.</td>\n",
       "</tr>\n",
       "<tr>\n",
       "  <th>Df Residuals:</th>          <td>   125</td>      <th>  BIC:               </th> <td>   3517.</td>\n",
       "</tr>\n",
       "<tr>\n",
       "  <th>Df Model:</th>              <td>     8</td>      <th>                     </th>     <td> </td>   \n",
       "</tr>\n",
       "<tr>\n",
       "  <th>Covariance Type:</th>      <td>nonrobust</td>    <th>                     </th>     <td> </td>   \n",
       "</tr>\n",
       "</table>\n",
       "<table class=\"simpletable\">\n",
       "<tr>\n",
       "                 <td></td>                    <th>coef</th>     <th>std err</th>      <th>t</th>      <th>P>|t|</th>  <th>[0.025</th>    <th>0.975]</th>  \n",
       "</tr>\n",
       "<tr>\n",
       "  <th>Intercept</th>                       <td> 2.738e+06</td> <td> 2.19e+06</td> <td>    1.252</td> <td> 0.213</td> <td>-1.59e+06</td> <td> 7.07e+06</td>\n",
       "</tr>\n",
       "<tr>\n",
       "  <th>Interest_rate</th>                   <td>   1.6e+05</td> <td>  1.8e+05</td> <td>    0.889</td> <td> 0.376</td> <td>-1.96e+05</td> <td> 5.16e+05</td>\n",
       "</tr>\n",
       "<tr>\n",
       "  <th>GDP</th>                             <td> 2.555e-06</td> <td>  7.3e-07</td> <td>    3.500</td> <td> 0.001</td> <td> 1.11e-06</td> <td>    4e-06</td>\n",
       "</tr>\n",
       "<tr>\n",
       "  <th>Unemployment_rate</th>               <td>-4.394e+05</td> <td> 3.35e+05</td> <td>   -1.313</td> <td> 0.191</td> <td> -1.1e+06</td> <td> 2.23e+05</td>\n",
       "</tr>\n",
       "<tr>\n",
       "  <th>Inflation_rate</th>                  <td> -3.03e+06</td> <td> 7.88e+05</td> <td>   -3.843</td> <td> 0.000</td> <td>-4.59e+06</td> <td>-1.47e+06</td>\n",
       "</tr>\n",
       "<tr>\n",
       "  <th>UK_Population</th>                   <td>   -0.1121</td> <td>    0.071</td> <td>   -1.589</td> <td> 0.115</td> <td>   -0.252</td> <td>    0.028</td>\n",
       "</tr>\n",
       "<tr>\n",
       "  <th>Interest_rate:Unemployment_rate</th> <td> 2903.9072</td> <td> 6932.353</td> <td>    0.419</td> <td> 0.676</td> <td>-1.08e+04</td> <td> 1.66e+04</td>\n",
       "</tr>\n",
       "<tr>\n",
       "  <th>Interest_rate:UK_Population</th>     <td>   -0.0046</td> <td>    0.006</td> <td>   -0.819</td> <td> 0.414</td> <td>   -0.016</td> <td>    0.007</td>\n",
       "</tr>\n",
       "<tr>\n",
       "  <th>Unemployment_rate:UK_Population</th> <td>    0.0143</td> <td>    0.010</td> <td>    1.390</td> <td> 0.167</td> <td>   -0.006</td> <td>    0.035</td>\n",
       "</tr>\n",
       "</table>\n",
       "<table class=\"simpletable\">\n",
       "<tr>\n",
       "  <th>Omnibus:</th>       <td> 2.194</td> <th>  Durbin-Watson:     </th> <td>   2.739</td>\n",
       "</tr>\n",
       "<tr>\n",
       "  <th>Prob(Omnibus):</th> <td> 0.334</td> <th>  Jarque-Bera (JB):  </th> <td>   1.618</td>\n",
       "</tr>\n",
       "<tr>\n",
       "  <th>Skew:</th>          <td> 0.048</td> <th>  Prob(JB):          </th> <td>   0.445</td>\n",
       "</tr>\n",
       "<tr>\n",
       "  <th>Kurtosis:</th>      <td> 2.470</td> <th>  Cond. No.          </th> <td>1.07e+14</td>\n",
       "</tr>\n",
       "</table><br/><br/>Notes:<br/>[1] Standard Errors assume that the covariance matrix of the errors is correctly specified.<br/>[2] The condition number is large, 1.07e+14. This might indicate that there are<br/>strong multicollinearity or other numerical problems."
      ],
      "text/plain": [
       "<class 'statsmodels.iolib.summary.Summary'>\n",
       "\"\"\"\n",
       "                            OLS Regression Results                            \n",
       "==============================================================================\n",
       "Dep. Variable:       Car_Registration   R-squared:                       0.320\n",
       "Model:                            OLS   Adj. R-squared:                  0.276\n",
       "Method:                 Least Squares   F-statistic:                     7.348\n",
       "Date:                Mon, 12 Dec 2022   Prob (F-statistic):           5.59e-08\n",
       "Time:                        20:38:22   Log-Likelihood:                -1736.6\n",
       "No. Observations:                 134   AIC:                             3491.\n",
       "Df Residuals:                     125   BIC:                             3517.\n",
       "Df Model:                           8                                         \n",
       "Covariance Type:            nonrobust                                         \n",
       "===================================================================================================\n",
       "                                      coef    std err          t      P>|t|      [0.025      0.975]\n",
       "---------------------------------------------------------------------------------------------------\n",
       "Intercept                        2.738e+06   2.19e+06      1.252      0.213   -1.59e+06    7.07e+06\n",
       "Interest_rate                      1.6e+05    1.8e+05      0.889      0.376   -1.96e+05    5.16e+05\n",
       "GDP                              2.555e-06    7.3e-07      3.500      0.001    1.11e-06       4e-06\n",
       "Unemployment_rate               -4.394e+05   3.35e+05     -1.313      0.191    -1.1e+06    2.23e+05\n",
       "Inflation_rate                   -3.03e+06   7.88e+05     -3.843      0.000   -4.59e+06   -1.47e+06\n",
       "UK_Population                      -0.1121      0.071     -1.589      0.115      -0.252       0.028\n",
       "Interest_rate:Unemployment_rate  2903.9072   6932.353      0.419      0.676   -1.08e+04    1.66e+04\n",
       "Interest_rate:UK_Population        -0.0046      0.006     -0.819      0.414      -0.016       0.007\n",
       "Unemployment_rate:UK_Population     0.0143      0.010      1.390      0.167      -0.006       0.035\n",
       "==============================================================================\n",
       "Omnibus:                        2.194   Durbin-Watson:                   2.739\n",
       "Prob(Omnibus):                  0.334   Jarque-Bera (JB):                1.618\n",
       "Skew:                           0.048   Prob(JB):                        0.445\n",
       "Kurtosis:                       2.470   Cond. No.                     1.07e+14\n",
       "==============================================================================\n",
       "\n",
       "Notes:\n",
       "[1] Standard Errors assume that the covariance matrix of the errors is correctly specified.\n",
       "[2] The condition number is large, 1.07e+14. This might indicate that there are\n",
       "strong multicollinearity or other numerical problems.\n",
       "\"\"\""
      ]
     },
     "execution_count": 59,
     "metadata": {},
     "output_type": "execute_result"
    }
   ],
   "source": [
    "model2.summary()"
   ]
  },
  {
   "cell_type": "markdown",
   "id": "4a86758a",
   "metadata": {},
   "source": [
    "### P-value for Interest_rate, Unemployment_rate, UK_Population, Interest_rate:Unemployment_rate, Interest_rate:UK_Population, and Unemployment_rate:UK_Population is greater than alpha. "
   ]
  },
  {
   "cell_type": "code",
   "execution_count": 60,
   "id": "7401bdd8",
   "metadata": {},
   "outputs": [
    {
     "data": {
      "text/html": [
       "<table class=\"simpletable\">\n",
       "<tr>\n",
       "                 <td></td>                    <th>coef</th>     <th>std err</th>      <th>t</th>      <th>P>|t|</th>  <th>[0.025</th>    <th>0.975]</th>  \n",
       "</tr>\n",
       "<tr>\n",
       "  <th>Intercept</th>                       <td> 4.516e+05</td> <td> 5.65e+05</td> <td>    0.799</td> <td> 0.426</td> <td>-6.66e+05</td> <td> 1.57e+06</td>\n",
       "</tr>\n",
       "<tr>\n",
       "  <th>Interest_rate</th>                   <td> 1.765e+05</td> <td> 4.96e+04</td> <td>    3.555</td> <td> 0.001</td> <td> 7.82e+04</td> <td> 2.75e+05</td>\n",
       "</tr>\n",
       "<tr>\n",
       "  <th>GDP</th>                             <td> 3.464e-06</td> <td> 8.37e-07</td> <td>    4.139</td> <td> 0.000</td> <td> 1.81e-06</td> <td> 5.12e-06</td>\n",
       "</tr>\n",
       "<tr>\n",
       "  <th>Unemployment_rate</th>               <td> 4.175e+04</td> <td>  1.6e+04</td> <td>    2.611</td> <td> 0.010</td> <td> 1.01e+04</td> <td> 7.34e+04</td>\n",
       "</tr>\n",
       "<tr>\n",
       "  <th>Inflation_rate</th>                  <td>-3.243e+06</td> <td> 7.78e+05</td> <td>   -4.168</td> <td> 0.000</td> <td>-4.78e+06</td> <td> -1.7e+06</td>\n",
       "</tr>\n",
       "<tr>\n",
       "  <th>UK_Population</th>                   <td>   -0.0587</td> <td>    0.026</td> <td>   -2.246</td> <td> 0.026</td> <td>   -0.110</td> <td>   -0.007</td>\n",
       "</tr>\n",
       "<tr>\n",
       "  <th>Interest_rate:Unemployment_rate</th> <td>-8574.6396</td> <td> 2788.928</td> <td>   -3.075</td> <td> 0.003</td> <td>-1.41e+04</td> <td>-3055.433</td>\n",
       "</tr>\n",
       "<tr>\n",
       "  <th>GDP:Interest_rate</th>               <td>-2.139e-07</td> <td> 9.24e-08</td> <td>   -2.315</td> <td> 0.022</td> <td>-3.97e-07</td> <td> -3.1e-08</td>\n",
       "</tr>\n",
       "</table>"
      ],
      "text/plain": [
       "<class 'statsmodels.iolib.table.SimpleTable'>"
      ]
     },
     "execution_count": 60,
     "metadata": {},
     "output_type": "execute_result"
    }
   ],
   "source": [
    "mi2 = smf.ols(formula='Car_Registration ~ Interest_rate + GDP + Unemployment_rate + Inflation_rate + UK_Population + Interest_rate*Unemployment_rate + GDP*Interest_rate', data=df_project)\n",
    "model3 = mi2.fit()\n",
    "summary = model3.summary()\n",
    "summary.tables[1]"
   ]
  },
  {
   "cell_type": "code",
   "execution_count": 61,
   "id": "8b84b1c0",
   "metadata": {},
   "outputs": [
    {
     "data": {
      "text/html": [
       "<table class=\"simpletable\">\n",
       "<caption>OLS Regression Results</caption>\n",
       "<tr>\n",
       "  <th>Dep. Variable:</th>    <td>Car_Registration</td> <th>  R-squared:         </th> <td>   0.336</td>\n",
       "</tr>\n",
       "<tr>\n",
       "  <th>Model:</th>                   <td>OLS</td>       <th>  Adj. R-squared:    </th> <td>   0.299</td>\n",
       "</tr>\n",
       "<tr>\n",
       "  <th>Method:</th>             <td>Least Squares</td>  <th>  F-statistic:       </th> <td>   9.115</td>\n",
       "</tr>\n",
       "<tr>\n",
       "  <th>Date:</th>             <td>Mon, 12 Dec 2022</td> <th>  Prob (F-statistic):</th> <td>4.43e-09</td>\n",
       "</tr>\n",
       "<tr>\n",
       "  <th>Time:</th>                 <td>20:38:22</td>     <th>  Log-Likelihood:    </th> <td> -1735.0</td>\n",
       "</tr>\n",
       "<tr>\n",
       "  <th>No. Observations:</th>      <td>   134</td>      <th>  AIC:               </th> <td>   3486.</td>\n",
       "</tr>\n",
       "<tr>\n",
       "  <th>Df Residuals:</th>          <td>   126</td>      <th>  BIC:               </th> <td>   3509.</td>\n",
       "</tr>\n",
       "<tr>\n",
       "  <th>Df Model:</th>              <td>     7</td>      <th>                     </th>     <td> </td>   \n",
       "</tr>\n",
       "<tr>\n",
       "  <th>Covariance Type:</th>      <td>nonrobust</td>    <th>                     </th>     <td> </td>   \n",
       "</tr>\n",
       "</table>\n",
       "<table class=\"simpletable\">\n",
       "<tr>\n",
       "                 <td></td>                    <th>coef</th>     <th>std err</th>      <th>t</th>      <th>P>|t|</th>  <th>[0.025</th>    <th>0.975]</th>  \n",
       "</tr>\n",
       "<tr>\n",
       "  <th>Intercept</th>                       <td> 4.516e+05</td> <td> 5.65e+05</td> <td>    0.799</td> <td> 0.426</td> <td>-6.66e+05</td> <td> 1.57e+06</td>\n",
       "</tr>\n",
       "<tr>\n",
       "  <th>Interest_rate</th>                   <td> 1.765e+05</td> <td> 4.96e+04</td> <td>    3.555</td> <td> 0.001</td> <td> 7.82e+04</td> <td> 2.75e+05</td>\n",
       "</tr>\n",
       "<tr>\n",
       "  <th>GDP</th>                             <td> 3.464e-06</td> <td> 8.37e-07</td> <td>    4.139</td> <td> 0.000</td> <td> 1.81e-06</td> <td> 5.12e-06</td>\n",
       "</tr>\n",
       "<tr>\n",
       "  <th>Unemployment_rate</th>               <td> 4.175e+04</td> <td>  1.6e+04</td> <td>    2.611</td> <td> 0.010</td> <td> 1.01e+04</td> <td> 7.34e+04</td>\n",
       "</tr>\n",
       "<tr>\n",
       "  <th>Inflation_rate</th>                  <td>-3.243e+06</td> <td> 7.78e+05</td> <td>   -4.168</td> <td> 0.000</td> <td>-4.78e+06</td> <td> -1.7e+06</td>\n",
       "</tr>\n",
       "<tr>\n",
       "  <th>UK_Population</th>                   <td>   -0.0587</td> <td>    0.026</td> <td>   -2.246</td> <td> 0.026</td> <td>   -0.110</td> <td>   -0.007</td>\n",
       "</tr>\n",
       "<tr>\n",
       "  <th>Interest_rate:Unemployment_rate</th> <td>-8574.6396</td> <td> 2788.928</td> <td>   -3.075</td> <td> 0.003</td> <td>-1.41e+04</td> <td>-3055.433</td>\n",
       "</tr>\n",
       "<tr>\n",
       "  <th>GDP:Interest_rate</th>               <td>-2.139e-07</td> <td> 9.24e-08</td> <td>   -2.315</td> <td> 0.022</td> <td>-3.97e-07</td> <td> -3.1e-08</td>\n",
       "</tr>\n",
       "</table>\n",
       "<table class=\"simpletable\">\n",
       "<tr>\n",
       "  <th>Omnibus:</th>       <td> 4.997</td> <th>  Durbin-Watson:     </th> <td>   2.827</td>\n",
       "</tr>\n",
       "<tr>\n",
       "  <th>Prob(Omnibus):</th> <td> 0.082</td> <th>  Jarque-Bera (JB):  </th> <td>   2.681</td>\n",
       "</tr>\n",
       "<tr>\n",
       "  <th>Skew:</th>          <td>-0.053</td> <th>  Prob(JB):          </th> <td>   0.262</td>\n",
       "</tr>\n",
       "<tr>\n",
       "  <th>Kurtosis:</th>      <td> 2.315</td> <th>  Cond. No.          </th> <td>2.01e+14</td>\n",
       "</tr>\n",
       "</table><br/><br/>Notes:<br/>[1] Standard Errors assume that the covariance matrix of the errors is correctly specified.<br/>[2] The condition number is large, 2.01e+14. This might indicate that there are<br/>strong multicollinearity or other numerical problems."
      ],
      "text/plain": [
       "<class 'statsmodels.iolib.summary.Summary'>\n",
       "\"\"\"\n",
       "                            OLS Regression Results                            \n",
       "==============================================================================\n",
       "Dep. Variable:       Car_Registration   R-squared:                       0.336\n",
       "Model:                            OLS   Adj. R-squared:                  0.299\n",
       "Method:                 Least Squares   F-statistic:                     9.115\n",
       "Date:                Mon, 12 Dec 2022   Prob (F-statistic):           4.43e-09\n",
       "Time:                        20:38:22   Log-Likelihood:                -1735.0\n",
       "No. Observations:                 134   AIC:                             3486.\n",
       "Df Residuals:                     126   BIC:                             3509.\n",
       "Df Model:                           7                                         \n",
       "Covariance Type:            nonrobust                                         \n",
       "===================================================================================================\n",
       "                                      coef    std err          t      P>|t|      [0.025      0.975]\n",
       "---------------------------------------------------------------------------------------------------\n",
       "Intercept                        4.516e+05   5.65e+05      0.799      0.426   -6.66e+05    1.57e+06\n",
       "Interest_rate                    1.765e+05   4.96e+04      3.555      0.001    7.82e+04    2.75e+05\n",
       "GDP                              3.464e-06   8.37e-07      4.139      0.000    1.81e-06    5.12e-06\n",
       "Unemployment_rate                4.175e+04    1.6e+04      2.611      0.010    1.01e+04    7.34e+04\n",
       "Inflation_rate                  -3.243e+06   7.78e+05     -4.168      0.000   -4.78e+06    -1.7e+06\n",
       "UK_Population                      -0.0587      0.026     -2.246      0.026      -0.110      -0.007\n",
       "Interest_rate:Unemployment_rate -8574.6396   2788.928     -3.075      0.003   -1.41e+04   -3055.433\n",
       "GDP:Interest_rate               -2.139e-07   9.24e-08     -2.315      0.022   -3.97e-07    -3.1e-08\n",
       "==============================================================================\n",
       "Omnibus:                        4.997   Durbin-Watson:                   2.827\n",
       "Prob(Omnibus):                  0.082   Jarque-Bera (JB):                2.681\n",
       "Skew:                          -0.053   Prob(JB):                        0.262\n",
       "Kurtosis:                       2.315   Cond. No.                     2.01e+14\n",
       "==============================================================================\n",
       "\n",
       "Notes:\n",
       "[1] Standard Errors assume that the covariance matrix of the errors is correctly specified.\n",
       "[2] The condition number is large, 2.01e+14. This might indicate that there are\n",
       "strong multicollinearity or other numerical problems.\n",
       "\"\"\""
      ]
     },
     "execution_count": 61,
     "metadata": {},
     "output_type": "execute_result"
    }
   ],
   "source": [
    "model3.summary()"
   ]
  },
  {
   "cell_type": "markdown",
   "id": "54d3f24f",
   "metadata": {},
   "source": [
    "### Now after adding the interaction terms Interest_rate:Unemployment_rate and GDP:Interest_rate, all the independent variables p-value is less than alpha(0.05). Adj R-sqaure value improved after adding interaction terms. So, Model3 is the best fit model."
   ]
  },
  {
   "cell_type": "code",
   "execution_count": 62,
   "id": "68c93267",
   "metadata": {},
   "outputs": [
    {
     "data": {
      "text/plain": [
       "107    629901.551466\n",
       "108    618769.049512\n",
       "109    615545.829903\n",
       "110    604485.044588\n",
       "111    592986.563510\n",
       "112    568873.183342\n",
       "113    542350.504973\n",
       "114    560287.541321\n",
       "115    551550.152228\n",
       "116    558036.830399\n",
       "117    572763.990858\n",
       "118    585910.515765\n",
       "119    580781.561811\n",
       "120    591998.472538\n",
       "121    580392.498503\n",
       "122    597281.885337\n",
       "123    595884.049195\n",
       "124    541068.785502\n",
       "125    196481.563478\n",
       "126    479934.207373\n",
       "127    514006.180514\n",
       "128    491828.705203\n",
       "129    545504.336734\n",
       "130    542101.944987\n",
       "131    495394.647331\n",
       "132    465580.893707\n",
       "133    384308.100673\n",
       "dtype: float64"
      ]
     },
     "execution_count": 62,
     "metadata": {},
     "output_type": "execute_result"
    }
   ],
   "source": [
    "y_pred = model3.predict(X_test)\n",
    "y_pred"
   ]
  },
  {
   "cell_type": "code",
   "execution_count": 63,
   "id": "a763ccc4",
   "metadata": {},
   "outputs": [],
   "source": [
    "y_train = np.array(y_train).reshape((-1, 1))\n",
    "model3.fittedvalues = np.array(model3.fittedvalues).reshape((-1, 1))"
   ]
  },
  {
   "cell_type": "code",
   "execution_count": 68,
   "id": "ebd47923",
   "metadata": {},
   "outputs": [
    {
     "data": {
      "image/png": "[encoded data removed]",
      "text/plain": [
       "<Figure size 921.6x518.4 with 1 Axes>"
      ]
     },
     "metadata": {
      "needs_background": "light"
     },
     "output_type": "display_data"
    }
   ],
   "source": [
    "plt.plot(y_train, color = \"Blue\")\n",
    "plt.plot(y_pred, color = \"Orange\")\n",
    "plt.ylabel('Car_Registration')\n",
    "plt.xlabel('Independent Variables(GDP, CPI, Inflation rate, Interest Rate, Unemployment rate, Population)')\n",
    "plt.xticks(rotation=45)\n",
    "plt.rcParams['figure.figsize']=(12.8,7.2)\n",
    "plt.show()"
   ]
  },
  {
   "cell_type": "code",
   "execution_count": 69,
   "id": "44c9d3c8",
   "metadata": {},
   "outputs": [
    {
     "name": "stdout",
     "output_type": "stream",
     "text": [
      "The MAPE for Model fit is 0.16977263405447934\n",
      "The MAPE for Model Acc is 0.16536281669825825\n"
     ]
    }
   ],
   "source": [
    "from sklearn import metrics\n",
    "MAPE_train=metrics.mean_absolute_percentage_error(y_train, model3.fittedvalues[0: 107])\n",
    "print(\"The MAPE for Model fit is\",MAPE_train)\n",
    "MAPE_test=metrics.mean_absolute_percentage_error(y_test, y_pred)\n",
    "print(\"The MAPE for Model Acc is\",MAPE_test)"
   ]
  },
  {
   "cell_type": "code",
   "execution_count": 70,
   "id": "ee8c8502",
   "metadata": {},
   "outputs": [
    {
     "name": "stderr",
     "output_type": "stream",
     "text": [
      "C:\\Users\\Students\\anaconda3\\lib\\site-packages\\statsmodels\\regression\\linear_model.py:1736: RuntimeWarning: divide by zero encountered in double_scalars\n",
      "  return 1 - self.ssr/self.centered_tss\n"
     ]
    },
    {
     "data": {
      "text/html": [
       "<div>\n",
       "<style scoped>\n",
       "    .dataframe tbody tr th:only-of-type {\n",
       "        vertical-align: middle;\n",
       "    }\n",
       "\n",
       "    .dataframe tbody tr th {\n",
       "        vertical-align: top;\n",
       "    }\n",
       "\n",
       "    .dataframe thead th {\n",
       "        text-align: right;\n",
       "    }\n",
       "</style>\n",
       "<table border=\"1\" class=\"dataframe\">\n",
       "  <thead>\n",
       "    <tr style=\"text-align: right;\">\n",
       "      <th></th>\n",
       "      <th>VIF Factor</th>\n",
       "      <th>features</th>\n",
       "    </tr>\n",
       "  </thead>\n",
       "  <tbody>\n",
       "    <tr>\n",
       "      <th>0</th>\n",
       "      <td>0.000000</td>\n",
       "      <td>const</td>\n",
       "    </tr>\n",
       "    <tr>\n",
       "      <th>1</th>\n",
       "      <td>14.002003</td>\n",
       "      <td>Interest_rate</td>\n",
       "    </tr>\n",
       "    <tr>\n",
       "      <th>2</th>\n",
       "      <td>1.541846</td>\n",
       "      <td>CPI</td>\n",
       "    </tr>\n",
       "    <tr>\n",
       "      <th>3</th>\n",
       "      <td>23.797260</td>\n",
       "      <td>GDP</td>\n",
       "    </tr>\n",
       "    <tr>\n",
       "      <th>4</th>\n",
       "      <td>2.320262</td>\n",
       "      <td>Unemployment_rate</td>\n",
       "    </tr>\n",
       "    <tr>\n",
       "      <th>5</th>\n",
       "      <td>3.194522</td>\n",
       "      <td>Inflation_rate</td>\n",
       "    </tr>\n",
       "    <tr>\n",
       "      <th>6</th>\n",
       "      <td>15.497876</td>\n",
       "      <td>UK_Population</td>\n",
       "    </tr>\n",
       "  </tbody>\n",
       "</table>\n",
       "</div>"
      ],
      "text/plain": [
       "   VIF Factor           features\n",
       "0    0.000000              const\n",
       "1   14.002003      Interest_rate\n",
       "2    1.541846                CPI\n",
       "3   23.797260                GDP\n",
       "4    2.320262  Unemployment_rate\n",
       "5    3.194522     Inflation_rate\n",
       "6   15.497876      UK_Population"
      ]
     },
     "execution_count": 70,
     "metadata": {},
     "output_type": "execute_result"
    }
   ],
   "source": [
    "# For each X, calculate VIF and save in dataframe\n",
    "from statsmodels.stats.outliers_influence import variance_inflation_factor\n",
    "vif = pd.DataFrame()\n",
    "vif[\"VIF Factor\"] = [variance_inflation_factor(X.values, i) for i in range(X.shape[1])]\n",
    "vif[\"features\"] = X.columns\n",
    "vif"
   ]
  },
  {
   "cell_type": "markdown",
   "id": "791710d1",
   "metadata": {},
   "source": [
    "### vif for Interest_rate, GDP and UK_Population is greater than 10 which indicates these variable show multicollinearity"
   ]
  },
  {
   "cell_type": "code",
   "execution_count": 71,
   "id": "da2c57d4",
   "metadata": {},
   "outputs": [
    {
     "data": {
      "image/png": "[encoded data removed]",
      "text/plain": [
       "<Figure size 921.6x518.4 with 1 Axes>"
      ]
     },
     "metadata": {
      "needs_background": "light"
     },
     "output_type": "display_data"
    }
   ],
   "source": [
    "import seaborn as sns\n",
    "sns.histplot(model3.resid);"
   ]
  },
  {
   "cell_type": "code",
   "execution_count": 72,
   "id": "d30e0fb2",
   "metadata": {},
   "outputs": [
    {
     "data": {
      "text/plain": [
       "0    159473.262719\n",
       "1     51746.722139\n",
       "2    217562.434879\n",
       "3   -133877.598197\n",
       "4     29071.464898\n",
       "dtype: float64"
      ]
     },
     "execution_count": 72,
     "metadata": {},
     "output_type": "execute_result"
    }
   ],
   "source": [
    "model3.resid.head()"
   ]
  },
  {
   "cell_type": "code",
   "execution_count": 73,
   "id": "58947be7",
   "metadata": {},
   "outputs": [
    {
     "data": {
      "text/plain": [
       "107    -93284.551466\n",
       "108    153010.950488\n",
       "109     33310.170097\n",
       "110    125373.955412\n",
       "111    -50695.563510\n",
       "112    251142.816658\n",
       "113     39444.495027\n",
       "114    104312.458679\n",
       "115    -77344.152228\n",
       "116    160452.169601\n",
       "117     22741.009142\n",
       "118     10915.484235\n",
       "119   -124454.561811\n",
       "120    109037.527462\n",
       "121    -12183.498503\n",
       "122     -4255.885337\n",
       "123   -147015.049195\n",
       "124    -57511.785502\n",
       "125    -26536.563478\n",
       "126    110219.792627\n",
       "127   -126598.180514\n",
       "128    -66303.705203\n",
       "129    -61056.336734\n",
       "130   -135460.944987\n",
       "131   -164827.647331\n",
       "132    -48020.893707\n",
       "133       210.899327\n",
       "dtype: float64"
      ]
     },
     "execution_count": 73,
     "metadata": {},
     "output_type": "execute_result"
    }
   ],
   "source": [
    "pred_resid = model3.resid.tail(len(y_pred))\n",
    "pred_resid"
   ]
  },
  {
   "cell_type": "code",
   "execution_count": 74,
   "id": "671a948a",
   "metadata": {},
   "outputs": [
    {
     "data": {
      "text/plain": [
       "(-54.68605256254642, 101618.15519955572)"
      ]
     },
     "execution_count": 74,
     "metadata": {},
     "output_type": "execute_result"
    }
   ],
   "source": [
    "from scipy import stats\n",
    "mu, std = stats.norm.fit(model3.resid)\n",
    "mu, std"
   ]
  },
  {
   "cell_type": "markdown",
   "id": "128c56a0",
   "metadata": {},
   "source": [
    "# Model Assumptions\n",
    "## 1.\tFirst, we assume that the relationship between the forecast variable and the predictor variable is linear\n",
    "### The relationship between the forecast variable “Car_Registration” and the predictor variable is linear.\n",
    "## 2.Second, we make the following assumptions about the errors:     \n",
    "        * Residuals are normally distributed\n",
    "        * Residuals have constant variance \n",
    "        * Residual terms are independent"
   ]
  },
  {
   "cell_type": "code",
   "execution_count": 75,
   "id": "52fe13de",
   "metadata": {},
   "outputs": [
    {
     "data": {
      "image/png": "[encoded data removed]",
      "text/plain": [
       "<Figure size 921.6x518.4 with 1 Axes>"
      ]
     },
     "metadata": {
      "needs_background": "light"
     },
     "output_type": "display_data"
    }
   ],
   "source": [
    "import matplotlib.pyplot as plt\n",
    "import numpy as np\n",
    "\n",
    "fig, ax = plt.subplots()\n",
    "# plot the residuals\n",
    "sns.histplot(x=model3.resid, ax=ax, stat=\"density\", linewidth=0, kde=True)\n",
    "ax.set(title=\"Distribution of residuals\", xlabel=\"residual\")\n",
    "\n",
    "# plot corresponding normal curve\n",
    "xmin, xmax = plt.xlim() # the maximum x values from the histogram above\n",
    "x = np.linspace(xmin, xmax, 100) # generate some x values\n",
    "p = stats.norm.pdf(x, mu, std) # calculate the y values for the normal curve\n",
    "sns.lineplot(x=x, y=p, color=\"orange\", ax=ax)\n",
    "plt.show()"
   ]
  },
  {
   "cell_type": "markdown",
   "id": "d0f00f86",
   "metadata": {},
   "source": [
    "## According to the histogram, the residuals appear normally distributed, The assumption is true"
   ]
  },
  {
   "cell_type": "code",
   "execution_count": 76,
   "id": "8616014a",
   "metadata": {},
   "outputs": [
    {
     "data": {
      "text/plain": [
       "[Text(0.5, 0, 'Predicted Values'), Text(0, 0.5, 'Residuals')]"
      ]
     },
     "execution_count": 76,
     "metadata": {},
     "output_type": "execute_result"
    },
    {
     "data": {
      "image/png": "[encoded data removed]",
      "text/plain": [
       "<Figure size 921.6x518.4 with 1 Axes>"
      ]
     },
     "metadata": {
      "needs_background": "light"
     },
     "output_type": "display_data"
    }
   ],
   "source": [
    "#Residual Vs Predicted Plot\n",
    "fig, ax = plt.subplots(1,1)\n",
    "\n",
    "sns.regplot(x=y_pred, y=pred_resid, lowess=True, ax=ax, line_kws={'color': 'red'})\n",
    "ax.set_title('Residuals vs Predicted', fontsize=16)\n",
    "ax.set(xlabel='Predicted Values', ylabel='Residuals')"
   ]
  },
  {
   "cell_type": "markdown",
   "id": "222c5bcf",
   "metadata": {},
   "source": [
    "## The residual vs. predicted value scatterplot shows no pattern that indicates that the equal variances assumption is correct."
   ]
  },
  {
   "cell_type": "code",
   "execution_count": 77,
   "id": "62c9be69",
   "metadata": {},
   "outputs": [
    {
     "data": {
      "text/plain": [
       "3.1356745806537534"
      ]
     },
     "execution_count": 77,
     "metadata": {},
     "output_type": "execute_result"
    }
   ],
   "source": [
    "#perform Durbin-Watson test\n",
    "from statsmodels.stats.stattools import durbin_watson\n",
    "\n",
    "durbin_watson(model.resid)"
   ]
  },
  {
   "cell_type": "markdown",
   "id": "71af84b8",
   "metadata": {},
   "source": [
    "## As the Durbin-Watson statistic ranges from 0-4. The DW statistic close to zero indicate that there is positive serial correlation"
   ]
  },
  {
   "cell_type": "markdown",
   "id": "0b4a5458",
   "metadata": {},
   "source": [
    "# Model Evaluation\n",
    "## 1.\tIs the model logical? \n",
    "### The model is logical because the slope is positive for GDP, Unemployment_rate and Interest Rate which makes sense. With the increase in GDP, Unemployment_rate and Interest rate there is increase in Car Registration\n",
    "## 2.\tIs the slope term statistically significant? \n",
    "### The p-value for all the slope term is less than alpha, so independent variables are significant predictor.\n",
    "## 3.\tWhat percent of the variation in the dependent variable is explained by variation in the independent variable \n",
    "### AdjR2 = 30% so 30% of the variation in the dependent variable is explained by the independent variable"
   ]
  },
  {
   "cell_type": "markdown",
   "id": "aab0f141",
   "metadata": {},
   "source": [
    "### Based on our best fit model (Model3), Below is the equation of line fit"
   ]
  },
  {
   "cell_type": "markdown",
   "id": "5972a10c",
   "metadata": {},
   "source": [
    "### Predicting the Car Registration for next two quarters using the 2 predicted values of all the independent variables\n",
    "Y = Intercept + (-0.00001765)*x1 + (0.0000034)*x2 + 0.000041*x3 + (-0.0000032)*x4 + (-0.0587)*x5 + (-8574.63)*x6 + (-0.00000021)*x7\n",
    "\n",
    "##### Y = 0.000004516 - 0.00001765*2.175977 + 0.0000034*0.000000000056 + 0.000041*5.489589 - 0.0000032*0.194 - 0.0587*0.00000032 - 8574.63*(2.175977*5.489589) - 0.00000021*(0.000000000056*2.175977) \n",
    "\n",
    "#### Where Y = Car Registration\n",
    "#### x1 = Interest_rate\n",
    "#### x2 = GDP\n",
    "#### x3 = Unemployment_rate\n",
    "#### x4 = Inflation_rate\n",
    "#### x5 = UK_Population\n",
    "#### x6 = Interest_rate*Unemployment_rate\n",
    "#### x7 = GDP*Interest_rate\n"
   ]
  },
  {
   "cell_type": "code",
   "execution_count": 94,
   "id": "c4d9bc83",
   "metadata": {},
   "outputs": [
    {
     "data": {
      "text/plain": [
       "-102425.83646290997"
      ]
     },
     "execution_count": 94,
     "metadata": {},
     "output_type": "execute_result"
    }
   ],
   "source": [
    "Y1 =  0.000004516 - 0.00001765*2.175977 + 0.0000034*0.000000000056 + 0.000041*5.489589 - 0.0000032*0.2013 - 0.0587*0.00000032 - 8574.63*(2.175977*5.489589) - 0.00000021*(0.000000000056*2.175977)\n",
    "Y1"
   ]
  },
  {
   "cell_type": "markdown",
   "id": "5770c596",
   "metadata": {},
   "source": [
    "#### -102425.83646290997 is the predicted value for next quarter (Q4 of 2022)"
   ]
  },
  {
   "cell_type": "markdown",
   "id": "85279b40",
   "metadata": {},
   "source": [
    "### Predicting Car registration for first quarter of 2023\n",
    "\n",
    "#### Y2 = Intercept + (-0.00001765)x1 + (0.0000034)x2 + 0.000041x3 + (-0.0000032)x4 + (-0.0587)x5 + (-8574.63)x6 + (-0.00000021)x7 = 0.000004516 - 0.000017652.175977 + 0.00000340.000000000056 + 0.0000415.489589 - 0.00000320.194 - 0.0587*0.00000032 - 8574.63(2.1759775.489589) - 0.00000021(0.000000000056*2.175977)\n"
   ]
  },
  {
   "cell_type": "code",
   "execution_count": 93,
   "id": "0b896718",
   "metadata": {},
   "outputs": [
    {
     "data": {
      "text/plain": [
       "-99384.40910081592"
      ]
     },
     "execution_count": 93,
     "metadata": {},
     "output_type": "execute_result"
    }
   ],
   "source": [
    "Y2 = 0.000004516 - 0.00001765*2.115355 + 0.0000034*0.0000000000561 + 0.000041*5.479231 - 0.0000032*0.187 - 0.0587*0.0000003259 - 8574.63*(2.115355*5.479231) - 0.00000021*(0.0000000000561*2.115355)  \n",
    "Y2"
   ]
  },
  {
   "cell_type": "markdown",
   "id": "03dd802b",
   "metadata": {},
   "source": [
    "#### -99384.40910081592 is the predicted value for first quarter of 2023"
   ]
  },
  {
   "cell_type": "code",
   "execution_count": null,
   "id": "7b9a68f6",
   "metadata": {},
   "outputs": [],
   "source": []
  }
 ],
 "metadata": {
  "kernelspec": {
   "display_name": "Python 3 (ipykernel)",
   "language": "python",
   "name": "python3"
  },
  "language_info": {
   "codemirror_mode": {
    "name": "ipython",
    "version": 3
   },
   "file_extension": ".py",
   "mimetype": "text/x-python",
   "name": "python",
   "nbconvert_exporter": "python",
   "pygments_lexer": "ipython3",
   "version": "3.9.12"
  }
 },
 "nbformat": 4,
 "nbformat_minor": 5
}
