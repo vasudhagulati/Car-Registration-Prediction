{
 "cells": [
  {
   "cell_type": "code",
   "execution_count": 1,
   "id": "a10ad74f",
   "metadata": {},
   "outputs": [],
   "source": [
    "# Initialising required libraries\n",
    "import pandas as pd\n",
    "import matplotlib.pyplot as plt\n",
    "import datetime\n",
    "import numpy as np\n",
    "from datetime import datetime"
   ]
  },
  {
   "cell_type": "code",
   "execution_count": 2,
   "id": "1eaf48b2",
   "metadata": {},
   "outputs": [
    {
     "data": {
      "text/html": [
       "<div>\n",
       "<style scoped>\n",
       "    .dataframe tbody tr th:only-of-type {\n",
       "        vertical-align: middle;\n",
       "    }\n",
       "\n",
       "    .dataframe tbody tr th {\n",
       "        vertical-align: top;\n",
       "    }\n",
       "\n",
       "    .dataframe thead th {\n",
       "        text-align: right;\n",
       "    }\n",
       "</style>\n",
       "<table border=\"1\" class=\"dataframe\">\n",
       "  <thead>\n",
       "    <tr style=\"text-align: right;\">\n",
       "      <th></th>\n",
       "      <th>DATE</th>\n",
       "      <th>INTGSBGBM193N</th>\n",
       "    </tr>\n",
       "  </thead>\n",
       "  <tbody>\n",
       "    <tr>\n",
       "      <th>0</th>\n",
       "      <td>1/1/1989</td>\n",
       "      <td>9.9600</td>\n",
       "    </tr>\n",
       "    <tr>\n",
       "      <th>1</th>\n",
       "      <td>2/1/1989</td>\n",
       "      <td>9.7200</td>\n",
       "    </tr>\n",
       "    <tr>\n",
       "      <th>2</th>\n",
       "      <td>3/1/1989</td>\n",
       "      <td>9.8800</td>\n",
       "    </tr>\n",
       "    <tr>\n",
       "      <th>3</th>\n",
       "      <td>4/1/1989</td>\n",
       "      <td>10.1800</td>\n",
       "    </tr>\n",
       "    <tr>\n",
       "      <th>4</th>\n",
       "      <td>5/1/1989</td>\n",
       "      <td>10.1700</td>\n",
       "    </tr>\n",
       "    <tr>\n",
       "      <th>...</th>\n",
       "      <td>...</td>\n",
       "      <td>...</td>\n",
       "    </tr>\n",
       "    <tr>\n",
       "      <th>399</th>\n",
       "      <td>4/1/2022</td>\n",
       "      <td>1.8362</td>\n",
       "    </tr>\n",
       "    <tr>\n",
       "      <th>400</th>\n",
       "      <td>5/1/2022</td>\n",
       "      <td>1.9069</td>\n",
       "    </tr>\n",
       "    <tr>\n",
       "      <th>401</th>\n",
       "      <td>6/1/2022</td>\n",
       "      <td>2.3824</td>\n",
       "    </tr>\n",
       "    <tr>\n",
       "      <th>402</th>\n",
       "      <td>7/1/2022</td>\n",
       "      <td>2.1454</td>\n",
       "    </tr>\n",
       "    <tr>\n",
       "      <th>403</th>\n",
       "      <td>8/1/2022</td>\n",
       "      <td>2.3278</td>\n",
       "    </tr>\n",
       "  </tbody>\n",
       "</table>\n",
       "<p>404 rows × 2 columns</p>\n",
       "</div>"
      ],
      "text/plain": [
       "         DATE  INTGSBGBM193N\n",
       "0    1/1/1989         9.9600\n",
       "1    2/1/1989         9.7200\n",
       "2    3/1/1989         9.8800\n",
       "3    4/1/1989        10.1800\n",
       "4    5/1/1989        10.1700\n",
       "..        ...            ...\n",
       "399  4/1/2022         1.8362\n",
       "400  5/1/2022         1.9069\n",
       "401  6/1/2022         2.3824\n",
       "402  7/1/2022         2.1454\n",
       "403  8/1/2022         2.3278\n",
       "\n",
       "[404 rows x 2 columns]"
      ]
     },
     "execution_count": 2,
     "metadata": {},
     "output_type": "execute_result"
    }
   ],
   "source": [
    "# Loading the dataset\n",
    "data = pd.read_csv(\"PCDA_UNCLEANED/interest_rate_uk.csv\")\n",
    "data"
   ]
  },
  {
   "cell_type": "code",
   "execution_count": 3,
   "id": "23f864ec",
   "metadata": {},
   "outputs": [
    {
     "data": {
      "text/html": [
       "<div>\n",
       "<style scoped>\n",
       "    .dataframe tbody tr th:only-of-type {\n",
       "        vertical-align: middle;\n",
       "    }\n",
       "\n",
       "    .dataframe tbody tr th {\n",
       "        vertical-align: top;\n",
       "    }\n",
       "\n",
       "    .dataframe thead th {\n",
       "        text-align: right;\n",
       "    }\n",
       "</style>\n",
       "<table border=\"1\" class=\"dataframe\">\n",
       "  <thead>\n",
       "    <tr style=\"text-align: right;\">\n",
       "      <th></th>\n",
       "      <th>DATE</th>\n",
       "      <th>Interest_rate</th>\n",
       "    </tr>\n",
       "  </thead>\n",
       "  <tbody>\n",
       "    <tr>\n",
       "      <th>0</th>\n",
       "      <td>1989-03-31</td>\n",
       "      <td>9.853333</td>\n",
       "    </tr>\n",
       "    <tr>\n",
       "      <th>1</th>\n",
       "      <td>1989-06-30</td>\n",
       "      <td>10.300000</td>\n",
       "    </tr>\n",
       "    <tr>\n",
       "      <th>2</th>\n",
       "      <td>1989-09-30</td>\n",
       "      <td>10.090000</td>\n",
       "    </tr>\n",
       "    <tr>\n",
       "      <th>3</th>\n",
       "      <td>1989-12-31</td>\n",
       "      <td>10.520000</td>\n",
       "    </tr>\n",
       "    <tr>\n",
       "      <th>4</th>\n",
       "      <td>1990-03-31</td>\n",
       "      <td>11.546667</td>\n",
       "    </tr>\n",
       "    <tr>\n",
       "      <th>...</th>\n",
       "      <td>...</td>\n",
       "      <td>...</td>\n",
       "    </tr>\n",
       "    <tr>\n",
       "      <th>130</th>\n",
       "      <td>2021-09-30</td>\n",
       "      <td>0.714733</td>\n",
       "    </tr>\n",
       "    <tr>\n",
       "      <th>131</th>\n",
       "      <td>2021-12-31</td>\n",
       "      <td>0.953300</td>\n",
       "    </tr>\n",
       "    <tr>\n",
       "      <th>132</th>\n",
       "      <td>2022-03-31</td>\n",
       "      <td>1.413300</td>\n",
       "    </tr>\n",
       "    <tr>\n",
       "      <th>133</th>\n",
       "      <td>2022-06-30</td>\n",
       "      <td>2.041833</td>\n",
       "    </tr>\n",
       "    <tr>\n",
       "      <th>134</th>\n",
       "      <td>2022-09-30</td>\n",
       "      <td>2.236600</td>\n",
       "    </tr>\n",
       "  </tbody>\n",
       "</table>\n",
       "<p>135 rows × 2 columns</p>\n",
       "</div>"
      ],
      "text/plain": [
       "          DATE  Interest_rate\n",
       "0   1989-03-31       9.853333\n",
       "1   1989-06-30      10.300000\n",
       "2   1989-09-30      10.090000\n",
       "3   1989-12-31      10.520000\n",
       "4   1990-03-31      11.546667\n",
       "..         ...            ...\n",
       "130 2021-09-30       0.714733\n",
       "131 2021-12-31       0.953300\n",
       "132 2022-03-31       1.413300\n",
       "133 2022-06-30       2.041833\n",
       "134 2022-09-30       2.236600\n",
       "\n",
       "[135 rows x 2 columns]"
      ]
     },
     "execution_count": 3,
     "metadata": {},
     "output_type": "execute_result"
    }
   ],
   "source": [
    "df_Interest = pd.read_csv(\"PCDA_UNCLEANED/interest_rate_uk.csv\", parse_dates =[\"DATE\"],index_col =\"DATE\")\n",
    "df_Interest = df_Interest.INTGSBGBM193N.resample('Q').mean()\n",
    "type(df_Interest)\n",
    "df_Interest = df_Interest.to_frame()\n",
    "df_Interest.reset_index(inplace=True)\n",
    "df_Interest.columns = ['DATE','Interest_rate']\n",
    "df_Interest"
   ]
  },
  {
   "cell_type": "code",
   "execution_count": 4,
   "id": "fdb74125",
   "metadata": {},
   "outputs": [],
   "source": [
    "#data['DATE'] = pd.to_datetime(data['DATE'])"
   ]
  },
  {
   "cell_type": "markdown",
   "id": "a0765c7e",
   "metadata": {},
   "source": [
    "# Expolaratory Data Analysis"
   ]
  },
  {
   "cell_type": "code",
   "execution_count": 5,
   "id": "379950ab",
   "metadata": {},
   "outputs": [
    {
     "data": {
      "image/png": "[encoded data removed]",
      "text/plain": [
       "<Figure size 432x288 with 1 Axes>"
      ]
     },
     "metadata": {
      "needs_background": "light"
     },
     "output_type": "display_data"
    }
   ],
   "source": [
    "plt.plot(df_Interest['DATE'], df_Interest['Interest_rate'])\n",
    "plt.xticks(rotation=30, ha='right')\n",
    "plt.xlabel(\"Interest Rate\")\n",
    "plt.ylabel(\"Date\")\n",
    "plt.rcParams['figure.figsize']=(12.8,7.2)"
   ]
  },
  {
   "cell_type": "markdown",
   "id": "2240193d",
   "metadata": {},
   "source": [
    "## The time series plot exhibits negative trend component. There is no clear sign of seasonal component in the data. This can be confirmed after analysing ACF plot"
   ]
  },
  {
   "cell_type": "code",
   "execution_count": 6,
   "id": "9d38c66a",
   "metadata": {},
   "outputs": [
    {
     "data": {
      "image/png": "[encoded data removed]",
      "text/plain": [
       "<Figure size 921.6x518.4 with 1 Axes>"
      ]
     },
     "metadata": {
      "needs_background": "light"
     },
     "output_type": "display_data"
    }
   ],
   "source": [
    "from statsmodels.graphics.tsaplots import plot_acf\n",
    "acf_plot = plot_acf(df_Interest['Interest_rate'],lags=50)"
   ]
  },
  {
   "cell_type": "markdown",
   "id": "b8e8e06a",
   "metadata": {},
   "source": [
    "### According to the ACF plot, the autocorrelations are not declining quickly toward zero which indicates a trend component. As this is quarterly data and there are no significant spikes at every 4th lag, there is no seasonal component\n",
    "\n",
    "### Due the pressence of Trend component, we can fit the data with below models\n",
    "    1. Holt's linear Exponential \n",
    "    2. Damped trend Exponential\n",
    "    3. Simple Linear Regression\n",
    "    4. ARIMA"
   ]
  },
  {
   "cell_type": "code",
   "execution_count": 7,
   "id": "322232b1",
   "metadata": {},
   "outputs": [],
   "source": [
    "from sklearn.model_selection import train_test_split\n",
    "from statsmodels.tsa.api import Holt, ExponentialSmoothing\n",
    "from sklearn import metrics"
   ]
  },
  {
   "cell_type": "markdown",
   "id": "d9028ed8",
   "metadata": {},
   "source": [
    "# Split the data in to test and Train"
   ]
  },
  {
   "cell_type": "code",
   "execution_count": 8,
   "id": "f7dd00e0",
   "metadata": {},
   "outputs": [
    {
     "data": {
      "image/png": "[encoded data removed]",
      "text/plain": [
       "<Figure size 921.6x518.4 with 1 Axes>"
      ]
     },
     "metadata": {
      "needs_background": "light"
     },
     "output_type": "display_data"
    }
   ],
   "source": [
    "x1 = df_Interest.loc[:, df_Interest.columns == 'DATE'].to_numpy()\n",
    "y1 = df_Interest.loc[:, df_Interest.columns == 'Interest_rate'].to_numpy()\n",
    "x1_train, x1_test,y1_train, y1_test = train_test_split(x1, y1, test_size=0.20, shuffle=False)\n",
    "x1_train\n",
    "plt.plot(x1_train, y1_train, color = \"black\")\n",
    "plt.plot(x1_test, y1_test, color = \"red\")\n",
    "plt.ylabel('Interest rate')\n",
    "plt.xlabel('Date')\n",
    "plt.xticks(rotation=45)\n",
    "plt.title(\"Train_Test split for Interest rate\")\n",
    "plt.rcParams['figure.figsize']=(12.8,7.2)\n",
    "plt.show()"
   ]
  },
  {
   "cell_type": "markdown",
   "id": "575ebeae",
   "metadata": {},
   "source": [
    "## Holt's linear Exponential model"
   ]
  },
  {
   "cell_type": "code",
   "execution_count": 9,
   "id": "09f89dab",
   "metadata": {},
   "outputs": [],
   "source": [
    "def holt(x1,y1,y1_train,y1_test, period,x1_train,x1_test):\n",
    "    plt1 = plt.plot(x1,y1,color='black')\n",
    "    fit1 = Holt(y1_train).fit()\n",
    "    fcast1 = fit1.forecast(period)\n",
    "    mse1_fit = ((fit1.fittedvalues - y1_train.squeeze()) ** 2).mean()\n",
    "    mse1_acc = ((fcast1 - y1_test.squeeze()) ** 2).mean()\n",
    "    #print('The Root Mean Squared Error of Model fit is {}'.format(round(np.sqrt(mse1_fit), 2)))\n",
    "    #print('The Root Mean Squared Error of Model accuracy is {}'.format(round(np.sqrt(mse1_acc), 2)))\n",
    "    MAPE_fit= metrics.mean_absolute_percentage_error(y1_train, fit1.fittedvalues)\n",
    "    MAPE_acc = metrics.mean_absolute_percentage_error(y1_test, fcast1)\n",
    "    print('The MAPE for Model fit is',MAPE_fit)\n",
    "    print('The MAPE for Model Acc is ',MAPE_acc)\n",
    "    plt2 = plt.plot(x1_train,fit1.fittedvalues, color='blue')\n",
    "    plt3 = plt.plot(x1_test,fcast1,color='red', marker=\"o\")\n",
    "    ax = plt.gca()\n",
    "    print(fit1.summary())\n",
    "    ax.legend([plt1[0],plt2[0],plt3[0]],[\"Actual\",\"Holt's fit\",\"Holt's Predict\"])\n",
    "    plt.xticks(rotation=30, ha='right')\n",
    "    plt.title(\"Holt’s Linear Smoothing\")\n",
    "    plt.show()"
   ]
  },
  {
   "cell_type": "code",
   "execution_count": 10,
   "id": "8063af2b",
   "metadata": {},
   "outputs": [
    {
     "name": "stdout",
     "output_type": "stream",
     "text": [
      "The MAPE for Model fit is 0.058460639033462054\n",
      "The MAPE for Model Acc is  0.436110240042287\n",
      "                              Holt Model Results                              \n",
      "==============================================================================\n",
      "Dep. Variable:                  endog   No. Observations:                  108\n",
      "Model:                           Holt   SSE                             15.338\n",
      "Optimized:                       True   AIC                           -202.797\n",
      "Trend:                       Additive   BIC                           -192.069\n",
      "Seasonal:                        None   AICC                          -201.966\n",
      "Seasonal Periods:                None   Date:                 Mon, 12 Dec 2022\n",
      "Box-Cox:                        False   Time:                         18:03:28\n",
      "Box-Cox Coeff.:                  None                                         \n",
      "==============================================================================\n",
      "                       coeff                 code              optimized      \n",
      "------------------------------------------------------------------------------\n",
      "smoothing_level            1.0000000                alpha                 True\n",
      "smoothing_trend           7.9624e-08                 beta                 True\n",
      "initial_level              9.9275169                  l.0                 True\n",
      "initial_trend             -0.0741054                  b.0                 True\n",
      "------------------------------------------------------------------------------\n"
     ]
    },
    {
     "data": {
      "image/png": "[encoded data removed]",
      "text/plain": [
       "<Figure size 921.6x518.4 with 1 Axes>"
      ]
     },
     "metadata": {
      "needs_background": "light"
     },
     "output_type": "display_data"
    }
   ],
   "source": [
    "holt(x1,y1, y1_train,y1_test,len(x1_test),x1_train,x1_test)"
   ]
  },
  {
   "cell_type": "markdown",
   "id": "92c95fb5",
   "metadata": {},
   "source": [
    "### The level smoothing parameter is \"1.00\" which indicates that a higher weight is assigned to the most recent observations.\n",
    "### The trend smoothing parameter is \"0.00\" indicates that the slope of the time series is hardly changing.\n",
    "### The MAPE for Model Acc is \"0.4361\", which indicate model peformance is good."
   ]
  },
  {
   "cell_type": "markdown",
   "id": "8c17f479",
   "metadata": {},
   "source": [
    "# Damped trend Exponential"
   ]
  },
  {
   "cell_type": "code",
   "execution_count": 20,
   "id": "a9e64c7a",
   "metadata": {},
   "outputs": [],
   "source": [
    "def damped(x1,y1,y1_train,y1_test, period,x1_train,x1_test):\n",
    "    plt1 = plt.plot(x1,y1,color='black')\n",
    "    fit1 = ExponentialSmoothing(y1_train,trend='add',seasonal=None, damped_trend=True).fit()\n",
    "    fcast1 = fit1.forecast(period)\n",
    "    mse1_fit = ((fit1.fittedvalues - y1_train.squeeze()) ** 2).mean()\n",
    "    mse1_acc = ((fcast1 - y1_test.squeeze()) ** 2).mean()\n",
    "    #print('The Root Mean Squared Error of Model fit is {}'.format(round(np.sqrt(mse1_fit), 2)))\n",
    "    #print('The Root Mean Squared Error of Model accuracy is {}'.format(round(np.sqrt(mse1_acc), 2)))\n",
    "    MAPE_fit= metrics.mean_absolute_percentage_error(y1_train, fit1.fittedvalues)\n",
    "    MAPE_acc = metrics.mean_absolute_percentage_error(y1_test, fcast1)\n",
    "    print(\"The MAPE for Model fit is {}\",MAPE_fit)\n",
    "    print(\"The MAPE for Model Acc is {}\",MAPE_acc)\n",
    "    plt2 = plt.plot(x1_train,fit1.fittedvalues, color='blue')\n",
    "    plt3 = plt.plot(x1_test,fcast1,color='red', marker=\"o\")\n",
    "    print(fit1.summary())\n",
    "    ax = plt.gca()\n",
    "    ax.legend([plt1[0],plt2[0],plt3[0]],[\"Actual\",\"Damped fit\",\"Damped Predict\"])\n",
    "    plt.xticks(rotation=30, ha='right')\n",
    "    plt.title(\"Damped Exponential Smoothing\")\n",
    "    plt.show()"
   ]
  },
  {
   "cell_type": "code",
   "execution_count": 21,
   "id": "23d6b4b8",
   "metadata": {},
   "outputs": [
    {
     "name": "stdout",
     "output_type": "stream",
     "text": [
      "The MAPE for Model fit is {} 0.0602042970206957\n",
      "The MAPE for Model Acc is {} 1.1955999276722635\n",
      "                       ExponentialSmoothing Model Results                       \n",
      "================================================================================\n",
      "Dep. Variable:                    endog   No. Observations:                  108\n",
      "Model:             ExponentialSmoothing   SSE                             15.153\n",
      "Optimized:                         True   AIC                           -202.106\n",
      "Trend:                         Additive   BIC                           -188.695\n",
      "Seasonal:                          None   AICC                          -200.986\n",
      "Seasonal Periods:                  None   Date:                 Sun, 11 Dec 2022\n",
      "Box-Cox:                          False   Time:                         18:54:10\n",
      "Box-Cox Coeff.:                    None                                         \n",
      "==============================================================================\n",
      "                       coeff                 code              optimized      \n",
      "------------------------------------------------------------------------------\n",
      "smoothing_level            1.0000000                alpha                 True\n",
      "smoothing_trend            0.2509589                 beta                 True\n",
      "initial_level              9.3940988                  l.0                 True\n",
      "initial_trend              0.4591326                  b.0                 True\n",
      "damping_trend              0.8000000                  phi                 True\n",
      "------------------------------------------------------------------------------\n"
     ]
    },
    {
     "data": {
      "image/png": "[encoded data removed]",
      "text/plain": [
       "<Figure size 921.6x518.4 with 1 Axes>"
      ]
     },
     "metadata": {
      "needs_background": "light"
     },
     "output_type": "display_data"
    }
   ],
   "source": [
    "damped(x1,y1, y1_train,y1_test,len(x1_test),x1_train,x1_test)"
   ]
  },
  {
   "cell_type": "markdown",
   "id": "ac1b0295",
   "metadata": {},
   "source": [
    "### The level smoothing parameter is \"1.00\" which indicates that a higher weight is assigned to the most recent observations.\n",
    "### The trend smoothing parameter is \"0.25\" indicates that the slope of the time series is very less changing.\n",
    "### The damping smoothing parameter is \"0.800\" which indicates that more damping is applied.\n",
    "### The MAPE for Model Acc is \"1.195\", which indicate model peformance is not good, and there are chances of overfitting."
   ]
  },
  {
   "cell_type": "markdown",
   "id": "75fdf11c",
   "metadata": {},
   "source": [
    "# Simple Linear Regression"
   ]
  },
  {
   "cell_type": "code",
   "execution_count": 22,
   "id": "9f2f8c32",
   "metadata": {},
   "outputs": [],
   "source": [
    "# Importing Linear Regression model from scikit learn\n",
    "from sklearn.linear_model import LinearRegression\n",
    "from sklearn import metrics\n",
    "from statsmodels.formula.api import ols\n",
    "import statsmodels.api as sm"
   ]
  },
  {
   "cell_type": "code",
   "execution_count": 23,
   "id": "880c3904",
   "metadata": {},
   "outputs": [],
   "source": [
    "df_Interest['DateIndex'] = np.arange(len(df_Interest.index))"
   ]
  },
  {
   "cell_type": "code",
   "execution_count": 24,
   "id": "2452d8e0",
   "metadata": {},
   "outputs": [],
   "source": [
    "X = df_Interest.loc[:, df_Interest.columns == 'DateIndex']\n",
    "y = df_Interest.loc[:, df_Interest.columns == 'Interest_rate']\n",
    "\n",
    "X = np.array(X).reshape((-1, 1))\n",
    "X_train, X_test,y_train, y_test = train_test_split(X,y, test_size=0.20, shuffle=False)\n",
    "X_test\n",
    "X_test = np.array(X_test).reshape((-1, 1))"
   ]
  },
  {
   "cell_type": "code",
   "execution_count": 25,
   "id": "bfe3c939",
   "metadata": {},
   "outputs": [
    {
     "data": {
      "text/html": [
       "<table class=\"simpletable\">\n",
       "<caption>OLS Regression Results</caption>\n",
       "<tr>\n",
       "  <th>Dep. Variable:</th>      <td>Interest_rate</td>  <th>  R-squared (uncentered):</th>      <td>   0.341</td>\n",
       "</tr>\n",
       "<tr>\n",
       "  <th>Model:</th>                   <td>OLS</td>       <th>  Adj. R-squared (uncentered):</th> <td>   0.335</td>\n",
       "</tr>\n",
       "<tr>\n",
       "  <th>Method:</th>             <td>Least Squares</td>  <th>  F-statistic:       </th>          <td>   55.46</td>\n",
       "</tr>\n",
       "<tr>\n",
       "  <th>Date:</th>             <td>Sun, 11 Dec 2022</td> <th>  Prob (F-statistic):</th>          <td>2.57e-11</td>\n",
       "</tr>\n",
       "<tr>\n",
       "  <th>Time:</th>                 <td>18:55:58</td>     <th>  Log-Likelihood:    </th>          <td> -328.43</td>\n",
       "</tr>\n",
       "<tr>\n",
       "  <th>No. Observations:</th>      <td>   108</td>      <th>  AIC:               </th>          <td>   658.9</td>\n",
       "</tr>\n",
       "<tr>\n",
       "  <th>Df Residuals:</th>          <td>   107</td>      <th>  BIC:               </th>          <td>   661.5</td>\n",
       "</tr>\n",
       "<tr>\n",
       "  <th>Df Model:</th>              <td>     1</td>      <th>                     </th>              <td> </td>   \n",
       "</tr>\n",
       "<tr>\n",
       "  <th>Covariance Type:</th>      <td>nonrobust</td>    <th>                     </th>              <td> </td>   \n",
       "</tr>\n",
       "</table>\n",
       "<table class=\"simpletable\">\n",
       "<tr>\n",
       "   <td></td>     <th>coef</th>     <th>std err</th>      <th>t</th>      <th>P>|t|</th>  <th>[0.025</th>    <th>0.975]</th>  \n",
       "</tr>\n",
       "<tr>\n",
       "  <th>x1</th> <td>    0.0589</td> <td>    0.008</td> <td>    7.447</td> <td> 0.000</td> <td>    0.043</td> <td>    0.075</td>\n",
       "</tr>\n",
       "</table>\n",
       "<table class=\"simpletable\">\n",
       "<tr>\n",
       "  <th>Omnibus:</th>       <td> 9.990</td> <th>  Durbin-Watson:     </th> <td>   0.006</td>\n",
       "</tr>\n",
       "<tr>\n",
       "  <th>Prob(Omnibus):</th> <td> 0.007</td> <th>  Jarque-Bera (JB):  </th> <td>   5.300</td>\n",
       "</tr>\n",
       "<tr>\n",
       "  <th>Skew:</th>          <td> 0.344</td> <th>  Prob(JB):          </th> <td>  0.0706</td>\n",
       "</tr>\n",
       "<tr>\n",
       "  <th>Kurtosis:</th>      <td> 2.160</td> <th>  Cond. No.          </th> <td>    1.00</td>\n",
       "</tr>\n",
       "</table><br/><br/>Notes:<br/>[1] R² is computed without centering (uncentered) since the model does not contain a constant.<br/>[2] Standard Errors assume that the covariance matrix of the errors is correctly specified."
      ],
      "text/plain": [
       "<class 'statsmodels.iolib.summary.Summary'>\n",
       "\"\"\"\n",
       "                                 OLS Regression Results                                \n",
       "=======================================================================================\n",
       "Dep. Variable:          Interest_rate   R-squared (uncentered):                   0.341\n",
       "Model:                            OLS   Adj. R-squared (uncentered):              0.335\n",
       "Method:                 Least Squares   F-statistic:                              55.46\n",
       "Date:                Sun, 11 Dec 2022   Prob (F-statistic):                    2.57e-11\n",
       "Time:                        18:55:58   Log-Likelihood:                         -328.43\n",
       "No. Observations:                 108   AIC:                                      658.9\n",
       "Df Residuals:                     107   BIC:                                      661.5\n",
       "Df Model:                           1                                                  \n",
       "Covariance Type:            nonrobust                                                  \n",
       "==============================================================================\n",
       "                 coef    std err          t      P>|t|      [0.025      0.975]\n",
       "------------------------------------------------------------------------------\n",
       "x1             0.0589      0.008      7.447      0.000       0.043       0.075\n",
       "==============================================================================\n",
       "Omnibus:                        9.990   Durbin-Watson:                   0.006\n",
       "Prob(Omnibus):                  0.007   Jarque-Bera (JB):                5.300\n",
       "Skew:                           0.344   Prob(JB):                       0.0706\n",
       "Kurtosis:                       2.160   Cond. No.                         1.00\n",
       "==============================================================================\n",
       "\n",
       "Notes:\n",
       "[1] R² is computed without centering (uncentered) since the model does not contain a constant.\n",
       "[2] Standard Errors assume that the covariance matrix of the errors is correctly specified.\n",
       "\"\"\""
      ]
     },
     "execution_count": 25,
     "metadata": {},
     "output_type": "execute_result"
    }
   ],
   "source": [
    "# fit the regression model\n",
    "model = sm.OLS(y_train, X_train).fit()\n",
    "model.summary()"
   ]
  },
  {
   "cell_type": "code",
   "execution_count": 26,
   "id": "c7cf4c2b",
   "metadata": {},
   "outputs": [
    {
     "data": {
      "text/plain": [
       "array([6.35803984, 6.41691058, 6.47578132, 6.53465206, 6.5935228 ,\n",
       "       6.65239354, 6.71126428, 6.77013502, 6.82900576, 6.8878765 ,\n",
       "       6.94674724, 7.00561798, 7.06448872, 7.12335945, 7.18223019,\n",
       "       7.24110093, 7.29997167, 7.35884241, 7.41771315, 7.47658389,\n",
       "       7.53545463, 7.59432537, 7.65319611, 7.71206685, 7.77093759,\n",
       "       7.82980833, 7.88867907])"
      ]
     },
     "execution_count": 26,
     "metadata": {},
     "output_type": "execute_result"
    }
   ],
   "source": [
    "y_pred = model.predict(X_test)\n",
    "y_pred"
   ]
  },
  {
   "cell_type": "code",
   "execution_count": 27,
   "id": "530742b6",
   "metadata": {},
   "outputs": [
    {
     "name": "stdout",
     "output_type": "stream",
     "text": [
      "The MAPE for Model fit is 0.7254984002909372\n",
      "The MAPE for Model Acc is 7.709321694779411\n"
     ]
    }
   ],
   "source": [
    "MAPE_train=metrics.mean_absolute_percentage_error(y_train, model.fittedvalues)\n",
    "print(\"The MAPE for Model fit is\",MAPE_train)\n",
    "MAPE_test=metrics.mean_absolute_percentage_error(y_test, y_pred)\n",
    "print(\"The MAPE for Model Acc is\",MAPE_test)"
   ]
  },
  {
   "cell_type": "code",
   "execution_count": 29,
   "id": "46146bd5",
   "metadata": {},
   "outputs": [],
   "source": [
    "y_train = np.array(y_train).reshape((-1, 1))\n",
    "model.fittedvalues = np.array(model.fittedvalues).reshape((-1, 1))"
   ]
  },
  {
   "cell_type": "code",
   "execution_count": 32,
   "id": "a906d325",
   "metadata": {},
   "outputs": [
    {
     "data": {
      "image/png": "[encoded data removed]",
      "text/plain": [
       "<Figure size 921.6x518.4 with 1 Axes>"
      ]
     },
     "metadata": {
      "needs_background": "light"
     },
     "output_type": "display_data"
    }
   ],
   "source": [
    "plt.plot(X_train,model.fittedvalues, color = \"black\")\n",
    "plt.plot(X_train,y_train, color = \"red\")\n",
    "plt.plot(X_test,y_pred, color = \"Orange\")\n",
    "plt.ylabel('Inflation')\n",
    "plt.xlabel('Date')\n",
    "plt.xticks(rotation=45)\n",
    "plt.rcParams['figure.figsize']=(12.8,7.2)\n",
    "plt.show()"
   ]
  },
  {
   "cell_type": "markdown",
   "id": "dc9b2792",
   "metadata": {},
   "source": [
    "# Model Assumptions\n",
    "## 1.\tFirst, we assume that the relationship between the forecast variable and the predictor variable is linear\n",
    "### The relationship between the forecast variable “Interest_rate” and the predictor variable is linear.\n",
    "## 2.Second, we make the following assumptions about the errors:     \n",
    "        * Residuals are normally distributed\n",
    "        * Residuals have constant variance \n",
    "        * Residual terms are independent"
   ]
  },
  {
   "cell_type": "code",
   "execution_count": 37,
   "id": "0b2a82f2",
   "metadata": {},
   "outputs": [
    {
     "data": {
      "image/png": "[encoded data removed]",
      "text/plain": [
       "<Figure size 921.6x518.4 with 1 Axes>"
      ]
     },
     "metadata": {
      "needs_background": "light"
     },
     "output_type": "display_data"
    }
   ],
   "source": [
    "from scipy import stats\n",
    "mu, std = stats.norm.fit(model.resid)\n",
    "mu, std\n",
    "import matplotlib.pyplot as plt\n",
    "import numpy as np\n",
    "import seaborn as sns\n",
    "\n",
    "fig, ax = plt.subplots()\n",
    "# plot the residuals\n",
    "sns.histplot(x=model.resid, ax=ax, stat=\"density\", linewidth=0, kde=True)\n",
    "ax.set(title=\"Distribution of residuals\", xlabel=\"residual\")\n",
    "\n",
    "# plot corresponding normal curve\n",
    "xmin, xmax = plt.xlim() # the maximum x values from the histogram above\n",
    "x = np.linspace(xmin, xmax, 100) # generate some x values\n",
    "p = stats.norm.pdf(x, mu, std) # calculate the y values for the normal curve\n",
    "sns.lineplot(x=x, y=p, color=\"orange\", ax=ax)\n",
    "plt.show()"
   ]
  },
  {
   "cell_type": "markdown",
   "id": "10c3abb4",
   "metadata": {},
   "source": [
    "## According to the histogram, the residuals appear not normally distributed, The assumption is not true"
   ]
  },
  {
   "cell_type": "code",
   "execution_count": 38,
   "id": "22eb2301",
   "metadata": {},
   "outputs": [
    {
     "data": {
      "text/plain": [
       "[Text(0.5, 0, 'Residuals'), Text(0, 0.5, 'Predicted Values')]"
      ]
     },
     "execution_count": 38,
     "metadata": {},
     "output_type": "execute_result"
    },
    {
     "data": {
      "image/png": "[encoded data removed]",
      "text/plain": [
       "<Figure size 921.6x518.4 with 1 Axes>"
      ]
     },
     "metadata": {
      "needs_background": "light"
     },
     "output_type": "display_data"
    }
   ],
   "source": [
    "pred_resid = model.resid.tail(len(y_pred))\n",
    "\n",
    "#Residual Vs Predicted Plot\n",
    "fig, ax = plt.subplots(1,1)\n",
    "\n",
    "sns.regplot(x=pred_resid, y=y_pred, lowess=True, ax=ax, line_kws={'color': 'red'})\n",
    "ax.set_title('Residuals vs Predicted', fontsize=16)\n",
    "ax.set(xlabel='Residuals', ylabel='Predicted Values')"
   ]
  },
  {
   "cell_type": "markdown",
   "id": "611eb41e",
   "metadata": {},
   "source": [
    "## The residual vs. predicted value scatterplot shows a pattern that indicates that the equal variances assumption is not correct."
   ]
  },
  {
   "cell_type": "code",
   "execution_count": 40,
   "id": "a1fb4bac",
   "metadata": {},
   "outputs": [
    {
     "data": {
      "text/plain": [
       "0.00622313380543"
      ]
     },
     "execution_count": 40,
     "metadata": {},
     "output_type": "execute_result"
    }
   ],
   "source": [
    "#perform Durbin-Watson test\n",
    "from statsmodels.stats.stattools import durbin_watson\n",
    "\n",
    "durbin_watson(model.resid)"
   ]
  },
  {
   "cell_type": "markdown",
   "id": "22d493bd",
   "metadata": {},
   "source": [
    "## As the Durbin-Watson statistic ranges from 0-4. The DW statistic close to zero indicate that there is positive serial correlation"
   ]
  },
  {
   "cell_type": "markdown",
   "id": "02068286",
   "metadata": {},
   "source": [
    "# Model Evaluation\n",
    "## 1.\tIs the model logical? \n",
    "### The model is logical because the slope is positive which makes sense. With the increase in time there is increase in Interest_rate\n",
    "## 2.\tIs the slope term statistically significant? \n",
    "### The p-value for the slope term is less than alpha, so independent variable is a significant predictor\n",
    "## 3.\tWhat percent of the variation in the dependent variable is explained by variation in the independent variable \n",
    "### R2 = 34% so 34% of the variation in the dependent variable is explained by the independent variable"
   ]
  },
  {
   "cell_type": "markdown",
   "id": "c4265f4c",
   "metadata": {},
   "source": [
    "## ARIMA "
   ]
  },
  {
   "cell_type": "code",
   "execution_count": 19,
   "id": "a758c2f7",
   "metadata": {},
   "outputs": [],
   "source": [
    "from statsmodels.tsa.stattools import adfuller\n",
    "from statsmodels.graphics.tsaplots import plot_pacf\n",
    "from statsmodels.graphics.tsaplots import plot_acf\n",
    "from statsmodels.tsa.statespace.sarimax import SARIMAX\n",
    "from statsmodels.tsa.arima.model import ARIMA\n",
    "from pmdarima.model_selection import train_test_split"
   ]
  },
  {
   "cell_type": "code",
   "execution_count": 20,
   "id": "257ccdc5",
   "metadata": {
    "scrolled": true
   },
   "outputs": [
    {
     "name": "stdout",
     "output_type": "stream",
     "text": [
      "Requirement already satisfied: pmdarima in c:\\users\\students\\anaconda3\\lib\\site-packages (2.0.2)\n",
      "Requirement already satisfied: Cython!=0.29.18,!=0.29.31,>=0.29 in c:\\users\\students\\anaconda3\\lib\\site-packages (from pmdarima) (0.29.28)\n",
      "Note: you may need to restart the kernel to use updated packages.Requirement already satisfied: statsmodels>=0.13.2 in c:\\users\\students\\anaconda3\\lib\\site-packages (from pmdarima) (0.13.2)\n",
      "Requirement already satisfied: scikit-learn>=0.22 in c:\\users\\students\\anaconda3\\lib\\site-packages (from pmdarima) (1.0.2)\n",
      "Requirement already satisfied: setuptools!=50.0.0,>=38.6.0 in c:\\users\\students\\anaconda3\\lib\\site-packages (from pmdarima) (61.2.0)\n",
      "\n",
      "Requirement already satisfied: pandas>=0.19 in c:\\users\\students\\anaconda3\\lib\\site-packages (from pmdarima) (1.4.2)\n",
      "Requirement already satisfied: scipy>=1.3.2 in c:\\users\\students\\anaconda3\\lib\\site-packages (from pmdarima) (1.7.3)\n",
      "Requirement already satisfied: numpy>=1.21.2 in c:\\users\\students\\anaconda3\\lib\\site-packages (from pmdarima) (1.21.5)\n",
      "Requirement already satisfied: urllib3 in c:\\users\\students\\anaconda3\\lib\\site-packages (from pmdarima) (1.26.9)\n",
      "Requirement already satisfied: joblib>=0.11 in c:\\users\\students\\anaconda3\\lib\\site-packages (from pmdarima) (1.1.0)\n",
      "Requirement already satisfied: pytz>=2020.1 in c:\\users\\students\\anaconda3\\lib\\site-packages (from pandas>=0.19->pmdarima) (2021.3)\n",
      "Requirement already satisfied: python-dateutil>=2.8.1 in c:\\users\\students\\anaconda3\\lib\\site-packages (from pandas>=0.19->pmdarima) (2.8.2)\n",
      "Requirement already satisfied: six>=1.5 in c:\\users\\students\\anaconda3\\lib\\site-packages (from python-dateutil>=2.8.1->pandas>=0.19->pmdarima) (1.16.0)\n",
      "Requirement already satisfied: threadpoolctl>=2.0.0 in c:\\users\\students\\anaconda3\\lib\\site-packages (from scikit-learn>=0.22->pmdarima) (2.2.0)\n",
      "Requirement already satisfied: patsy>=0.5.2 in c:\\users\\students\\anaconda3\\lib\\site-packages (from statsmodels>=0.13.2->pmdarima) (0.5.2)\n",
      "Requirement already satisfied: packaging>=21.3 in c:\\users\\students\\anaconda3\\lib\\site-packages (from statsmodels>=0.13.2->pmdarima) (21.3)\n",
      "Requirement already satisfied: pyparsing!=3.0.5,>=2.0.2 in c:\\users\\students\\anaconda3\\lib\\site-packages (from packaging>=21.3->statsmodels>=0.13.2->pmdarima) (3.0.4)\n"
     ]
    }
   ],
   "source": [
    "pip install pmdarima"
   ]
  },
  {
   "cell_type": "code",
   "execution_count": 21,
   "id": "72e015aa",
   "metadata": {},
   "outputs": [
    {
     "data": {
      "text/html": [
       "<div>\n",
       "<style scoped>\n",
       "    .dataframe tbody tr th:only-of-type {\n",
       "        vertical-align: middle;\n",
       "    }\n",
       "\n",
       "    .dataframe tbody tr th {\n",
       "        vertical-align: top;\n",
       "    }\n",
       "\n",
       "    .dataframe thead th {\n",
       "        text-align: right;\n",
       "    }\n",
       "</style>\n",
       "<table border=\"1\" class=\"dataframe\">\n",
       "  <thead>\n",
       "    <tr style=\"text-align: right;\">\n",
       "      <th></th>\n",
       "      <th>DATE</th>\n",
       "      <th>Interest_rate</th>\n",
       "    </tr>\n",
       "  </thead>\n",
       "  <tbody>\n",
       "    <tr>\n",
       "      <th>0</th>\n",
       "      <td>1989-03-31</td>\n",
       "      <td>9.853333</td>\n",
       "    </tr>\n",
       "    <tr>\n",
       "      <th>1</th>\n",
       "      <td>1989-06-30</td>\n",
       "      <td>10.300000</td>\n",
       "    </tr>\n",
       "    <tr>\n",
       "      <th>2</th>\n",
       "      <td>1989-09-30</td>\n",
       "      <td>10.090000</td>\n",
       "    </tr>\n",
       "    <tr>\n",
       "      <th>3</th>\n",
       "      <td>1989-12-31</td>\n",
       "      <td>10.520000</td>\n",
       "    </tr>\n",
       "    <tr>\n",
       "      <th>4</th>\n",
       "      <td>1990-03-31</td>\n",
       "      <td>11.546667</td>\n",
       "    </tr>\n",
       "  </tbody>\n",
       "</table>\n",
       "</div>"
      ],
      "text/plain": [
       "        DATE  Interest_rate\n",
       "0 1989-03-31       9.853333\n",
       "1 1989-06-30      10.300000\n",
       "2 1989-09-30      10.090000\n",
       "3 1989-12-31      10.520000\n",
       "4 1990-03-31      11.546667"
      ]
     },
     "execution_count": 21,
     "metadata": {},
     "output_type": "execute_result"
    }
   ],
   "source": [
    "df_Interest.head()"
   ]
  },
  {
   "cell_type": "markdown",
   "id": "4dac36ec",
   "metadata": {},
   "source": [
    "### Check if the data is stationary using Dickey-Fuller test "
   ]
  },
  {
   "cell_type": "code",
   "execution_count": 22,
   "id": "b806dadf",
   "metadata": {},
   "outputs": [
    {
     "name": "stdout",
     "output_type": "stream",
     "text": [
      "ADF Statistic: -1.5732277523309464\n",
      "p-value: 0.4970266067564945\n"
     ]
    }
   ],
   "source": [
    "ad_fuller_result = adfuller(df_Interest['Interest_rate'])\n",
    "print(f'ADF Statistic: {ad_fuller_result[0]}')\n",
    "print(f'p-value: {ad_fuller_result[1]}')"
   ]
  },
  {
   "cell_type": "markdown",
   "id": "f9677da5",
   "metadata": {},
   "source": [
    "### The p value is higher than alpha so we cannot reject null hypothesis and must assume the data is not stationary"
   ]
  },
  {
   "cell_type": "markdown",
   "id": "28cea57a",
   "metadata": {},
   "source": [
    "### Differencing can be done to make the data stationary "
   ]
  },
  {
   "cell_type": "code",
   "execution_count": 23,
   "id": "6ff4da37",
   "metadata": {},
   "outputs": [],
   "source": [
    "df_Interest['Interest_rate_diff'] = df_Interest['Interest_rate'] - df_Interest['Interest_rate'].shift(1)"
   ]
  },
  {
   "cell_type": "code",
   "execution_count": 24,
   "id": "d03b6dda",
   "metadata": {},
   "outputs": [
    {
     "data": {
      "text/plain": [
       "0         NaN\n",
       "1    0.446667\n",
       "2   -0.210000\n",
       "3    0.430000\n",
       "4    1.026667\n",
       "Name: Interest_rate_diff, dtype: float64"
      ]
     },
     "execution_count": 24,
     "metadata": {},
     "output_type": "execute_result"
    }
   ],
   "source": [
    "df_Interest['Interest_rate_diff'].head()"
   ]
  },
  {
   "cell_type": "code",
   "execution_count": 25,
   "id": "460868f0",
   "metadata": {},
   "outputs": [
    {
     "data": {
      "text/html": [
       "<div>\n",
       "<style scoped>\n",
       "    .dataframe tbody tr th:only-of-type {\n",
       "        vertical-align: middle;\n",
       "    }\n",
       "\n",
       "    .dataframe tbody tr th {\n",
       "        vertical-align: top;\n",
       "    }\n",
       "\n",
       "    .dataframe thead th {\n",
       "        text-align: right;\n",
       "    }\n",
       "</style>\n",
       "<table border=\"1\" class=\"dataframe\">\n",
       "  <thead>\n",
       "    <tr style=\"text-align: right;\">\n",
       "      <th></th>\n",
       "      <th>DATE</th>\n",
       "      <th>Interest_rate</th>\n",
       "      <th>Interest_rate_diff</th>\n",
       "    </tr>\n",
       "  </thead>\n",
       "  <tbody>\n",
       "    <tr>\n",
       "      <th>1</th>\n",
       "      <td>1989-06-30</td>\n",
       "      <td>10.300000</td>\n",
       "      <td>0.446667</td>\n",
       "    </tr>\n",
       "    <tr>\n",
       "      <th>2</th>\n",
       "      <td>1989-09-30</td>\n",
       "      <td>10.090000</td>\n",
       "      <td>-0.210000</td>\n",
       "    </tr>\n",
       "    <tr>\n",
       "      <th>3</th>\n",
       "      <td>1989-12-31</td>\n",
       "      <td>10.520000</td>\n",
       "      <td>0.430000</td>\n",
       "    </tr>\n",
       "    <tr>\n",
       "      <th>4</th>\n",
       "      <td>1990-03-31</td>\n",
       "      <td>11.546667</td>\n",
       "      <td>1.026667</td>\n",
       "    </tr>\n",
       "    <tr>\n",
       "      <th>5</th>\n",
       "      <td>1990-06-30</td>\n",
       "      <td>12.316667</td>\n",
       "      <td>0.770000</td>\n",
       "    </tr>\n",
       "    <tr>\n",
       "      <th>...</th>\n",
       "      <td>...</td>\n",
       "      <td>...</td>\n",
       "      <td>...</td>\n",
       "    </tr>\n",
       "    <tr>\n",
       "      <th>130</th>\n",
       "      <td>2021-09-30</td>\n",
       "      <td>0.714733</td>\n",
       "      <td>-0.156000</td>\n",
       "    </tr>\n",
       "    <tr>\n",
       "      <th>131</th>\n",
       "      <td>2021-12-31</td>\n",
       "      <td>0.953300</td>\n",
       "      <td>0.238567</td>\n",
       "    </tr>\n",
       "    <tr>\n",
       "      <th>132</th>\n",
       "      <td>2022-03-31</td>\n",
       "      <td>1.413300</td>\n",
       "      <td>0.460000</td>\n",
       "    </tr>\n",
       "    <tr>\n",
       "      <th>133</th>\n",
       "      <td>2022-06-30</td>\n",
       "      <td>2.041833</td>\n",
       "      <td>0.628533</td>\n",
       "    </tr>\n",
       "    <tr>\n",
       "      <th>134</th>\n",
       "      <td>2022-09-30</td>\n",
       "      <td>2.236600</td>\n",
       "      <td>0.194767</td>\n",
       "    </tr>\n",
       "  </tbody>\n",
       "</table>\n",
       "<p>134 rows × 3 columns</p>\n",
       "</div>"
      ],
      "text/plain": [
       "          DATE  Interest_rate  Interest_rate_diff\n",
       "1   1989-06-30      10.300000            0.446667\n",
       "2   1989-09-30      10.090000           -0.210000\n",
       "3   1989-12-31      10.520000            0.430000\n",
       "4   1990-03-31      11.546667            1.026667\n",
       "5   1990-06-30      12.316667            0.770000\n",
       "..         ...            ...                 ...\n",
       "130 2021-09-30       0.714733           -0.156000\n",
       "131 2021-12-31       0.953300            0.238567\n",
       "132 2022-03-31       1.413300            0.460000\n",
       "133 2022-06-30       2.041833            0.628533\n",
       "134 2022-09-30       2.236600            0.194767\n",
       "\n",
       "[134 rows x 3 columns]"
      ]
     },
     "execution_count": 25,
     "metadata": {},
     "output_type": "execute_result"
    }
   ],
   "source": [
    "df_Interest = df_Interest.dropna()\n",
    "df_Interest"
   ]
  },
  {
   "cell_type": "markdown",
   "id": "b45280bc",
   "metadata": {},
   "source": [
    "### Check again if the differenced data is stationary "
   ]
  },
  {
   "cell_type": "code",
   "execution_count": 26,
   "id": "4a6041d9",
   "metadata": {},
   "outputs": [
    {
     "name": "stdout",
     "output_type": "stream",
     "text": [
      "ADF Statistic: -7.847594506264816\n",
      "p-value: 5.713887944705784e-12\n"
     ]
    }
   ],
   "source": [
    "ad_fuller_result = adfuller(df_Interest['Interest_rate_diff'])\n",
    "print(f'ADF Statistic: {ad_fuller_result[0]}')\n",
    "print(f'p-value: {ad_fuller_result[1]}')"
   ]
  },
  {
   "cell_type": "markdown",
   "id": "dab4d7e0",
   "metadata": {},
   "source": [
    "### The p value is lower than alpha so we can assume that the data is stationary "
   ]
  },
  {
   "cell_type": "code",
   "execution_count": 27,
   "id": "4d105fff",
   "metadata": {},
   "outputs": [
    {
     "data": {
      "text/plain": [
       "<AxesSubplot:>"
      ]
     },
     "execution_count": 27,
     "metadata": {},
     "output_type": "execute_result"
    },
    {
     "data": {
      "image/png": "[encoded data removed]",
      "text/plain": [
       "<Figure size 921.6x518.4 with 1 Axes>"
      ]
     },
     "metadata": {
      "needs_background": "light"
     },
     "output_type": "display_data"
    }
   ],
   "source": [
    "#viewing the stationary data \n",
    "df_Interest['Interest_rate_diff'].plot()"
   ]
  },
  {
   "cell_type": "markdown",
   "id": "6f01c2a8",
   "metadata": {},
   "source": [
    "### Plotting ACF and PACF of differenced data to find which ARIMA model to choose "
   ]
  },
  {
   "cell_type": "code",
   "execution_count": 28,
   "id": "d65f8f7c",
   "metadata": {},
   "outputs": [
    {
     "name": "stderr",
     "output_type": "stream",
     "text": [
      "C:\\Users\\Students\\anaconda3\\lib\\site-packages\\statsmodels\\graphics\\tsaplots.py:348: FutureWarning: The default method 'yw' can produce PACF values outside of the [-1,1] interval. After 0.13, the default will change tounadjusted Yule-Walker ('ywm'). You can use this method now by setting method='ywm'.\n",
      "  warnings.warn(\n"
     ]
    },
    {
     "data": {
      "image/png": "[encoded data removed]",
      "text/plain": [
       "<Figure size 921.6x518.4 with 1 Axes>"
      ]
     },
     "execution_count": 28,
     "metadata": {},
     "output_type": "execute_result"
    },
    {
     "data": {
      "image/png": "[encoded data removed]",
      "text/plain": [
       "<Figure size 921.6x518.4 with 1 Axes>"
      ]
     },
     "metadata": {
      "needs_background": "light"
     },
     "output_type": "display_data"
    },
    {
     "data": {
      "image/png": "[encoded data removed]",
      "text/plain": [
       "<Figure size 921.6x518.4 with 1 Axes>"
      ]
     },
     "metadata": {
      "needs_background": "light"
     },
     "output_type": "display_data"
    }
   ],
   "source": [
    "plot_acf(df_Interest['Interest_rate_diff'],lags=50)\n",
    "plot_pacf(df_Interest['Interest_rate_diff'],lags=50)"
   ]
  },
  {
   "cell_type": "markdown",
   "id": "2d7b21f4",
   "metadata": {},
   "source": [
    "### The arima model can be split up into AR(p), I(d) and MA(q). In the PACF graph, we can see two significant lags within the first 5 lags, making the AR equal to 2. In the ACF graph, we also see one significant lag, making the MA equal to 1. The I or differencing term in the arima model is equal to 1 since we did one level of differencing to make the data stationary. This makes our model ARIMA(2,1,1). Next, we build the model based on these specifications."
   ]
  },
  {
   "cell_type": "code",
   "execution_count": 29,
   "id": "fa4a4eaa",
   "metadata": {},
   "outputs": [],
   "source": [
    "train = df_Interest.loc[:106]\n",
    "test = df_Interest.loc[107:]"
   ]
  },
  {
   "cell_type": "code",
   "execution_count": 30,
   "id": "65cb0755",
   "metadata": {},
   "outputs": [
    {
     "data": {
      "text/html": [
       "<div>\n",
       "<style scoped>\n",
       "    .dataframe tbody tr th:only-of-type {\n",
       "        vertical-align: middle;\n",
       "    }\n",
       "\n",
       "    .dataframe tbody tr th {\n",
       "        vertical-align: top;\n",
       "    }\n",
       "\n",
       "    .dataframe thead th {\n",
       "        text-align: right;\n",
       "    }\n",
       "</style>\n",
       "<table border=\"1\" class=\"dataframe\">\n",
       "  <thead>\n",
       "    <tr style=\"text-align: right;\">\n",
       "      <th></th>\n",
       "      <th>DATE</th>\n",
       "      <th>Interest_rate</th>\n",
       "      <th>Interest_rate_diff</th>\n",
       "    </tr>\n",
       "  </thead>\n",
       "  <tbody>\n",
       "    <tr>\n",
       "      <th>1</th>\n",
       "      <td>1989-06-30</td>\n",
       "      <td>10.300000</td>\n",
       "      <td>0.446667</td>\n",
       "    </tr>\n",
       "    <tr>\n",
       "      <th>2</th>\n",
       "      <td>1989-09-30</td>\n",
       "      <td>10.090000</td>\n",
       "      <td>-0.210000</td>\n",
       "    </tr>\n",
       "    <tr>\n",
       "      <th>3</th>\n",
       "      <td>1989-12-31</td>\n",
       "      <td>10.520000</td>\n",
       "      <td>0.430000</td>\n",
       "    </tr>\n",
       "    <tr>\n",
       "      <th>4</th>\n",
       "      <td>1990-03-31</td>\n",
       "      <td>11.546667</td>\n",
       "      <td>1.026667</td>\n",
       "    </tr>\n",
       "    <tr>\n",
       "      <th>5</th>\n",
       "      <td>1990-06-30</td>\n",
       "      <td>12.316667</td>\n",
       "      <td>0.770000</td>\n",
       "    </tr>\n",
       "    <tr>\n",
       "      <th>...</th>\n",
       "      <td>...</td>\n",
       "      <td>...</td>\n",
       "      <td>...</td>\n",
       "    </tr>\n",
       "    <tr>\n",
       "      <th>102</th>\n",
       "      <td>2014-09-30</td>\n",
       "      <td>2.586967</td>\n",
       "      <td>-0.154633</td>\n",
       "    </tr>\n",
       "    <tr>\n",
       "      <th>103</th>\n",
       "      <td>2014-12-31</td>\n",
       "      <td>2.111633</td>\n",
       "      <td>-0.475333</td>\n",
       "    </tr>\n",
       "    <tr>\n",
       "      <th>104</th>\n",
       "      <td>2015-03-31</td>\n",
       "      <td>1.706533</td>\n",
       "      <td>-0.405100</td>\n",
       "    </tr>\n",
       "    <tr>\n",
       "      <th>105</th>\n",
       "      <td>2015-06-30</td>\n",
       "      <td>1.982967</td>\n",
       "      <td>0.276433</td>\n",
       "    </tr>\n",
       "    <tr>\n",
       "      <th>106</th>\n",
       "      <td>2015-09-30</td>\n",
       "      <td>1.998867</td>\n",
       "      <td>0.015900</td>\n",
       "    </tr>\n",
       "  </tbody>\n",
       "</table>\n",
       "<p>106 rows × 3 columns</p>\n",
       "</div>"
      ],
      "text/plain": [
       "          DATE  Interest_rate  Interest_rate_diff\n",
       "1   1989-06-30      10.300000            0.446667\n",
       "2   1989-09-30      10.090000           -0.210000\n",
       "3   1989-12-31      10.520000            0.430000\n",
       "4   1990-03-31      11.546667            1.026667\n",
       "5   1990-06-30      12.316667            0.770000\n",
       "..         ...            ...                 ...\n",
       "102 2014-09-30       2.586967           -0.154633\n",
       "103 2014-12-31       2.111633           -0.475333\n",
       "104 2015-03-31       1.706533           -0.405100\n",
       "105 2015-06-30       1.982967            0.276433\n",
       "106 2015-09-30       1.998867            0.015900\n",
       "\n",
       "[106 rows x 3 columns]"
      ]
     },
     "execution_count": 30,
     "metadata": {},
     "output_type": "execute_result"
    }
   ],
   "source": [
    "train"
   ]
  },
  {
   "cell_type": "code",
   "execution_count": 31,
   "id": "04fffb2e",
   "metadata": {},
   "outputs": [
    {
     "data": {
      "text/html": [
       "<div>\n",
       "<style scoped>\n",
       "    .dataframe tbody tr th:only-of-type {\n",
       "        vertical-align: middle;\n",
       "    }\n",
       "\n",
       "    .dataframe tbody tr th {\n",
       "        vertical-align: top;\n",
       "    }\n",
       "\n",
       "    .dataframe thead th {\n",
       "        text-align: right;\n",
       "    }\n",
       "</style>\n",
       "<table border=\"1\" class=\"dataframe\">\n",
       "  <thead>\n",
       "    <tr style=\"text-align: right;\">\n",
       "      <th></th>\n",
       "      <th>DATE</th>\n",
       "      <th>Interest_rate</th>\n",
       "      <th>Interest_rate_diff</th>\n",
       "    </tr>\n",
       "  </thead>\n",
       "  <tbody>\n",
       "    <tr>\n",
       "      <th>107</th>\n",
       "      <td>2015-12-31</td>\n",
       "      <td>1.915767</td>\n",
       "      <td>-0.083100</td>\n",
       "    </tr>\n",
       "    <tr>\n",
       "      <th>108</th>\n",
       "      <td>2016-03-31</td>\n",
       "      <td>1.609967</td>\n",
       "      <td>-0.305800</td>\n",
       "    </tr>\n",
       "    <tr>\n",
       "      <th>109</th>\n",
       "      <td>2016-06-30</td>\n",
       "      <td>1.471967</td>\n",
       "      <td>-0.138000</td>\n",
       "    </tr>\n",
       "    <tr>\n",
       "      <th>110</th>\n",
       "      <td>2016-09-30</td>\n",
       "      <td>0.841100</td>\n",
       "      <td>-0.630867</td>\n",
       "    </tr>\n",
       "    <tr>\n",
       "      <th>111</th>\n",
       "      <td>2016-12-31</td>\n",
       "      <td>1.297800</td>\n",
       "      <td>0.456700</td>\n",
       "    </tr>\n",
       "    <tr>\n",
       "      <th>112</th>\n",
       "      <td>2017-03-31</td>\n",
       "      <td>1.306700</td>\n",
       "      <td>0.008900</td>\n",
       "    </tr>\n",
       "    <tr>\n",
       "      <th>113</th>\n",
       "      <td>2017-06-30</td>\n",
       "      <td>1.093667</td>\n",
       "      <td>-0.213033</td>\n",
       "    </tr>\n",
       "    <tr>\n",
       "      <th>114</th>\n",
       "      <td>2017-09-30</td>\n",
       "      <td>1.213000</td>\n",
       "      <td>0.119333</td>\n",
       "    </tr>\n",
       "    <tr>\n",
       "      <th>115</th>\n",
       "      <td>2017-12-31</td>\n",
       "      <td>1.329867</td>\n",
       "      <td>0.116867</td>\n",
       "    </tr>\n",
       "    <tr>\n",
       "      <th>116</th>\n",
       "      <td>2018-03-31</td>\n",
       "      <td>1.501500</td>\n",
       "      <td>0.171633</td>\n",
       "    </tr>\n",
       "    <tr>\n",
       "      <th>117</th>\n",
       "      <td>2018-06-30</td>\n",
       "      <td>1.478433</td>\n",
       "      <td>-0.023067</td>\n",
       "    </tr>\n",
       "    <tr>\n",
       "      <th>118</th>\n",
       "      <td>2018-09-30</td>\n",
       "      <td>1.425100</td>\n",
       "      <td>-0.053333</td>\n",
       "    </tr>\n",
       "    <tr>\n",
       "      <th>119</th>\n",
       "      <td>2018-12-31</td>\n",
       "      <td>1.437600</td>\n",
       "      <td>0.012500</td>\n",
       "    </tr>\n",
       "    <tr>\n",
       "      <th>120</th>\n",
       "      <td>2019-03-31</td>\n",
       "      <td>1.250367</td>\n",
       "      <td>-0.187233</td>\n",
       "    </tr>\n",
       "    <tr>\n",
       "      <th>121</th>\n",
       "      <td>2019-06-30</td>\n",
       "      <td>1.079867</td>\n",
       "      <td>-0.170500</td>\n",
       "    </tr>\n",
       "    <tr>\n",
       "      <th>122</th>\n",
       "      <td>2019-09-30</td>\n",
       "      <td>0.668700</td>\n",
       "      <td>-0.411167</td>\n",
       "    </tr>\n",
       "    <tr>\n",
       "      <th>123</th>\n",
       "      <td>2019-12-31</td>\n",
       "      <td>0.744367</td>\n",
       "      <td>0.075667</td>\n",
       "    </tr>\n",
       "    <tr>\n",
       "      <th>124</th>\n",
       "      <td>2020-03-31</td>\n",
       "      <td>0.605800</td>\n",
       "      <td>-0.138567</td>\n",
       "    </tr>\n",
       "    <tr>\n",
       "      <th>125</th>\n",
       "      <td>2020-06-30</td>\n",
       "      <td>0.303333</td>\n",
       "      <td>-0.302467</td>\n",
       "    </tr>\n",
       "    <tr>\n",
       "      <th>126</th>\n",
       "      <td>2020-09-30</td>\n",
       "      <td>0.251367</td>\n",
       "      <td>-0.051967</td>\n",
       "    </tr>\n",
       "    <tr>\n",
       "      <th>127</th>\n",
       "      <td>2020-12-31</td>\n",
       "      <td>0.337267</td>\n",
       "      <td>0.085900</td>\n",
       "    </tr>\n",
       "    <tr>\n",
       "      <th>128</th>\n",
       "      <td>2021-03-31</td>\n",
       "      <td>0.611667</td>\n",
       "      <td>0.274400</td>\n",
       "    </tr>\n",
       "    <tr>\n",
       "      <th>129</th>\n",
       "      <td>2021-06-30</td>\n",
       "      <td>0.870733</td>\n",
       "      <td>0.259067</td>\n",
       "    </tr>\n",
       "    <tr>\n",
       "      <th>130</th>\n",
       "      <td>2021-09-30</td>\n",
       "      <td>0.714733</td>\n",
       "      <td>-0.156000</td>\n",
       "    </tr>\n",
       "    <tr>\n",
       "      <th>131</th>\n",
       "      <td>2021-12-31</td>\n",
       "      <td>0.953300</td>\n",
       "      <td>0.238567</td>\n",
       "    </tr>\n",
       "    <tr>\n",
       "      <th>132</th>\n",
       "      <td>2022-03-31</td>\n",
       "      <td>1.413300</td>\n",
       "      <td>0.460000</td>\n",
       "    </tr>\n",
       "    <tr>\n",
       "      <th>133</th>\n",
       "      <td>2022-06-30</td>\n",
       "      <td>2.041833</td>\n",
       "      <td>0.628533</td>\n",
       "    </tr>\n",
       "    <tr>\n",
       "      <th>134</th>\n",
       "      <td>2022-09-30</td>\n",
       "      <td>2.236600</td>\n",
       "      <td>0.194767</td>\n",
       "    </tr>\n",
       "  </tbody>\n",
       "</table>\n",
       "</div>"
      ],
      "text/plain": [
       "          DATE  Interest_rate  Interest_rate_diff\n",
       "107 2015-12-31       1.915767           -0.083100\n",
       "108 2016-03-31       1.609967           -0.305800\n",
       "109 2016-06-30       1.471967           -0.138000\n",
       "110 2016-09-30       0.841100           -0.630867\n",
       "111 2016-12-31       1.297800            0.456700\n",
       "112 2017-03-31       1.306700            0.008900\n",
       "113 2017-06-30       1.093667           -0.213033\n",
       "114 2017-09-30       1.213000            0.119333\n",
       "115 2017-12-31       1.329867            0.116867\n",
       "116 2018-03-31       1.501500            0.171633\n",
       "117 2018-06-30       1.478433           -0.023067\n",
       "118 2018-09-30       1.425100           -0.053333\n",
       "119 2018-12-31       1.437600            0.012500\n",
       "120 2019-03-31       1.250367           -0.187233\n",
       "121 2019-06-30       1.079867           -0.170500\n",
       "122 2019-09-30       0.668700           -0.411167\n",
       "123 2019-12-31       0.744367            0.075667\n",
       "124 2020-03-31       0.605800           -0.138567\n",
       "125 2020-06-30       0.303333           -0.302467\n",
       "126 2020-09-30       0.251367           -0.051967\n",
       "127 2020-12-31       0.337267            0.085900\n",
       "128 2021-03-31       0.611667            0.274400\n",
       "129 2021-06-30       0.870733            0.259067\n",
       "130 2021-09-30       0.714733           -0.156000\n",
       "131 2021-12-31       0.953300            0.238567\n",
       "132 2022-03-31       1.413300            0.460000\n",
       "133 2022-06-30       2.041833            0.628533\n",
       "134 2022-09-30       2.236600            0.194767"
      ]
     },
     "execution_count": 31,
     "metadata": {},
     "output_type": "execute_result"
    }
   ],
   "source": [
    "test"
   ]
  },
  {
   "cell_type": "code",
   "execution_count": 32,
   "id": "e669e94a",
   "metadata": {},
   "outputs": [
    {
     "name": "stderr",
     "output_type": "stream",
     "text": [
      "C:\\Users\\Students\\anaconda3\\lib\\site-packages\\statsmodels\\tsa\\base\\tsa_model.py:471: ValueWarning: An unsupported index was provided and will be ignored when e.g. forecasting.\n",
      "  self._init_dates(dates, freq)\n",
      "C:\\Users\\Students\\anaconda3\\lib\\site-packages\\statsmodels\\tsa\\base\\tsa_model.py:471: ValueWarning: An unsupported index was provided and will be ignored when e.g. forecasting.\n",
      "  self._init_dates(dates, freq)\n",
      "C:\\Users\\Students\\anaconda3\\lib\\site-packages\\statsmodels\\tsa\\base\\tsa_model.py:471: ValueWarning: An unsupported index was provided and will be ignored when e.g. forecasting.\n",
      "  self._init_dates(dates, freq)\n"
     ]
    }
   ],
   "source": [
    "model = ARIMA(train['Interest_rate'], order = (2, 1, 1))\n",
    "results = model.fit()"
   ]
  },
  {
   "cell_type": "code",
   "execution_count": 33,
   "id": "8a2705d5",
   "metadata": {},
   "outputs": [
    {
     "name": "stderr",
     "output_type": "stream",
     "text": [
      "C:\\Users\\Students\\anaconda3\\lib\\site-packages\\statsmodels\\tsa\\base\\tsa_model.py:834: ValueWarning: No supported index is available. Prediction results will be given with an integer index beginning at `start`.\n",
      "  return get_prediction_index(\n",
      "C:\\Users\\Students\\AppData\\Local\\Temp\\ipykernel_12672\\2371923517.py:3: SettingWithCopyWarning: \n",
      "A value is trying to be set on a copy of a slice from a DataFrame.\n",
      "Try using .loc[row_indexer,col_indexer] = value instead\n",
      "\n",
      "See the caveats in the documentation: https://pandas.pydata.org/pandas-docs/stable/user_guide/indexing.html#returning-a-view-versus-a-copy\n",
      "  test[\"predicted_values\"] = prediction\n"
     ]
    }
   ],
   "source": [
    "prediction = results.predict(start=106, end=133, dynamic=False)\n",
    "prediction.columns = [\"predicted_values\"]\n",
    "test[\"predicted_values\"] = prediction"
   ]
  },
  {
   "cell_type": "code",
   "execution_count": 34,
   "id": "0f02895a",
   "metadata": {},
   "outputs": [
    {
     "data": {
      "text/html": [
       "<div>\n",
       "<style scoped>\n",
       "    .dataframe tbody tr th:only-of-type {\n",
       "        vertical-align: middle;\n",
       "    }\n",
       "\n",
       "    .dataframe tbody tr th {\n",
       "        vertical-align: top;\n",
       "    }\n",
       "\n",
       "    .dataframe thead th {\n",
       "        text-align: right;\n",
       "    }\n",
       "</style>\n",
       "<table border=\"1\" class=\"dataframe\">\n",
       "  <thead>\n",
       "    <tr style=\"text-align: right;\">\n",
       "      <th></th>\n",
       "      <th>DATE</th>\n",
       "      <th>Interest_rate</th>\n",
       "      <th>Interest_rate_diff</th>\n",
       "      <th>predicted_values</th>\n",
       "    </tr>\n",
       "  </thead>\n",
       "  <tbody>\n",
       "    <tr>\n",
       "      <th>107</th>\n",
       "      <td>2015-12-31</td>\n",
       "      <td>1.915767</td>\n",
       "      <td>-0.083100</td>\n",
       "      <td>1.896438</td>\n",
       "    </tr>\n",
       "    <tr>\n",
       "      <th>108</th>\n",
       "      <td>2016-03-31</td>\n",
       "      <td>1.609967</td>\n",
       "      <td>-0.305800</td>\n",
       "      <td>1.900697</td>\n",
       "    </tr>\n",
       "    <tr>\n",
       "      <th>109</th>\n",
       "      <td>2016-06-30</td>\n",
       "      <td>1.471967</td>\n",
       "      <td>-0.138000</td>\n",
       "      <td>1.907689</td>\n",
       "    </tr>\n",
       "    <tr>\n",
       "      <th>110</th>\n",
       "      <td>2016-09-30</td>\n",
       "      <td>0.841100</td>\n",
       "      <td>-0.630867</td>\n",
       "      <td>1.909295</td>\n",
       "    </tr>\n",
       "    <tr>\n",
       "      <th>111</th>\n",
       "      <td>2016-12-31</td>\n",
       "      <td>1.297800</td>\n",
       "      <td>0.456700</td>\n",
       "      <td>1.908506</td>\n",
       "    </tr>\n",
       "    <tr>\n",
       "      <th>112</th>\n",
       "      <td>2017-03-31</td>\n",
       "      <td>1.306700</td>\n",
       "      <td>0.008900</td>\n",
       "      <td>1.907924</td>\n",
       "    </tr>\n",
       "    <tr>\n",
       "      <th>113</th>\n",
       "      <td>2017-06-30</td>\n",
       "      <td>1.093667</td>\n",
       "      <td>-0.213033</td>\n",
       "      <td>1.907873</td>\n",
       "    </tr>\n",
       "    <tr>\n",
       "      <th>114</th>\n",
       "      <td>2017-09-30</td>\n",
       "      <td>1.213000</td>\n",
       "      <td>0.119333</td>\n",
       "      <td>1.907968</td>\n",
       "    </tr>\n",
       "    <tr>\n",
       "      <th>115</th>\n",
       "      <td>2017-12-31</td>\n",
       "      <td>1.329867</td>\n",
       "      <td>0.116867</td>\n",
       "      <td>1.908011</td>\n",
       "    </tr>\n",
       "    <tr>\n",
       "      <th>116</th>\n",
       "      <td>2018-03-31</td>\n",
       "      <td>1.501500</td>\n",
       "      <td>0.171633</td>\n",
       "      <td>1.908007</td>\n",
       "    </tr>\n",
       "    <tr>\n",
       "      <th>117</th>\n",
       "      <td>2018-06-30</td>\n",
       "      <td>1.478433</td>\n",
       "      <td>-0.023067</td>\n",
       "      <td>1.907998</td>\n",
       "    </tr>\n",
       "    <tr>\n",
       "      <th>118</th>\n",
       "      <td>2018-09-30</td>\n",
       "      <td>1.425100</td>\n",
       "      <td>-0.053333</td>\n",
       "      <td>1.907995</td>\n",
       "    </tr>\n",
       "    <tr>\n",
       "      <th>119</th>\n",
       "      <td>2018-12-31</td>\n",
       "      <td>1.437600</td>\n",
       "      <td>0.012500</td>\n",
       "      <td>1.907996</td>\n",
       "    </tr>\n",
       "    <tr>\n",
       "      <th>120</th>\n",
       "      <td>2019-03-31</td>\n",
       "      <td>1.250367</td>\n",
       "      <td>-0.187233</td>\n",
       "      <td>1.907997</td>\n",
       "    </tr>\n",
       "    <tr>\n",
       "      <th>121</th>\n",
       "      <td>2019-06-30</td>\n",
       "      <td>1.079867</td>\n",
       "      <td>-0.170500</td>\n",
       "      <td>1.907997</td>\n",
       "    </tr>\n",
       "    <tr>\n",
       "      <th>122</th>\n",
       "      <td>2019-09-30</td>\n",
       "      <td>0.668700</td>\n",
       "      <td>-0.411167</td>\n",
       "      <td>1.907997</td>\n",
       "    </tr>\n",
       "    <tr>\n",
       "      <th>123</th>\n",
       "      <td>2019-12-31</td>\n",
       "      <td>0.744367</td>\n",
       "      <td>0.075667</td>\n",
       "      <td>1.907997</td>\n",
       "    </tr>\n",
       "    <tr>\n",
       "      <th>124</th>\n",
       "      <td>2020-03-31</td>\n",
       "      <td>0.605800</td>\n",
       "      <td>-0.138567</td>\n",
       "      <td>1.907997</td>\n",
       "    </tr>\n",
       "    <tr>\n",
       "      <th>125</th>\n",
       "      <td>2020-06-30</td>\n",
       "      <td>0.303333</td>\n",
       "      <td>-0.302467</td>\n",
       "      <td>1.907997</td>\n",
       "    </tr>\n",
       "    <tr>\n",
       "      <th>126</th>\n",
       "      <td>2020-09-30</td>\n",
       "      <td>0.251367</td>\n",
       "      <td>-0.051967</td>\n",
       "      <td>1.907997</td>\n",
       "    </tr>\n",
       "    <tr>\n",
       "      <th>127</th>\n",
       "      <td>2020-12-31</td>\n",
       "      <td>0.337267</td>\n",
       "      <td>0.085900</td>\n",
       "      <td>1.907997</td>\n",
       "    </tr>\n",
       "    <tr>\n",
       "      <th>128</th>\n",
       "      <td>2021-03-31</td>\n",
       "      <td>0.611667</td>\n",
       "      <td>0.274400</td>\n",
       "      <td>1.907997</td>\n",
       "    </tr>\n",
       "    <tr>\n",
       "      <th>129</th>\n",
       "      <td>2021-06-30</td>\n",
       "      <td>0.870733</td>\n",
       "      <td>0.259067</td>\n",
       "      <td>1.907997</td>\n",
       "    </tr>\n",
       "    <tr>\n",
       "      <th>130</th>\n",
       "      <td>2021-09-30</td>\n",
       "      <td>0.714733</td>\n",
       "      <td>-0.156000</td>\n",
       "      <td>1.907997</td>\n",
       "    </tr>\n",
       "    <tr>\n",
       "      <th>131</th>\n",
       "      <td>2021-12-31</td>\n",
       "      <td>0.953300</td>\n",
       "      <td>0.238567</td>\n",
       "      <td>1.907997</td>\n",
       "    </tr>\n",
       "    <tr>\n",
       "      <th>132</th>\n",
       "      <td>2022-03-31</td>\n",
       "      <td>1.413300</td>\n",
       "      <td>0.460000</td>\n",
       "      <td>1.907997</td>\n",
       "    </tr>\n",
       "    <tr>\n",
       "      <th>133</th>\n",
       "      <td>2022-06-30</td>\n",
       "      <td>2.041833</td>\n",
       "      <td>0.628533</td>\n",
       "      <td>1.907997</td>\n",
       "    </tr>\n",
       "    <tr>\n",
       "      <th>134</th>\n",
       "      <td>2022-09-30</td>\n",
       "      <td>2.236600</td>\n",
       "      <td>0.194767</td>\n",
       "      <td>NaN</td>\n",
       "    </tr>\n",
       "  </tbody>\n",
       "</table>\n",
       "</div>"
      ],
      "text/plain": [
       "          DATE  Interest_rate  Interest_rate_diff  predicted_values\n",
       "107 2015-12-31       1.915767           -0.083100          1.896438\n",
       "108 2016-03-31       1.609967           -0.305800          1.900697\n",
       "109 2016-06-30       1.471967           -0.138000          1.907689\n",
       "110 2016-09-30       0.841100           -0.630867          1.909295\n",
       "111 2016-12-31       1.297800            0.456700          1.908506\n",
       "112 2017-03-31       1.306700            0.008900          1.907924\n",
       "113 2017-06-30       1.093667           -0.213033          1.907873\n",
       "114 2017-09-30       1.213000            0.119333          1.907968\n",
       "115 2017-12-31       1.329867            0.116867          1.908011\n",
       "116 2018-03-31       1.501500            0.171633          1.908007\n",
       "117 2018-06-30       1.478433           -0.023067          1.907998\n",
       "118 2018-09-30       1.425100           -0.053333          1.907995\n",
       "119 2018-12-31       1.437600            0.012500          1.907996\n",
       "120 2019-03-31       1.250367           -0.187233          1.907997\n",
       "121 2019-06-30       1.079867           -0.170500          1.907997\n",
       "122 2019-09-30       0.668700           -0.411167          1.907997\n",
       "123 2019-12-31       0.744367            0.075667          1.907997\n",
       "124 2020-03-31       0.605800           -0.138567          1.907997\n",
       "125 2020-06-30       0.303333           -0.302467          1.907997\n",
       "126 2020-09-30       0.251367           -0.051967          1.907997\n",
       "127 2020-12-31       0.337267            0.085900          1.907997\n",
       "128 2021-03-31       0.611667            0.274400          1.907997\n",
       "129 2021-06-30       0.870733            0.259067          1.907997\n",
       "130 2021-09-30       0.714733           -0.156000          1.907997\n",
       "131 2021-12-31       0.953300            0.238567          1.907997\n",
       "132 2022-03-31       1.413300            0.460000          1.907997\n",
       "133 2022-06-30       2.041833            0.628533          1.907997\n",
       "134 2022-09-30       2.236600            0.194767               NaN"
      ]
     },
     "execution_count": 34,
     "metadata": {},
     "output_type": "execute_result"
    }
   ],
   "source": [
    "test"
   ]
  },
  {
   "cell_type": "code",
   "execution_count": 35,
   "id": "e022d33c",
   "metadata": {},
   "outputs": [
    {
     "data": {
      "text/html": [
       "<div>\n",
       "<style scoped>\n",
       "    .dataframe tbody tr th:only-of-type {\n",
       "        vertical-align: middle;\n",
       "    }\n",
       "\n",
       "    .dataframe tbody tr th {\n",
       "        vertical-align: top;\n",
       "    }\n",
       "\n",
       "    .dataframe thead th {\n",
       "        text-align: right;\n",
       "    }\n",
       "</style>\n",
       "<table border=\"1\" class=\"dataframe\">\n",
       "  <thead>\n",
       "    <tr style=\"text-align: right;\">\n",
       "      <th></th>\n",
       "      <th>DATE</th>\n",
       "      <th>Interest_rate</th>\n",
       "      <th>Interest_rate_diff</th>\n",
       "      <th>predicted_values</th>\n",
       "    </tr>\n",
       "  </thead>\n",
       "  <tbody>\n",
       "    <tr>\n",
       "      <th>107</th>\n",
       "      <td>2015-12-31</td>\n",
       "      <td>1.915767</td>\n",
       "      <td>-0.083100</td>\n",
       "      <td>1.896438</td>\n",
       "    </tr>\n",
       "    <tr>\n",
       "      <th>108</th>\n",
       "      <td>2016-03-31</td>\n",
       "      <td>1.609967</td>\n",
       "      <td>-0.305800</td>\n",
       "      <td>1.900697</td>\n",
       "    </tr>\n",
       "    <tr>\n",
       "      <th>109</th>\n",
       "      <td>2016-06-30</td>\n",
       "      <td>1.471967</td>\n",
       "      <td>-0.138000</td>\n",
       "      <td>1.907689</td>\n",
       "    </tr>\n",
       "    <tr>\n",
       "      <th>110</th>\n",
       "      <td>2016-09-30</td>\n",
       "      <td>0.841100</td>\n",
       "      <td>-0.630867</td>\n",
       "      <td>1.909295</td>\n",
       "    </tr>\n",
       "    <tr>\n",
       "      <th>111</th>\n",
       "      <td>2016-12-31</td>\n",
       "      <td>1.297800</td>\n",
       "      <td>0.456700</td>\n",
       "      <td>1.908506</td>\n",
       "    </tr>\n",
       "    <tr>\n",
       "      <th>112</th>\n",
       "      <td>2017-03-31</td>\n",
       "      <td>1.306700</td>\n",
       "      <td>0.008900</td>\n",
       "      <td>1.907924</td>\n",
       "    </tr>\n",
       "    <tr>\n",
       "      <th>113</th>\n",
       "      <td>2017-06-30</td>\n",
       "      <td>1.093667</td>\n",
       "      <td>-0.213033</td>\n",
       "      <td>1.907873</td>\n",
       "    </tr>\n",
       "    <tr>\n",
       "      <th>114</th>\n",
       "      <td>2017-09-30</td>\n",
       "      <td>1.213000</td>\n",
       "      <td>0.119333</td>\n",
       "      <td>1.907968</td>\n",
       "    </tr>\n",
       "    <tr>\n",
       "      <th>115</th>\n",
       "      <td>2017-12-31</td>\n",
       "      <td>1.329867</td>\n",
       "      <td>0.116867</td>\n",
       "      <td>1.908011</td>\n",
       "    </tr>\n",
       "    <tr>\n",
       "      <th>116</th>\n",
       "      <td>2018-03-31</td>\n",
       "      <td>1.501500</td>\n",
       "      <td>0.171633</td>\n",
       "      <td>1.908007</td>\n",
       "    </tr>\n",
       "    <tr>\n",
       "      <th>117</th>\n",
       "      <td>2018-06-30</td>\n",
       "      <td>1.478433</td>\n",
       "      <td>-0.023067</td>\n",
       "      <td>1.907998</td>\n",
       "    </tr>\n",
       "    <tr>\n",
       "      <th>118</th>\n",
       "      <td>2018-09-30</td>\n",
       "      <td>1.425100</td>\n",
       "      <td>-0.053333</td>\n",
       "      <td>1.907995</td>\n",
       "    </tr>\n",
       "    <tr>\n",
       "      <th>119</th>\n",
       "      <td>2018-12-31</td>\n",
       "      <td>1.437600</td>\n",
       "      <td>0.012500</td>\n",
       "      <td>1.907996</td>\n",
       "    </tr>\n",
       "    <tr>\n",
       "      <th>120</th>\n",
       "      <td>2019-03-31</td>\n",
       "      <td>1.250367</td>\n",
       "      <td>-0.187233</td>\n",
       "      <td>1.907997</td>\n",
       "    </tr>\n",
       "    <tr>\n",
       "      <th>121</th>\n",
       "      <td>2019-06-30</td>\n",
       "      <td>1.079867</td>\n",
       "      <td>-0.170500</td>\n",
       "      <td>1.907997</td>\n",
       "    </tr>\n",
       "    <tr>\n",
       "      <th>122</th>\n",
       "      <td>2019-09-30</td>\n",
       "      <td>0.668700</td>\n",
       "      <td>-0.411167</td>\n",
       "      <td>1.907997</td>\n",
       "    </tr>\n",
       "    <tr>\n",
       "      <th>123</th>\n",
       "      <td>2019-12-31</td>\n",
       "      <td>0.744367</td>\n",
       "      <td>0.075667</td>\n",
       "      <td>1.907997</td>\n",
       "    </tr>\n",
       "    <tr>\n",
       "      <th>124</th>\n",
       "      <td>2020-03-31</td>\n",
       "      <td>0.605800</td>\n",
       "      <td>-0.138567</td>\n",
       "      <td>1.907997</td>\n",
       "    </tr>\n",
       "    <tr>\n",
       "      <th>125</th>\n",
       "      <td>2020-06-30</td>\n",
       "      <td>0.303333</td>\n",
       "      <td>-0.302467</td>\n",
       "      <td>1.907997</td>\n",
       "    </tr>\n",
       "    <tr>\n",
       "      <th>126</th>\n",
       "      <td>2020-09-30</td>\n",
       "      <td>0.251367</td>\n",
       "      <td>-0.051967</td>\n",
       "      <td>1.907997</td>\n",
       "    </tr>\n",
       "    <tr>\n",
       "      <th>127</th>\n",
       "      <td>2020-12-31</td>\n",
       "      <td>0.337267</td>\n",
       "      <td>0.085900</td>\n",
       "      <td>1.907997</td>\n",
       "    </tr>\n",
       "    <tr>\n",
       "      <th>128</th>\n",
       "      <td>2021-03-31</td>\n",
       "      <td>0.611667</td>\n",
       "      <td>0.274400</td>\n",
       "      <td>1.907997</td>\n",
       "    </tr>\n",
       "    <tr>\n",
       "      <th>129</th>\n",
       "      <td>2021-06-30</td>\n",
       "      <td>0.870733</td>\n",
       "      <td>0.259067</td>\n",
       "      <td>1.907997</td>\n",
       "    </tr>\n",
       "    <tr>\n",
       "      <th>130</th>\n",
       "      <td>2021-09-30</td>\n",
       "      <td>0.714733</td>\n",
       "      <td>-0.156000</td>\n",
       "      <td>1.907997</td>\n",
       "    </tr>\n",
       "    <tr>\n",
       "      <th>131</th>\n",
       "      <td>2021-12-31</td>\n",
       "      <td>0.953300</td>\n",
       "      <td>0.238567</td>\n",
       "      <td>1.907997</td>\n",
       "    </tr>\n",
       "    <tr>\n",
       "      <th>132</th>\n",
       "      <td>2022-03-31</td>\n",
       "      <td>1.413300</td>\n",
       "      <td>0.460000</td>\n",
       "      <td>1.907997</td>\n",
       "    </tr>\n",
       "    <tr>\n",
       "      <th>133</th>\n",
       "      <td>2022-06-30</td>\n",
       "      <td>2.041833</td>\n",
       "      <td>0.628533</td>\n",
       "      <td>1.907997</td>\n",
       "    </tr>\n",
       "  </tbody>\n",
       "</table>\n",
       "</div>"
      ],
      "text/plain": [
       "          DATE  Interest_rate  Interest_rate_diff  predicted_values\n",
       "107 2015-12-31       1.915767           -0.083100          1.896438\n",
       "108 2016-03-31       1.609967           -0.305800          1.900697\n",
       "109 2016-06-30       1.471967           -0.138000          1.907689\n",
       "110 2016-09-30       0.841100           -0.630867          1.909295\n",
       "111 2016-12-31       1.297800            0.456700          1.908506\n",
       "112 2017-03-31       1.306700            0.008900          1.907924\n",
       "113 2017-06-30       1.093667           -0.213033          1.907873\n",
       "114 2017-09-30       1.213000            0.119333          1.907968\n",
       "115 2017-12-31       1.329867            0.116867          1.908011\n",
       "116 2018-03-31       1.501500            0.171633          1.908007\n",
       "117 2018-06-30       1.478433           -0.023067          1.907998\n",
       "118 2018-09-30       1.425100           -0.053333          1.907995\n",
       "119 2018-12-31       1.437600            0.012500          1.907996\n",
       "120 2019-03-31       1.250367           -0.187233          1.907997\n",
       "121 2019-06-30       1.079867           -0.170500          1.907997\n",
       "122 2019-09-30       0.668700           -0.411167          1.907997\n",
       "123 2019-12-31       0.744367            0.075667          1.907997\n",
       "124 2020-03-31       0.605800           -0.138567          1.907997\n",
       "125 2020-06-30       0.303333           -0.302467          1.907997\n",
       "126 2020-09-30       0.251367           -0.051967          1.907997\n",
       "127 2020-12-31       0.337267            0.085900          1.907997\n",
       "128 2021-03-31       0.611667            0.274400          1.907997\n",
       "129 2021-06-30       0.870733            0.259067          1.907997\n",
       "130 2021-09-30       0.714733           -0.156000          1.907997\n",
       "131 2021-12-31       0.953300            0.238567          1.907997\n",
       "132 2022-03-31       1.413300            0.460000          1.907997\n",
       "133 2022-06-30       2.041833            0.628533          1.907997"
      ]
     },
     "execution_count": 35,
     "metadata": {},
     "output_type": "execute_result"
    }
   ],
   "source": [
    "test = test.dropna()\n",
    "test"
   ]
  },
  {
   "cell_type": "code",
   "execution_count": 36,
   "id": "efa12291",
   "metadata": {},
   "outputs": [
    {
     "data": {
      "text/plain": [
       "[<matplotlib.lines.Line2D at 0x25d6cfb29d0>]"
      ]
     },
     "execution_count": 36,
     "metadata": {},
     "output_type": "execute_result"
    },
    {
     "data": {
      "image/png": "[encoded data removed]",
      "text/plain": [
       "<Figure size 921.6x518.4 with 1 Axes>"
      ]
     },
     "metadata": {
      "needs_background": "light"
     },
     "output_type": "display_data"
    }
   ],
   "source": [
    "plt.plot(train['Interest_rate'], color = 'Blue', label = \"Train\")\n",
    "plt.plot(test['Interest_rate'], color = 'Green', label = \"Test\")\n",
    "plt.plot(test['predicted_values'], color ='Red', label = \"Prediction\")\n",
    "plt.plot(results.fittedvalues, color='Orange')"
   ]
  },
  {
   "cell_type": "code",
   "execution_count": 37,
   "id": "b236364e",
   "metadata": {},
   "outputs": [
    {
     "name": "stdout",
     "output_type": "stream",
     "text": [
      "The MAPE for Model Accuracy(test) is 0.8622008219882467\n",
      "The MAPE for Model fit(train) is 0.06833759876304248\n"
     ]
    }
   ],
   "source": [
    "MAPE_test=metrics.mean_squared_error(test['Interest_rate'], test['predicted_values'])\n",
    "MAPE_train=metrics.mean_absolute_percentage_error(train['Interest_rate'], results.fittedvalues)\n",
    "print(\"The MAPE for Model Accuracy(test) is\",MAPE_test)\n",
    "print(\"The MAPE for Model fit(train) is\",MAPE_train)"
   ]
  },
  {
   "cell_type": "markdown",
   "id": "3299750c",
   "metadata": {},
   "source": [
    "### The predicted values are not able to identify the curves in the graph and are graphed as more of a straight line. The MAPE for model fit is low showing that it is able to fit to the train data well. Model accuracy is high which is not good, meaning that the model is not able to fit the test data well. "
   ]
  },
  {
   "cell_type": "markdown",
   "id": "02526390",
   "metadata": {},
   "source": [
    "## Among the Holt's, Damped, simple regression, and ARIMA, Holt's model performed better. So we now forecast the Interest rate for next two quarter using Holt's Linear Trend model."
   ]
  },
  {
   "cell_type": "markdown",
   "id": "e4145f74",
   "metadata": {},
   "source": [
    "# Model Predictions for next two quarters "
   ]
  },
  {
   "cell_type": "code",
   "execution_count": 65,
   "id": "59a84857",
   "metadata": {},
   "outputs": [
    {
     "name": "stderr",
     "output_type": "stream",
     "text": [
      "C:\\Users\\Students\\anaconda3\\lib\\site-packages\\statsmodels\\tsa\\base\\tsa_model.py:471: ValueWarning: An unsupported index was provided and will be ignored when e.g. forecasting.\n",
      "  self._init_dates(dates, freq)\n",
      "C:\\Users\\Students\\anaconda3\\lib\\site-packages\\statsmodels\\tsa\\base\\tsa_model.py:834: ValueWarning: No supported index is available. Prediction results will be given with an integer index beginning at `start`.\n",
      "  return get_prediction_index(\n"
     ]
    }
   ],
   "source": [
    "fit_holt = ExponentialSmoothing(df_Interest['Interest_rate'],trend='add',seasonal=None).fit()\n",
    "fcast_holt = fit_holt.forecast(2)"
   ]
  },
  {
   "cell_type": "code",
   "execution_count": 66,
   "id": "925569e8",
   "metadata": {},
   "outputs": [
    {
     "data": {
      "text/html": [
       "<div>\n",
       "<style scoped>\n",
       "    .dataframe tbody tr th:only-of-type {\n",
       "        vertical-align: middle;\n",
       "    }\n",
       "\n",
       "    .dataframe tbody tr th {\n",
       "        vertical-align: top;\n",
       "    }\n",
       "\n",
       "    .dataframe thead th {\n",
       "        text-align: right;\n",
       "    }\n",
       "</style>\n",
       "<table border=\"1\" class=\"dataframe\">\n",
       "  <thead>\n",
       "    <tr style=\"text-align: right;\">\n",
       "      <th></th>\n",
       "      <th>Interest_rate</th>\n",
       "    </tr>\n",
       "  </thead>\n",
       "  <tbody>\n",
       "    <tr>\n",
       "      <th>134</th>\n",
       "      <td>2.175977</td>\n",
       "    </tr>\n",
       "    <tr>\n",
       "      <th>135</th>\n",
       "      <td>2.115355</td>\n",
       "    </tr>\n",
       "  </tbody>\n",
       "</table>\n",
       "</div>"
      ],
      "text/plain": [
       "     Interest_rate\n",
       "134       2.175977\n",
       "135       2.115355"
      ]
     },
     "execution_count": 66,
     "metadata": {},
     "output_type": "execute_result"
    }
   ],
   "source": [
    "fcast_holt =  fcast_holt.to_frame()\n",
    "fcast_holt.columns = ['Interest_rate']\n",
    "fcast_holt"
   ]
  }
 ],
 "metadata": {
  "kernelspec": {
   "display_name": "Python 3 (ipykernel)",
   "language": "python",
   "name": "python3"
  },
  "language_info": {
   "codemirror_mode": {
    "name": "ipython",
    "version": 3
   },
   "file_extension": ".py",
   "mimetype": "text/x-python",
   "name": "python",
   "nbconvert_exporter": "python",
   "pygments_lexer": "ipython3",
   "version": "3.9.12"
  }
 },
 "nbformat": 4,
 "nbformat_minor": 5
}
